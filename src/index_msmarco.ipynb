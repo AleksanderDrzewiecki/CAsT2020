{
 "cells": [
  {
   "cell_type": "markdown",
   "metadata": {},
   "source": [
    "# Index MS Marco dateset"
   ]
  },
  {
   "cell_type": "code",
   "execution_count": 4,
   "metadata": {},
   "outputs": [],
   "source": [
    "from elasticsearch import Elasticsearch\n",
    "from typing import Dict, List, Optional\n",
    "import json\n",
    "from trec_tools.trec_car.read_data import *\n",
    "import ipytest\n",
    "import pytest\n",
    "\n",
    "ipytest.autoconfig()"
   ]
  },
  {
   "cell_type": "code",
   "execution_count": 10,
   "metadata": {},
   "outputs": [],
   "source": [
    "INDEX_SETTINGS = {\n",
    "    \"mappings\": {  \n",
    "    \"properties\": {\n",
    "        \"passage\": {\"type\": \"text\", \"term_vector\": \"yes\", \"analyzer\": \"english\"},\n",
    "        \"origin\": {\"type\": \"text\"}\n",
    "    }\n",
    "    }\n",
    "}"
   ]
  },
  {
   "cell_type": "code",
   "execution_count": 6,
   "metadata": {},
   "outputs": [],
   "source": [
    "INDEX_NAME = \"cast_base\""
   ]
  },
  {
   "cell_type": "code",
   "execution_count": 5,
   "metadata": {},
   "outputs": [],
   "source": [
    "es = Elasticsearch()"
   ]
  },
  {
   "cell_type": "code",
   "execution_count": 13,
   "metadata": {},
   "outputs": [
    {
     "name": "stderr",
     "output_type": "stream",
     "text": [
      "C:\\Users\\jafar\\anaconda3\\envs\\DAT640\\lib\\site-packages\\ipykernel_launcher.py:1: DeprecationWarning: Using positional arguments for APIs is deprecated and will be disabled in 8.0.0. Instead use only keyword arguments for all APIs. See https://github.com/elastic/elasticsearch-py/issues/1698 for more information\n",
      "  \"\"\"Entry point for launching an IPython kernel.\n",
      "C:\\Users\\jafar\\anaconda3\\envs\\DAT640\\lib\\site-packages\\elasticsearch\\connection\\base.py:209: ElasticsearchWarning: Elasticsearch built-in security features are not enabled. Without authentication, your cluster could be accessible to anyone. See https://www.elastic.co/guide/en/elasticsearch/reference/7.15/security-minimal-setup.html to enable security.\n",
      "  warnings.warn(message, category=ElasticsearchWarning)\n",
      "C:\\Users\\jafar\\anaconda3\\envs\\DAT640\\lib\\site-packages\\ipykernel_launcher.py:3: DeprecationWarning: The 'body' parameter is deprecated for the 'create' API and will be removed in a future version. Instead use API parameters directly. See https://github.com/elastic/elasticsearch-py/issues/1698 for more information\n",
      "  This is separate from the ipykernel package so we can avoid doing imports until\n"
     ]
    },
    {
     "data": {
      "text/plain": [
       "{'acknowledged': True, 'shards_acknowledged': True, 'index': 'cast_base'}"
      ]
     },
     "execution_count": 13,
     "metadata": {},
     "output_type": "execute_result"
    }
   ],
   "source": [
    "# if es.indices.exists(INDEX_NAME):\n",
    "#     es.indices.delete(index=INDEX_NAME)\n",
    "# es.indices.create(index=INDEX_NAME, body=INDEX_SETTINGS)"
   ]
  },
  {
   "cell_type": "code",
   "execution_count": 8,

   "metadata": {},
   "outputs": [],
   "source": [
    "def index_msmarco(filepath: str, es: Elasticsearch, index: str, car:bool = False) -> None:\n",
    "    \"\"\"Indexes documents from JSONL file.\"\"\"\n",
    "    bulk_data = []\n",
    "    with open(filepath, \"r\",encoding=\"utf-8\") as docs:\n",
    "        for i,line in enumerate(docs):\n",
    "            s = line.split(\"\\t\")\n",
    "            id = s[0]\n",
    "            passage = s[1].strip()\n",
    "            bulk_data.append(\n",
    "                {\"index\":{\"_index\": index, \"_id\": id}}\n",
    "            )\n",
    "            bulk_data.append({\"passage\":passage,\"origin\":\"msmarco\"})\n",
    "            if i%2000==0:\n",
    "                es.bulk(index=index, body=bulk_data, refresh=True)\n",
    "                bulk_data = []\n",
    "        es.bulk(index=index,body=bulk_data, refresh=True)\n",
    "        bulk_data = []\n",
    "        para_cnt = 0\n",
    "    if car:\n",
    "        for para in iter_paragraphs(open('../data/dedup.articles-paragraphs.cbor', 'rb')):\n",
    "            para_cnt += 1\n",
    "            bulk_data.append({\"index\":{\"_index\": index, \"_id\": para.para_id}})\n",
    "            bulk_data.append({\"passage\":para.get_text(),\"origin\":\"car\"})\n",
    "            if para_cnt%2000==0:\n",
    "                es.bulk(index=index, body=bulk_data, refresh=True)\n",
    "                bulk_data = []\n",
    "    return \"finished\""
   ]
  },
  {
   "cell_type": "code",
   "execution_count": 15,

   "metadata": {},
   "outputs": [
    {
     "data": {
      "text/plain": [
       "'finished'"
      ]
     },
     "execution_count": 15,
     "metadata": {},
     "output_type": "execute_result"
    }
   ],
   "source": [
    "index_msmarco(filepath = \"../data/collection.tsv\", es = es, index = INDEX_NAME, car=False)"
   ]
  },
  {
   "cell_type": "code",
   "execution_count": 7,
   "metadata": {},
   "outputs": [
    {
     "name": "stderr",
     "output_type": "stream",
     "text": [
      "C:\\Users\\jafar\\anaconda3\\envs\\DAT640\\lib\\site-packages\\elasticsearch\\connection\\base.py:209: ElasticsearchWarning: Elasticsearch built-in security features are not enabled. Without authentication, your cluster could be accessible to anyone. See https://www.elastic.co/guide/en/elasticsearch/reference/7.15/security-minimal-setup.html to enable security.\n",
      "  warnings.warn(message, category=ElasticsearchWarning)\n"
     ]
    },
    {
     "data": {
      "text/plain": [
       "{'_index': 'cast_base',\n",
       " '_type': '_doc',\n",
       " '_id': '8840824',\n",
       " '_version': 1,\n",
       " '_seq_no': 8840824,\n",
       " '_primary_term': 1,\n",
       " 'found': True,\n",
       " '_source': {'passage': 'H 2 and C are the reducing agents(note: H 2 is oxidized, so CuO is an oxidizing agent) Oxidation-Reduction Reactions In all cases: â\\x80¢ If something is oxidized, something must be reduced. â\\x80¢ Redox reactions move e - .2Ag + (aq) + Cu(s) 2 Ag(s) + Cu 2+ (aq) â\\x80¢ OOxxidation-reduction = redox.Here: â\\x80¢ Cu changes to Cu 2+ .',\n",
       "  'origin': 'msmarco'}}"
      ]
     },
     "execution_count": 7,
     "metadata": {},
     "output_type": "execute_result"
    }
   ],
   "source": [
    "es.get(index=INDEX_NAME, id=\"8840824\")"
   ]
  },
  {
   "cell_type": "code",
   "execution_count": 3,
   "metadata": {},
   "outputs": [
    {
     "name": "stdout",
     "output_type": "stream",
     "text": [
      "8841822 View full size image. Behind the scenes of the dazzling light shows that spectators ooh and ahh at on the Fourth of July, are carefully crafted fireworks. Whether red, white and blue fountains or purple sparklers, each firework is packed with just the right mix of chemicals to create these colorful lights. Inside each handmade firework are small packets filled with special chemicals, mainly metal salts and metal oxides, which react to produce an array of colors.\n"
     ]
    }
   ],
   "source": [
    "with open(\"../data/collection.tsv\", \"r\",encoding=\"utf-8\") as docs:\n",
    "    for i,line in enumerate(docs):\n",
    "        s = line.split(\"\\t\")\n",
    "        id = s[0]\n",
    "        passage = s[1].strip()\n",
    "print(id, passage)\n"
   ]
  }
 ],
 "metadata": {
  "interpreter": {
   "hash": "cd14fd67b6e04dc75a62665c7f630abe1747664dae3d4c5a81ce4213693fd44a"
  },
  "kernelspec": {
   "display_name": "Python 3.9.7 64-bit ('ele510': conda)",
   "language": "python",
   "name": "python3"
  },
  "language_info": {
   "codemirror_mode": {
    "name": "ipython",
    "version": 3
   },
   "file_extension": ".py",
   "mimetype": "text/x-python",
   "name": "python",
   "nbconvert_exporter": "python",
   "pygments_lexer": "ipython3",
   "version": "3.7.11"
  },
  "orig_nbformat": 4
 },
 "nbformat": 4,
 "nbformat_minor": 2
}
