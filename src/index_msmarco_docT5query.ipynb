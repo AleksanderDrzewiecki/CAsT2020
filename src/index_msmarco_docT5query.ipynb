{
 "cells": [
  {
   "cell_type": "markdown",
   "metadata": {},
   "source": [
    "# Index MS Marco dateset with docT5query\n",
    "\n",
    "* https://github.com/castorini/docTTTTTquery#Predicting-Queries-from-Passages-T5-Inference-with-PyTorch"
   ]
  },
  {
   "cell_type": "code",
   "execution_count": 3,
   "metadata": {},
   "outputs": [],
   "source": [
    "from elasticsearch import Elasticsearch\n",
    "import logging\n",
    "from typing import Dict, List, Optional\n",
    "import json\n",
    "#from trec_tools.trec_car.read_data import *\n",
    "\n",
    "import torch\n",
    "from transformers import T5Tokenizer, T5ForConditionalGeneration\n",
    "\n"
   ]
  },
  {
   "cell_type": "code",
   "execution_count": 4,
   "metadata": {},
   "outputs": [],
   "source": [
    "INDEX_SETTINGS = {\n",
    "    \"mappings\": {  \n",
    "    \"properties\": {\n",
    "        \"passage\": {\"type\": \"text\", \"term_vector\": \"yes\", \"analyzer\": \"english\"},\n",
    "        \"origin\": {\"type\": \"text\"}\n",
    "    }\n",
    "    }\n",
    "}"
   ]
  },
  {
   "cell_type": "code",
   "execution_count": 5,
   "metadata": {},
   "outputs": [],
   "source": [
    "INDEX_NAME = \"cast_d2q\""
   ]
  },
  {
   "cell_type": "code",
   "execution_count": 6,
   "metadata": {},
   "outputs": [],
   "source": [
    "es = Elasticsearch()\n",
    "es_logger = logging.getLogger('elasticsearch')\n",
    "es_logger.setLevel(logging.WARNING)"
   ]
  },
  {
   "cell_type": "code",
   "execution_count": 7,
   "metadata": {},
   "outputs": [
    {
     "name": "stderr",
     "output_type": "stream",
     "text": [
      "/Users/aleksanderdrzewiecki/.local/lib/python3.8/site-packages/elasticsearch/connection/base.py:190: ElasticsearchDeprecationWarning: Elasticsearch built-in security features are not enabled. Without authentication, your cluster could be accessible to anyone. See https://www.elastic.co/guide/en/elasticsearch/reference/7.15/security-minimal-setup.html to enable security.\n",
      "  warnings.warn(message, category=ElasticsearchDeprecationWarning)\n"
     ]
    },
    {
     "data": {
      "text/plain": [
       "{'acknowledged': True, 'shards_acknowledged': True, 'index': 'cast_doct5query'}"
      ]
     },
     "execution_count": 7,
     "metadata": {},
     "output_type": "execute_result"
    }
   ],
   "source": [
    "if es.indices.exists(INDEX_NAME):\n",
    "    es.indices.delete(index=INDEX_NAME)\n",
    "es.indices.create(index=INDEX_NAME, body=INDEX_SETTINGS)"
   ]
  },
  {
   "cell_type": "code",
   "execution_count": 13,
   "metadata": {},
   "outputs": [],
   "source": [
    "def index_msmarco_doct5query(filepath: str, es: Elasticsearch, index: str, car:bool = False) -> None:\n",
    "    \"\"\"Indexes documents from JSONL file.\"\"\"\n",
    "    # Init docT5query\n",
    "    device = torch.device('cuda' if torch.cuda.is_available() else 'cpu')\n",
    "    tokenizer = T5Tokenizer.from_pretrained('castorini/doc2query-t5-base-msmarco')\n",
    "    model = T5ForConditionalGeneration.from_pretrained('castorini/doc2query-t5-base-msmarco')\n",
    "    model.to(device) \n",
    "\n",
    "\n",
    "    # Index and process\n",
    "    bulk_data = []\n",
    "    with open(filepath, \"r\",encoding=\"utf-8\") as docs:\n",
    "        for i,line in enumerate(docs):\n",
    "            print(\"number: {}\".format(i))\n",
    "            s = line.split(\"\\t\")\n",
    "            id = s[0]\n",
    "            passage = s[1].strip()\n",
    "\n",
    "            # docT5query\n",
    "            input_ids = tokenizer.encode(passage, return_tensors='pt').to(device)\n",
    "            outputs = model.generate(\n",
    "                input_ids=input_ids,\n",
    "                max_length=64,\n",
    "                do_sample=True,\n",
    "                top_k=10,\n",
    "                num_return_sequences=3)\n",
    "            \n",
    "            passage += \" ?\".join([tokenizer.decode(outputs[i], skip_special_tokens=True) for i in range(3)])\n",
    "                \n",
    "            bulk_data.append(\n",
    "                {\"index\":{\"_index\": index, \"_id\": id}}\n",
    "            )\n",
    "            bulk_data.append({\"passage\":passage,\"origin\":\"msmarco\"})\n",
    "            if i%2000==0:\n",
    "                es.bulk(index=index, body=bulk_data, refresh=True)\n",
    "                bulk_data = []\n",
    "        es.bulk(index=index,body=bulk_data, refresh=True)\n",
    "        bulk_data = []\n",
    "        para_cnt = 0\n",
    "    if car:\n",
    "        for para in iter_paragraphs(open('../data/dedup.articles-paragraphs.cbor', 'rb')):\n",
    "            para_cnt += 1\n",
    "            bulk_data.append({\"index\":{\"_index\": index, \"_id\": para.para_id}})\n",
    "            bulk_data.append({\"passage\":para.get_text(),\"origin\":\"car\"})\n",
    "            if para_cnt%2000==0:\n",
    "                es.bulk(index=index, body=bulk_data, refresh=True)\n",
    "                bulk_data = []\n",
    "    return \"finished\""
   ]
  },
  {
   "cell_type": "code",
   "execution_count": 14,
   "metadata": {},
   "outputs": [
    {
     "name": "stdout",
     "output_type": "stream",
     "text": [
      "number: 0\n",
      "number: 1\n",
      "number: 2\n",
      "number: 3\n",
      "number: 4\n",
      "number: 5\n",
      "number: 6\n",
      "number: 7\n",
      "number: 8\n",
      "number: 9\n",
      "number: 10\n",
      "number: 11\n",
      "number: 12\n",
      "number: 13\n",
      "number: 14\n",
      "number: 15\n",
      "number: 16\n",
      "number: 17\n",
      "number: 18\n",
      "number: 19\n",
      "number: 20\n",
      "number: 21\n",
      "number: 22\n",
      "number: 23\n",
      "number: 24\n",
      "number: 25\n",
      "number: 26\n",
      "number: 27\n"
     ]
    }
   ],
   "source": [
    "index_msmarco_doct5query(filepath = \"../data/passages1000.tsv\", es = es, index = INDEX_NAME, car=False)"
   ]
  },
  {
   "cell_type": "code",
   "execution_count": 9,
   "metadata": {},
   "outputs": [
    {
     "data": {
      "text/plain": [
       "{'_index': 'cast_base',\n",
       " '_type': '_doc',\n",
       " '_id': '8840824',\n",
       " '_version': 1,\n",
       " '_seq_no': 1,\n",
       " '_primary_term': 1,\n",
       " 'found': True,\n",
       " '_source': {'passage': 'H 2 and C are the reducing agents(note: H 2 is oxidized, so CuO is an oxidizing agent) Oxidation-Reduction Reactions In all cases: â\\x80¢ If something is oxidized, something must be reduced. â\\x80¢ Redox reactions move e - .2Ag + (aq) + Cu(s) 2 Ag(s) + Cu 2+ (aq) â\\x80¢ OOxxidation-reduction = redox.Here: â\\x80¢ Cu changes to Cu 2+ .',\n",
       "  'origin': 'msmarco'}}"
      ]
     },
     "execution_count": 9,
     "metadata": {},
     "output_type": "execute_result"
    }
   ],
   "source": [
    "es.get(index=INDEX_NAME, id=\"8840824\")"
   ]
  }
 ],
 "metadata": {
  "interpreter": {
   "hash": "cd14fd67b6e04dc75a62665c7f630abe1747664dae3d4c5a81ce4213693fd44a"
  },
  "kernelspec": {
   "display_name": "Python 3.9.7 64-bit ('ele510': conda)",
   "language": "python",
   "name": "python3"
  },
  "language_info": {
   "codemirror_mode": {
    "name": "ipython",
    "version": 3
   },
   "file_extension": ".py",
   "mimetype": "text/x-python",
   "name": "python",
   "nbconvert_exporter": "python",
   "pygments_lexer": "ipython3",
   "version": "3.8.5"
  },
  "orig_nbformat": 4
 },
 "nbformat": 4,
 "nbformat_minor": 2
}
