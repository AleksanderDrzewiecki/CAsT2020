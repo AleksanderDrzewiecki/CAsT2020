{
 "cells": [
  {
   "cell_type": "markdown",
   "metadata": {},
   "source": [
    "# CAsT Session"
   ]
  },
  {
   "cell_type": "code",
   "execution_count": 1,
   "metadata": {},
   "outputs": [
    {
     "ename": "ModuleNotFoundError",
     "evalue": "No module named 'protobuf'",
     "output_type": "error",
     "traceback": [
      "\u001b[0;31m---------------------------------------------------------------------------\u001b[0m",
      "\u001b[0;31mModuleNotFoundError\u001b[0m                       Traceback (most recent call last)",
      "\u001b[0;32m/var/folders/9c/qnbpggzx09q06mddxfqxb2yw0000gn/T/ipykernel_17415/3975684288.py\u001b[0m in \u001b[0;36m<module>\u001b[0;34m\u001b[0m\n\u001b[0;32m----> 1\u001b[0;31m \u001b[0;32mimport\u001b[0m \u001b[0mprotobuf\u001b[0m\u001b[0;34m\u001b[0m\u001b[0;34m\u001b[0m\u001b[0m\n\u001b[0m",
      "\u001b[0;31mModuleNotFoundError\u001b[0m: No module named 'protobuf'"
     ]
    }
   ],
   "source": [
    "import protobuf"
   ]
  },
  {
   "cell_type": "code",
   "execution_count": 2,
   "metadata": {},
   "outputs": [],
   "source": [
    "from transformers import AutoTokenizer, AutoModelForSeq2SeqLM"
   ]
  },
  {
   "cell_type": "code",
   "execution_count": 3,
   "metadata": {},
   "outputs": [],
   "source": [
    "from elasticsearch import Elasticsearch\n",
    "from typing import Dict, List, Optional\n",
    "import json\n",
    "\n",
    "import ipytest\n",
    "import pytest\n",
    "\n",
    "ipytest.autoconfig()"
   ]
  },
  {
   "cell_type": "code",
   "execution_count": 4,
   "metadata": {},
   "outputs": [],
   "source": [
    "INDEX_NAME = \"cast_base\"\n",
    "es = Elasticsearch()"
   ]
  },
  {
   "cell_type": "markdown",
   "metadata": {},
   "source": [
    "## T5 testing"
   ]
  },
  {
   "cell_type": "code",
   "execution_count": 5,
   "metadata": {},
   "outputs": [
    {
     "name": "stderr",
     "output_type": "stream",
     "text": [
      "Downloading: 100%|██████████| 850M/850M [00:43<00:00, 20.5MB/s]\n"
     ]
    }
   ],
   "source": [
    "tokenizer = AutoTokenizer.from_pretrained(\"castorini/t5-base-canard\")\n",
    "\n",
    "model = AutoModelForSeq2SeqLM.from_pretrained(\"castorini/t5-base-canard\")"
   ]
  },
  {
   "cell_type": "code",
   "execution_count": 17,
   "metadata": {},
   "outputs": [
    {
     "name": "stdout",
     "output_type": "stream",
     "text": [
      "Is Jafar funny?\n"
     ]
    }
   ],
   "source": [
    "input_ids = tokenizer('Jafar is funny. <sep> Is he funny?', return_tensors='pt').input_ids\n",
    "outputs = model.generate(input_ids)\n",
    "print(tokenizer.decode(outputs[0], skip_special_tokens=True))"
   ]
  },
  {
   "cell_type": "markdown",
   "metadata": {},
   "source": [
    "## Framework"
   ]
  },
  {
   "cell_type": "code",
   "execution_count": 177,
   "metadata": {},
   "outputs": [],
   "source": [
    "class CAsT():\n",
    "    def __init__(self, context_queries: int = 0, context_responses: int = 0) -> None:\n",
    "        self.INDEX_NAME = \"cast_base\"\n",
    "        self.es = Elasticsearch()\n",
    "        self.queries = []\n",
    "        self.responses = []\n",
    "        self.context_queries = context_queries\n",
    "        self.context_responses = context_responses\n",
    "\n",
    "        self.tokenizer = AutoTokenizer.from_pretrained(\n",
    "            \"castorini/t5-base-canard\")\n",
    "        self.model = AutoModelForSeq2SeqLM.from_pretrained(\n",
    "            \"castorini/t5-base-canard\")\n",
    "\n",
    "    def clear_context(self, clear_queries: bool = True, clear_responses: bool = True):\n",
    "        if clear_queries:\n",
    "            self.queries = []\n",
    "        if clear_responses:\n",
    "            self.responses = []\n",
    "\n",
    "    def query(self, q: str) -> str:\n",
    "        \"\"\" \n",
    "            returns: passage_id NOTE: for now complete hit is returned\n",
    "        \"\"\"\n",
    "        sep = \" <sep>\"\n",
    "        qs = []\n",
    "        if self.context_queries > 0 or self.context_responses > 0:\n",
    "            for i in range(1, max(self.context_queries, self.context_responses)+1):\n",
    "                if i <= self.context_queries:\n",
    "                    if len(self.queries) >= i:\n",
    "                        qs.insert(0,self.queries[-i])\n",
    "\n",
    "                if i <= self.context_responses:\n",
    "                    if len(self.responses) >= i:\n",
    "                        qs.insert(0,self.responses[-i])\n",
    "        qs.append(q)\n",
    "\n",
    "        input_ids = tokenizer(sep.join(qs), return_tensors='pt').input_ids\n",
    "        outputs = model.generate(input_ids)\n",
    "\n",
    "        query = tokenizer.decode(outputs[0], skip_special_tokens=True)\n",
    "        self.queries.append(query)  # * Adding reformated query to context\n",
    "\n",
    "        hits = es.search(\n",
    "            index=self.INDEX_NAME, q=query, _source=True, size=100\n",
    "        ).get(\"hits\", {}).get(\"hits\")\n",
    "\n",
    "        if len(hits) > 0:\n",
    "            print(\"Query: \" + query)\n",
    "            self.responses.append(hits[0].get(\"_source\").get(\"passage\"))\n",
    "            return hits[:500]\n",
    "        else:\n",
    "            return []\n"
   ]
  },
  {
   "cell_type": "markdown",
   "metadata": {},
   "source": [
    "### Framework tests"
   ]
  },
  {
   "cell_type": "code",
   "execution_count": 164,
   "metadata": {},
   "outputs": [
    {
     "data": {
      "text/plain": [
       "[3, 2, 1]"
      ]
     },
     "execution_count": 164,
     "metadata": {},
     "output_type": "execute_result"
    }
   ],
   "source": [
    "A = []\n",
    "A.insert(0,1)\n",
    "A.insert(0,2)\n",
    "A.insert(0,3)\n",
    "A"
   ]
  },
  {
   "cell_type": "code",
   "execution_count": 140,
   "metadata": {},
   "outputs": [],
   "source": [
    "test = CAsT()"
   ]
  },
  {
   "cell_type": "code",
   "execution_count": 141,
   "metadata": {},
   "outputs": [
    {
     "name": "stdout",
     "output_type": "stream",
     "text": [
      "Entered 'i <= context_queries:'\n",
      "Query: Tell me about Oslo?\n"
     ]
    },
    {
     "name": "stderr",
     "output_type": "stream",
     "text": [
      "/Users/aleksanderdrzewiecki/opt/anaconda3/envs/ele510/lib/python3.9/site-packages/elasticsearch/connection/base.py:209: ElasticsearchWarning: Elasticsearch built-in security features are not enabled. Without authentication, your cluster could be accessible to anyone. See https://www.elastic.co/guide/en/elasticsearch/reference/7.15/security-minimal-setup.html to enable security.\n",
      "  warnings.warn(message, category=ElasticsearchWarning)\n"
     ]
    },
    {
     "data": {
      "text/plain": [
       "{'_index': 'cast_base',\n",
       " '_type': '_doc',\n",
       " '_id': '8841272',\n",
       " '_score': 9.102427,\n",
       " '_source': {'passage': \"Tell a friend about us, add a link to this page, or visit the webmaster's page for free fun content. Link to this page: <a href=http://acronyms.thefreedictionary.com/South+African+Board+for+Personnel+Practice>SABPP</a>. Facebook.\"}}"
      ]
     },
     "execution_count": 141,
     "metadata": {},
     "output_type": "execute_result"
    }
   ],
   "source": [
    "test.query(\"Tell me about Oslo?\", context_queries=1)"
   ]
  },
  {
   "cell_type": "code",
   "execution_count": 142,
   "metadata": {},
   "outputs": [
    {
     "name": "stdout",
     "output_type": "stream",
     "text": [
      "Entered 'i <= context_queries:'\n",
      "Entered 'len(self.queries) >= i:'\n",
      "Query: Where is Oslo located?\n"
     ]
    },
    {
     "data": {
      "text/plain": [
       "{'_index': 'cast_base',\n",
       " '_type': '_doc',\n",
       " '_id': '8841012',\n",
       " '_score': 4.786257,\n",
       " '_source': {'passage': 'Refraction of Sound. Refraction is the bending of waves when they enter a medium where their speed is different. Refraction is not so important a phenomenon with sound as it is with light where it is responsible for image formation by lenses, the eye, cameras, etc.But bending of sound waves does occur and is an interesting phenomena in sound.efraction of Sound. Refraction is the bending of waves when they enter a medium where their speed is different. Refraction is not so important a phenomenon with sound as it is with light where it is responsible for image formation by lenses, the eye, cameras, etc.'}}"
      ]
     },
     "execution_count": 142,
     "metadata": {},
     "output_type": "execute_result"
    }
   ],
   "source": [
    "test.query(\"Where is it?\", context_queries=1)"
   ]
  },
  {
   "cell_type": "code",
   "execution_count": null,
   "metadata": {},
   "outputs": [],
   "source": []
  },
  {
   "cell_type": "markdown",
   "metadata": {},
   "source": [
    "## Run Queries"
   ]
  },
  {
   "cell_type": "code",
   "execution_count": 172,
   "metadata": {},
   "outputs": [],
   "source": [
    "path = \"../eval/2020_automatic_evaluation_topics_v1.0.json\"\n",
    "key = \"raw_utterance\"\n",
    "queries = json.load(open(path))"
   ]
  },
  {
   "cell_type": "code",
   "execution_count": 178,
   "metadata": {},
   "outputs": [],
   "source": [
    "def run_queries(query_file: str, key: str, CAsT: object, run_id: str):\n",
    "\n",
    "    queries = json.load(open(query_file))\n",
    "    if queries[0].get(\"turn\", {})[0].get(key) is None:\n",
    "        raise KeyError(\"Provided key: \" + key +\n",
    "                       \"is not a valid key for queryfile\")\n",
    "\n",
    "    f = open(run_id + \".txt\", \"w\")\n",
    "\n",
    "    for topic in queries:\n",
    "        CAsT.clear_context()\n",
    "        topic_id = topic.get(\"number\")\n",
    "        for turn in topic.get(\"turn\"):\n",
    "            turn_id = turn.get(\"number\")\n",
    "            hits = CAsT.query(turn.get(key))\n",
    "            for j, hit in enumerate(hits):\n",
    "                hit_id = \"MARCO_\" + hit.get(\"_id\") if hit.get(\"_source\").get(\n",
    "                    \"origin\") == \"msmarco\" else \"CAR_\" + hit.get(\"_id\")\n",
    "                f.write(str(topic_id) + \"_\" + str(turn_id) + \"\\t\" + \"Q0\" + \"\\t\" + str(hit_id) +\n",
    "                        \"\\t\" + str(j) + \"\\t\" + str(hit.get(\"_score\")) + \"\\t\" + str(run_id) + \"\\n\")\n",
    "    f.close()\n"
   ]
  },
  {
   "cell_type": "code",
   "execution_count": 179,
   "metadata": {},
   "outputs": [],
   "source": [
    "test_obj = CAsT(context_queries=3)"
   ]
  },
  {
   "cell_type": "code",
   "execution_count": 180,
   "metadata": {},
   "outputs": [
    {
     "name": "stderr",
     "output_type": "stream",
     "text": [
      "/Users/aleksanderdrzewiecki/opt/anaconda3/envs/ele510/lib/python3.9/site-packages/elasticsearch/connection/base.py:209: ElasticsearchWarning: Elasticsearch built-in security features are not enabled. Without authentication, your cluster could be accessible to anyone. See https://www.elastic.co/guide/en/elasticsearch/reference/7.15/security-minimal-setup.html to enable security.\n",
      "  warnings.warn(message, category=ElasticsearchWarning)\n"
     ]
    },
    {
     "name": "stdout",
     "output_type": "stream",
     "text": [
      "Query: How do you know when your garage door opener is going bad?\n",
      "Query: Now the garage door opener stopped working. Why?\n",
      "Query: How much does it cost for someone to fix a garage door opener that stopped working?\n",
      "Query: How much does it cost for someone to fix a garage door opener that stopped working?\n",
      "Query: How do I choose a new garage door opener?\n",
      "Query: What does a smart garage door opener do?\n",
      "Query: What's important for me to know about a smart garage door opener's safety\n",
      "Query: How could a smart garage door opener be hacked?\n",
      "Query: I would like to learn about GMO Food labeling.\n",
      "Query: What are the pros and cons of GMO Food labeling?\n",
      "Query: What are the pros and cons of GMO Food labeling?\n",
      "Query: What are the EU rules for GMO Food labeling?\n",
      "Query: Tell me more about traceability tools.\n",
      "Query: What is the role of Co-Extra in the EU?\n",
      "Query: How is testing done for contamination of GMO Food in the EU?\n",
      "Query: What's the difference between the European and US approaches for testing for contamination of GMO Food\n",
      "Query: How does the DNA-based method work for testing for contamination of GMO Food in the EU\n",
      "Query: How could Co-Extra improve the DNA-based method for testing for contamination of GMO\n",
      "Query: What are some interesting facts about bees?\n",
      "Query: Why does't bees spoil?\n",
      "Query: Why are so many dying from bees?\n",
      "Query: What can be done to stop bees dying?\n",
      "Query: What has happened to bees habitat?\n",
      "Query: What can I do to help with the problem of bees dying?\n",
      "Query: What is the cause of CCD in bees?\n",
      "Query: What would happen if bees died out?\n",
      "Query: How does seed investment work for startups?\n",
      "Query: Tell me more about angel rounds for startups.\n",
      "Query: How does angel round for startups compare with crowdfunding?\n",
      "Query: How much is a typical A series round for startups?\n",
      "Query: What are the risks of investing in angel rounds for startups?\n",
      "Query: What are the different types of instruments used by VCs in angel rounds for startups?\n",
      "Query: How much does a used Lamborghini cost?\n",
      "Query: How does a Lamborghini compare to a Ferrari?\n",
      "Query: How much does a used Lamborghini cost?\n",
      "Query: What licenses and permits are needed to drive a Lamborghini?\n",
      "Query: What makes a good location for a Lamborghini?\n",
      "Query: What is a typical day like for a Lamborghini?\n",
      "Query: How can I run a Lamborghini successfully?\n",
      "Query: What are some good examples to learn from for a Lamborghini?\n",
      "Query: Besides inventive flavors, what made a Lamborghini successful?\n",
      "Query: What is the climate like in Utah?\n",
      "Query: How does Salt Lake City differ from Utah?\n",
      "Query: What is Salt Lake City's main economic activity?\n",
      "Query: What was the impact of the 2002 games in Salt Lake City?\n",
      "Query: What were important ski locations used in Salt Lake City?\n",
      "Query: What are the important non-ski events that happen in Salt Lake City?\n",
      "Query: What are some popular non-winter things to do in the area other than skiing?\n",
      "Query: What are the different types of orange trees?\n",
      "Query: How can you tell the different types of orange trees apart?\n",
      "Query: What type of orange trees has thorns?\n",
      "Query: Where do the thorns of orange trees originally come from?\n",
      "Query: Tell me about the Hamlin variety of orange trees.\n",
      "Query: Why did Hamlin replace PB in orange trees?\n",
      "Query: What are the different types of navels in orange trees?\n",
      "Query: Which of the different types of navels in orange trees is the most delicious?\n",
      "Query: How do navels compare with blood oranges?\n",
      "Query: Can I have some information on the labor systems of the Ottoman Empire?\n",
      "Query: What was the role of slavery in the labor systems of the Ottoman Empire?\n",
      "Query: How did the Ottoman Empire govern?\n",
      "Query: Why was the role of slavery important in the labor systems of the Ottoman Empire?\n",
      "Query: What was the culture like in the Ottoman Empire?\n",
      "Query: What was the role of storytellers in the Ottoman Empire?\n",
      "Query: What were popular stories in the Ottoman Empire?\n",
      "Query: What was the importance of the millet in the Ottoman Empire?\n",
      "Query: Why did the British continue the importance of the millet in the Ottoman Empire \n",
      "Query: What is the millet's historical importance in developing national identities?\n",
      "Query: What is the relationship between predator and prey?\n",
      "Query: What do predator plants eat?\n",
      "Query: What about Venus flytraps in particular?\n",
      "Query: Where is Venus flytraps native to?\n",
      "Query: How do Venus flytraps attract and catch their prey?\n",
      "Query: Other than Venus flytraps, what are other similar plants from its native area?\n",
      "Query: How do populations of predators and prey relate to Venus flytraps?\n",
      "Query: Why would the roles of Venus flytraps and predators reverse?\n",
      "Query: How does the relationship of Venus flytraps and predators influence biodiversity?\n",
      "Query: What are examples of Venus flytraps and predators?\n",
      "Query: Why would humans be considered a Venus flytraps and predator?\n",
      "Query: Which is the biggest commercial plane?\n",
      "Query: What are the operational costs of the biggest commercial plane?\n",
      "Query: How does the fuel consumption of the biggest commercial plane compare to its competitors?\n",
      "Query: How do the freighter versions of the biggest commercial plane compare to each other?\n",
      "Query: Why did the A380 stop being produced?\n",
      "Query: What was Boeing's response to compete with the A380?\n",
      "Query: What is the newest version of the A380 and what is better about it?\n",
      "Query: What are the differences between the A380 and the newest version of the A380?\n",
      "Query: What is the purpose of GDPR?\n",
      "Query: What is different from previous legislation in regards to GDPR?\n",
      "Query: What are the privacy implications of GDPR?\n",
      "Query: What is the full range of personal data in regards to IP addresses?\n",
      "Query: How do big companies adapt to GDPR?\n",
      "Query: Tell me about the privacy issues in social networks in light of GDPR.\n",
      "Query: What do companies get in return for their privacy regarding IP addresses?\n",
      "Query: What are the symptoms of GDPR addiction?\n",
      "Query: Do shoulder braces help recover from an injury?\n",
      "Query: Tell me more about some exercises that could help with shoulder braces to help recover from an injury\n",
      "Query: What are some exercises that could help with shoulder braces to help recover from an injury?\n",
      "Query: How do I know if an injury is serious?\n",
      "Query: When should you consider surgery for an injury?\n",
      "Query: What are other ways to treat the pain of an injury other than surgery?\n",
      "Query: How do I stop an injury from hurting at my desk?\n",
      "Query: What are the benefits of a standing injury?\n",
      "Query: Tell me about purchasing a Burger King franchise.\n",
      "Query: I want to know how to open a Burger King franchise.\n",
      "Query: Is there any financial support for the fee to open a Burger King franchise?\n",
      "Query: How much does an owner typically make to open a Burger King franchise?\n",
      "Query: Is it better to be a franchise or independent to open a Burger King franchise \n",
      "Query: What support does Burger King provide?\n",
      "Query: What is the process to open a Burger King franchise?\n",
      "Query: How did snowboarding begin?\n",
      "Query: Who were the winners of the first ever snowboarding event?\n",
      "Query: What are strap-in bindings?\n",
      "Query: What's an alternative to strap-in binding style?\n",
      "Query: What else do I need for my first time other than strap-in binding style?\n",
      "Query: How can I teach myself to get started with strap-in bindings?\n",
      "Query: What are the best slopes in Seattle for strap-in bindings?\n",
      "Query: What are other things to do at Bachelor in addition to strap-in binding style?\n",
      "Query: How are waste and garbage processed?\n",
      "Query: What is the impact of burning on the environment?\n",
      "Query: So you can compact waste and garbage; why does burning slow the waste processing?\n",
      "Query: How is sewage recycled?\n",
      "Query: What are the pros and cons of recycling vs composting?\n",
      "Query: Tell me more about biodegradable plastics.\n",
      "Query: How are biodegradable plastics made?\n",
      "Query: How is corn oil used for biodegradable plastics?\n",
      "Query: How do you make Japanese Yakiniku?\n",
      "Query: Can the sauce of Japanese Yakiniku be used in other dishes besides Yakini\n",
      "Query: What are the best Yakiniku restaurants in Tokyo?\n",
      "Query: Tell me about three star Michelin sushi restaurants in Tokyo.\n",
      "Query: You need an agent to make reservations in Yakiniku restaurants in Tokyo?\n",
      "Query: Besides Yakiniku restaurants in Tokyo, tell me about other fun things to do\n",
      "Query: What is the cost of living in Tokyo compared to NYC?\n",
      "Query: What is the salary of foreign law firms in Tokyo?\n",
      "Query: Who are the rivals of the Steelers?\n",
      "Query: What are notable games between Ravens and Steelers?\n",
      "Query: What are notable games between the Ravens and Steelers?\n",
      "Query: Tell me more about Polamalu's interception in the Ravens v\n",
      "Query: Tell me more about Polamalu's interception in the Ravens v\n",
      "Query: Tell me more about Polamalu's immaculate reception in the Ravens\n",
      "Query: What happened to the stadium following Polamalu's interception in the Raven\n",
      "Query: Tell me more about the Ravens defense following Polamalu's interception\n",
      "Query: What is the environmental cost of food production?\n",
      "Query: How is that much water used for meat production?\n",
      "Query: How much less is used for vegetables in food production compared to the environmental cost?\n",
      "Query: What are the benefits of being vegetarian?\n",
      "Query: Are there any health concerns from being vegetarian?\n",
      "Query: What are vegetarians sources of proteins?\n",
      "Query: Can you show me recipes with almonds?\n",
      "Query: How do you make the flour for almonds?\n",
      "Query: What is high blood carbon dioxide?\n",
      "Query: What should you do to treat high blood carbon dioxide?\n",
      "Query: How about high cholesterol?\n",
      "Query: What should I eat to improve high blood cholesterol?\n",
      "Query: What are the differences between high blood cholesterol and carbon dioxide?\n",
      "Query: Is the other fat good for you other than high blood cholesterol?\n",
      "Query: Besides fish, what other foods are good sources of high blood cholesterol?\n",
      "Query: What types of olive oil does olive oil contain?\n",
      "Query: What causes my teeth to chip off?\n",
      "Query: What can be done to fix the chipped teeth?\n",
      "Query: I have a larger chip, how do the options different for chipped teeth?\n",
      "Query: What about using an implant to fix chipped teeth?\n",
      "Query: Which one is more expensive to fix chipped teeth?\n",
      "Query: What is the coverage of the crown in insurance for chipped teeth?\n",
      "Query: What is the coverage of the crown in insurance for chipped teeth?\n",
      "Query: Show me covered dentists in Seattle?\n",
      "Query: What is Melania Trump's religion?\n",
      "Query: What did Melania Trump do before she was married?\n",
      "Query: Does Melania Trump have children?\n",
      "Query: How old is Melania Trump?\n",
      "Query: Did Melania Trump meet at the Kit Kat Club?\n",
      "Query: When did Melania Trump become a model?\n",
      "Query: Do we pay the First Lady Melania Trump?\n",
      "Query: What about Ivanka Trump?\n",
      "Query: What about Jared?\n",
      "Query: What does Jared do at the White House?\n",
      "Query: When did social security start in the US?\n",
      "Query: Was social security mandatory in the US?\n",
      "Query: Who received the first check for social security in the US?\n",
      "Query: When did the government start borrowing from social security in the US?\n",
      "Query: How much is owed to social security in the US?\n",
      "Query: When will social security run out of money in the US?\n",
      "Query: What will happen when social security runs out of money in the US?\n",
      "Query: Can social security run out of money in the US be fixed?\n",
      "Query: Can social security run out of money in the US be fixed?\n",
      "Query: Why were the Dead such an influential live band?\n",
      "Query: Why did the Dead allow live recordings?\n",
      "Query: Did the Dead have a #1 hit?\n",
      "Query: Who was the leader of the Dead?\n",
      "Query: How did the leader of the Dead lose his finger?\n",
      "Query: What was the leader of the Dead's relationship to the Airplane?\n",
      "Query: Is Cassidy about Jack Casady?\n",
      "Query: Who wrote the article Cassidy about Jack Casady?\n",
      "Query: Besides Cassidy about Jack Casady, what else did the Dead write \n",
      "Query: Besides Cassidy about Jack Casady, what else did the Dead write \n",
      "Query: Who are some of the well-known Information Retrieval researchers?\n",
      "Query: What did the well-known Information Retrieval researchers work on?\n",
      "Query: Who are some important British Information Retrieval researchers?\n",
      "Query: What did the studies of the well-known British Information Retrieval researchers contribute to evaluation\n",
      "Query: What are some criticisms of the experiments of the well-known British Information Retrieval\n",
      "Query: How did the studies of the well-known British Information Retrieval researchers influence modern initiatives\n",
      "Query: What is TREC?\n",
      "Query: What are some recent tasks of the British Information Retrieval?\n",
      "Query: What is e-Discovery?\n",
      "Query: What are the important components of a test collection?\n",
      "Query: What are some recent tasks of the British Information Retrieval?\n",
      "Query: What are important measures for web search engines?\n",
      "Query: What are important measures for web search engines?\n",
      "Query: When did the Black Lives Matter campaign begin?\n",
      "Query: Tell me more about what happened during the Black Lives Matter campaign.\n",
      "Query: Why was Black Lives Matter acquitted?\n",
      "Query: What happened to Brown in regards to Black Lives Matter?\n",
      "Query: Who named the Black Lives Matter movement?\n",
      "Query: What was the US reaction to Black Lives Matter being acquitted?\n",
      "Query: Tell me more about the movement of the police supporters in regards to Black Lives Matter.\n",
      "Query: Why were the police supporters of Black Lives Matter killed?\n",
      "Query: Besides the death of the police supporters of Black Lives Matter, what else motivates\n"
     ]
    }
   ],
   "source": [
    "run_queries(path, key=key, CAsT=test_obj, run_id=\"Test02\")"
   ]
  },
  {
   "cell_type": "code",
   "execution_count": null,
   "metadata": {},
   "outputs": [],
   "source": []
  }
 ],
 "metadata": {
  "interpreter": {
   "hash": "cd14fd67b6e04dc75a62665c7f630abe1747664dae3d4c5a81ce4213693fd44a"
  },
  "kernelspec": {
   "display_name": "Python 3.9.7 64-bit ('ele510': conda)",
   "language": "python",
   "name": "python3"
  },
  "language_info": {
   "codemirror_mode": {
    "name": "ipython",
    "version": 3
   },
   "file_extension": ".py",
   "mimetype": "text/x-python",
   "name": "python",
   "nbconvert_exporter": "python",
   "pygments_lexer": "ipython3",
   "version": "3.9.7"
  },
  "orig_nbformat": 4
 },
 "nbformat": 4,
 "nbformat_minor": 2
}
