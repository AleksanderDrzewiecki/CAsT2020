{
 "cells": [
  {
   "cell_type": "markdown",
   "metadata": {},
   "source": [
    "# CAsT Session"
   ]
  },
  {
   "cell_type": "markdown",
   "metadata": {},
   "source": [
    "### Sources\n",
    "\n",
    "#### reranking\n",
    "* https://github.com/castorini/pygaggle/blob/master/docs/experiments-msmarco-passage-subset.md\n",
    "* https://github.com/castorini/pygaggle"
   ]
  },
  {
   "cell_type": "code",
   "execution_count": 1,
   "metadata": {},
   "outputs": [],
   "source": [
    "# T5 query expantion\n",
    "from transformers import AutoTokenizer, AutoModelForSeq2SeqLM\n"
   ]
  },
  {
   "cell_type": "code",
   "execution_count": 2,
   "metadata": {},
   "outputs": [],
   "source": [
    "\n",
    "# MonoT5 reranking\n",
    "#import pygaggle.rerank.transformer.MonoT5\n",
    "from pygaggle.rerank.base import Query, Text\n"
   ]
  },
  {
   "cell_type": "code",
   "execution_count": 12,
   "metadata": {},
   "outputs": [],
   "source": [
    "\n",
    "from pygaggle.rerank.transformer import MonoT5\n",
    "\n"
   ]
  },
  {
   "cell_type": "code",
   "execution_count": 4,
   "metadata": {},
   "outputs": [],
   "source": [
    "from elasticsearch import Elasticsearch\n",
    "from typing import Dict, List, Optional\n",
    "import json\n"
   ]
  },
  {
   "cell_type": "code",
   "execution_count": 5,
   "metadata": {},
   "outputs": [],
   "source": [
    "INDEX_NAME = \"cast_base\"\n",
    "es = Elasticsearch()"
   ]
  },
  {
   "cell_type": "markdown",
   "metadata": {},
   "source": [
    "## T5 testing"
   ]
  },
  {
   "cell_type": "code",
   "execution_count": 6,
   "metadata": {},
   "outputs": [],
   "source": [
    "tokenizer = AutoTokenizer.from_pretrained(\"castorini/t5-base-canard\")\n",
    "model = AutoModelForSeq2SeqLM.from_pretrained(\"castorini/t5-base-canard\")"
   ]
  },
  {
   "cell_type": "code",
   "execution_count": 7,
   "metadata": {},
   "outputs": [
    {
     "name": "stdout",
     "output_type": "stream",
     "text": [
      "Is Jafar funny?\n"
     ]
    }
   ],
   "source": [
    "input_ids = tokenizer('Jafar is funny. <sep> Is he funny?', return_tensors='pt').input_ids\n",
    "outputs = model.generate(input_ids)\n",
    "print(tokenizer.decode(outputs[0], skip_special_tokens=True))"
   ]
  },
  {
   "cell_type": "markdown",
   "metadata": {},
   "source": [
    "## Framework"
   ]
  },
  {
   "cell_type": "code",
   "execution_count": 50,
   "metadata": {},
   "outputs": [],
   "source": [
    "class CAsT():\n",
    "    def __init__(self, context_queries: int = 0, context_responses: int = 0, reranking: bool = False) -> None:\n",
    "        self.INDEX_NAME = \"cast_base\"\n",
    "        self.es = Elasticsearch()\n",
    "        self.queries = []\n",
    "        self.responses = []\n",
    "        self.context_queries = context_queries\n",
    "        self.context_responses = context_responses\n",
    "\n",
    "        self.reranking = reranking\n",
    "        self.reranker = MonoT5() if reranking else None\n",
    "        self.tokenizer = AutoTokenizer.from_pretrained(\n",
    "            \"castorini/t5-base-canard\")\n",
    "        self.model = AutoModelForSeq2SeqLM.from_pretrained(\n",
    "            \"castorini/t5-base-canard\")\n",
    "\n",
    "    def clear_context(self, clear_queries: bool = True, clear_responses: bool = True):\n",
    "        if clear_queries:\n",
    "            self.queries = []\n",
    "        if clear_responses:\n",
    "            self.responses = []\n",
    "\n",
    "    def query(self, q: str) -> str:\n",
    "        \"\"\"\n",
    "            returns: passage_id NOTE: for now complete hit is returned\n",
    "        \"\"\"\n",
    "        sep = \" <sep>\"\n",
    "        qs = []\n",
    "        if self.context_queries > 0 or self.context_responses > 0:\n",
    "            for i in range(1, max(self.context_queries, self.context_responses)+1):\n",
    "                if i <= self.context_queries:\n",
    "                    if len(self.queries) >= i:\n",
    "                        qs.insert(0, self.queries[-i])\n",
    "\n",
    "                if i <= self.context_responses:\n",
    "                    if len(self.responses) >= i:\n",
    "                        qs.insert(0, self.responses[-i])\n",
    "        qs.append(q)\n",
    "\n",
    "        input_ids = tokenizer(sep.join(qs), return_tensors='pt').input_ids\n",
    "        outputs = model.generate(input_ids)\n",
    "\n",
    "        query = tokenizer.decode(outputs[0], skip_special_tokens=True)\n",
    "        self.queries.append(query)  # * Adding reformated query to context\n",
    "\n",
    "        hits = es.search(\n",
    "            index=self.INDEX_NAME, q=query, _source=True, size=100\n",
    "        ).get(\"hits\", {}).get(\"hits\")\n",
    "\n",
    "        hits_cleaned = [{\n",
    "            \"passage\": hit.get(\"_source\", {}).get(\"passage\"),\n",
    "            \"_id\": \"MARCO_\" + hit.get(\"_id\") if hit.get(\"_source\").get(\n",
    "                    \"origin\") == \"msmarco\" else \"CAR_\" + hit.get(\"_id\"),\n",
    "            \"_score\": hit.get(\"_score\", \"FAILED\")} for hit in hits]\n",
    "\n",
    "        if self.reranking:\n",
    "            print(\"RERANKING\")\n",
    "            texts = [Text(hit.get(\"passage\"), {\n",
    "                '_id': hit.get(\"_id\", \"FAILED\")}, 0) for hit in hits_cleaned]\n",
    "\n",
    "            reranked = self.reranker.rerank(Query(query), texts)\n",
    "            hits_cleaned = [{\n",
    "                \"passage\": hit.text,\n",
    "                \"_id\": hit.metadata[\"_id\"],\n",
    "                \"_score\": hit.score}\n",
    "                for hit in reranked]\n",
    "\n",
    "        if len(hits) > 0:\n",
    "            self.responses.append(\n",
    "                hits_cleaned[0].get(\"passage\"))\n",
    "            return hits_cleaned[:500]\n",
    "        else:\n",
    "            return []"
   ]
  },
  {
   "cell_type": "markdown",
   "metadata": {},
   "source": [
    "### Framework tests"
   ]
  },
  {
   "cell_type": "markdown",
   "metadata": {},
   "source": [
    "#### Query expantion"
   ]
  },
  {
   "cell_type": "code",
   "execution_count": 14,
   "metadata": {},
   "outputs": [],
   "source": [
    "test = CAsT(context_queries=1)"
   ]
  },
  {
   "cell_type": "code",
   "execution_count": 10,
   "metadata": {},
   "outputs": [
    {
     "ename": "TypeError",
     "evalue": "query() got an unexpected keyword argument 'context_queries'",
     "output_type": "error",
     "traceback": [
      "\u001b[0;31m---------------------------------------------------------------------------\u001b[0m",
      "\u001b[0;31mTypeError\u001b[0m                                 Traceback (most recent call last)",
      "\u001b[0;32m/var/folders/9c/qnbpggzx09q06mddxfqxb2yw0000gn/T/ipykernel_34462/3881458376.py\u001b[0m in \u001b[0;36m<module>\u001b[0;34m\u001b[0m\n\u001b[0;32m----> 1\u001b[0;31m \u001b[0mtest\u001b[0m\u001b[0;34m.\u001b[0m\u001b[0mquery\u001b[0m\u001b[0;34m(\u001b[0m\u001b[0;34m\"Tell me about Oslo?\"\u001b[0m\u001b[0;34m,\u001b[0m \u001b[0mcontext_queries\u001b[0m\u001b[0;34m=\u001b[0m\u001b[0;36m1\u001b[0m\u001b[0;34m)\u001b[0m\u001b[0;34m\u001b[0m\u001b[0;34m\u001b[0m\u001b[0m\n\u001b[0m",
      "\u001b[0;31mTypeError\u001b[0m: query() got an unexpected keyword argument 'context_queries'"
     ]
    }
   ],
   "source": [
    "test.query(\"Tell me about Oslo?\")"
   ]
  },
  {
   "cell_type": "code",
   "execution_count": null,
   "metadata": {},
   "outputs": [
    {
     "name": "stdout",
     "output_type": "stream",
     "text": [
      "Entered 'i <= context_queries:'\n",
      "Entered 'len(self.queries) >= i:'\n",
      "Query: Where is Oslo located?\n"
     ]
    },
    {
     "data": {
      "text/plain": [
       "{'_index': 'cast_base',\n",
       " '_type': '_doc',\n",
       " '_id': '8841012',\n",
       " '_score': 4.786257,\n",
       " '_source': {'passage': 'Refraction of Sound. Refraction is the bending of waves when they enter a medium where their speed is different. Refraction is not so important a phenomenon with sound as it is with light where it is responsible for image formation by lenses, the eye, cameras, etc.But bending of sound waves does occur and is an interesting phenomena in sound.efraction of Sound. Refraction is the bending of waves when they enter a medium where their speed is different. Refraction is not so important a phenomenon with sound as it is with light where it is responsible for image formation by lenses, the eye, cameras, etc.'}}"
      ]
     },
     "execution_count": 142,
     "metadata": {},
     "output_type": "execute_result"
    }
   ],
   "source": [
    "test.query(\"Where is it?\")"
   ]
  },
  {
   "cell_type": "code",
   "execution_count": null,
   "metadata": {},
   "outputs": [],
   "source": []
  },
  {
   "cell_type": "markdown",
   "metadata": {},
   "source": [
    "#### Reranking"
   ]
  },
  {
   "cell_type": "code",
   "execution_count": 51,
   "metadata": {},
   "outputs": [
    {
     "name": "stderr",
     "output_type": "stream",
     "text": [
      "Some weights of the model checkpoint at castorini/monot5-base-msmarco were not used when initializing T5ForConditionalGeneration: ['decoder.block.0.layer.1.EncDecAttention.relative_attention_bias.weight']\n",
      "- This IS expected if you are initializing T5ForConditionalGeneration from the checkpoint of a model trained on another task or with another architecture (e.g. initializing a BertForSequenceClassification model from a BertForPreTraining model).\n",
      "- This IS NOT expected if you are initializing T5ForConditionalGeneration from the checkpoint of a model that you expect to be exactly identical (initializing a BertForSequenceClassification model from a BertForSequenceClassification model).\n"
     ]
    }
   ],
   "source": [
    "cast = CAsT(context_queries=3, reranking=True)"
   ]
  },
  {
   "cell_type": "code",
   "execution_count": 52,
   "metadata": {},
   "outputs": [
    {
     "name": "stderr",
     "output_type": "stream",
     "text": [
      "2021-11-18 12:28:08 [INFO] base: POST http://localhost:9200/cast_base/_search?_source=true&q=How+do+you+know+when+your+garage+door+opener+is+going+bad%3F&size=100 [status:200 request:0.220s]\n"
     ]
    },
    {
     "name": "stdout",
     "output_type": "stream",
     "text": [
      "RERANKING\n"
     ]
    }
   ],
   "source": [
    "ret = cast.query(\"How do you know when your garage door opener is going bad?\")"
   ]
  },
  {
   "cell_type": "code",
   "execution_count": 59,
   "metadata": {},
   "outputs": [
    {
     "data": {
      "text/plain": [
       "[{'passage': 'Frame vs. Frameless Shower Doors & Tub Enclosures. Frameless shower doors fit right in to modern bathrooms. Shower doors and tub enclosures play an important role in your bathroom. Not only do these structures keep water contained within the bath and shower where it belongs, but also they impact the overall style and decor of your space.',\n",
       "  '_id': '8841100',\n",
       "  '_score': -14.476116180419922},\n",
       " {'passage': 'The greatest advantage to using frameless shower doors lies in the variety of design options available. Frameless shower and tub enclosures may come in any size or style, allowing for optimal customization. The doors open in or out based on layout and design needs. With no frames to get in the way, frameless doors provide a more open, airy look, making it easy to show off beautiful tiles and other finishes. The lack of frames also makes for easier cleaning. Thanks to the heavier glass and smooth polished edges, frameless enclosures come at a premium price point compared to framed shower doors. The lack of seals and sweeps also means a greater chance of leaks, and limits where you can place the door in relation to the showerhead.',\n",
       "  '_id': '8841101',\n",
       "  '_score': -14.321619987487793},\n",
       " {'passage': 'Frameless Vs. Framed Shower Door Costs. While frameless glass shower doors are gaining steam across the country, many homeowners still utilize your typical framed shower door. To no surprise, framed glass shower doors cost less than their frameless counterparts. According to our estimator, you can save between $200 and $500 on your total project. Frameless shower doors are more expensive because the glass is thicker and they require special hardware.',\n",
       "  '_id': '8841106',\n",
       "  '_score': -14.956602096557617},\n",
       " {'passage': 'OneDrive on any device, any time. When you save your files to OneDrive, you can access them from all your favourite devices, including PCs, Macs, tablets and mobile phones. Sign in Sign up Get your referral bonus Go to my OneDrive. Get 15 GB for free. Office Online included.',\n",
       "  '_id': '8841725',\n",
       "  '_score': -14.648590087890625},\n",
       " {'passage': 'Find A Shower Contractor; Frameless Shower Door Cost. As you might expect, frameless shower doors cost more than your typical glass shower door. In fact, the average cost of a frameless glass shower door installation is $1,000. However, we have seen frameless glass shower door installs cost as low as $900 or as high as $1,300.',\n",
       "  '_id': '8841103',\n",
       "  '_score': -14.892243385314941},\n",
       " {'passage': 'Carbonic acid is a weak acid that is produced when carbon dioxide is dissolved in water. As you probably know, our atmosphere has a lot of carbon dioxide in it.It is also thoroughly saturated with water.From this, we might deduce that we live in a rather acidic environment â\\x80\\x94 and we do.arbonic acid is a weak acid that is produced when carbon dioxide is dissolved in water. As you probably know, our atmosphere has a lot of carbon dioxide in it. It is also thoroughly saturated with water. From this, we might deduce that we live in a rather acidic environment â\\x80\\x94 and we do.',\n",
       "  '_id': '8841740',\n",
       "  '_score': -13.664935111999512},\n",
       " {'passage': 'If you are making your laminate flooring a DIY project, you might wonder â\\x80\\x9cwhat is the right direction to install my laminate flooring?â\\x80\\x9d When deciding the direction to install laminate flooring, I always let people know they have multiple options, but in the end, it is all about your personal taste and preference.',\n",
       "  '_id': '8841532',\n",
       "  '_score': -14.799013137817383},\n",
       " {'passage': \"In this article. Cluster headaches are a series of relatively short but extremely painful headaches every day for weeks or months at a time. You tend to get them at the same time each year, such as the spring or fall. Because of their seasonal nature, people often mistake cluster headaches for symptoms of allergies or business stress. We don't know what causes them, but we do know that a nerve in your face is involved, creating intense pain around one of your eyes.\",\n",
       "  '_id': '8841081',\n",
       "  '_score': -14.12906551361084},\n",
       " {'passage': \"1 When you've finished you music video, share it! 2  Upload it to a video streaming site (see: How to Upload a Video to YouTube) and share the link with your friends and family. 3  If you're really confident in your work's quality, share your video with radio stations and music television channels. Silence your video when you put the music over it, so that no background noise interferes. 2  If you can't get all of the items necessary for filming a music video, ask a crew member or a friend if they have the item.\",\n",
       "  '_id': '8841255',\n",
       "  '_score': -14.503349304199219},\n",
       " {'passage': 'So, how do you start the process of becoming a graduate forester? Q: Do you have to be a forester to have a career in the forest? A: I frequently get employment, career and job questions on forestry and becoming a forester or forestry technician.',\n",
       "  '_id': '8840962',\n",
       "  '_score': -14.986347198486328},\n",
       " {'passage': \"Report Abuse. in an acid-base reaction where the base is a carbonate (CO3 or bicarbonate HCO3) three products will form: water, carbon dioxide and a salt. the carbon dioxide is what you obsered with the fizzing.CaCl2 you have correctly identified as the salt.And yes, carbonic acid is soluble. it's dissolved in soda, hence the carbonation when you open the bottle and releases the pressure.aCl2 you have correctly identified as the salt. And yes, carbonic acid is soluble. it's dissolved in soda, hence the carbonation when you open the bottle and releases the pressure.\",\n",
       "  '_id': '8841737',\n",
       "  '_score': -14.611452102661133},\n",
       " {'passage': \"And yes, carbonic acid is soluble. it's dissolved in soda, hence the carbonation when you open the bottle and releases the pressure. More Questions and Answers: The answers post by the user, for information only, FunQA.com does not guarantee the right.nd yes, carbonic acid is soluble. it's dissolved in soda, hence the carbonation when you open the bottle and releases the pressure. More Questions and Answers: The answers post by the user, for information only, FunQA.com does not guarantee the right.\",\n",
       "  '_id': '8841742',\n",
       "  '_score': -14.61444091796875},\n",
       " {'passage': \"by benjya. Carbonic acid is a weak acid that is produced when carbon dioxide is dissolved in water. However, it's only slightly soluble so it can take some time to be produced (and this is why you can collect carbon dioxide over water as long as you're not working to exact quantities).arbonic acid is a weak acid that is produced when carbon dioxide is dissolved in water. As you probably know, our atmosphere has a lot of carbon dioxide in it. It is also thoroughly saturated with water. From this, we might deduce that we live in a rather acidic environment â\\x80\\x94 and we do.\",\n",
       "  '_id': '8841736',\n",
       "  '_score': -14.291707992553711},\n",
       " {'passage': 'If for example, your microwave is 16 height you can go with either a 12 or 15 wall cabinet above it. This puts the bottom of the microwave at about 17 above the range with a 15 high wall cabinet and about 20 above the range with a 12 high wall cabinet. If you go with a 15 high wall cabinet your microwave will be 1 below the adjacent 30 wall cabinets so your bottom moulding will butt at the microwave.',\n",
       "  '_id': '8841605',\n",
       "  '_score': -14.64695930480957},\n",
       " {'passage': 'If you become familiar with the expectations, can accept demanding entry-level work and have a true love of forests and nature, you will do just fine. Most successful foresters know this and earn the title of successful resource manager.. Many consider them true naturalists.',\n",
       "  '_id': '8840953',\n",
       "  '_score': -14.751133918762207},\n",
       " {'passage': \"LTS is Laugh To Self - A variant for LOL (Laughing Out Loud) A portrayal of good humor - before reaching the LOL stage. People often type LOL when they aren't really LOL. 11 year old Kristen Tobey from Fort Wayne, IN noticed this and started encouraging friends to type LTS for gathering humor, which caught on. This opens the door for more shortcut terms in degrees of chuckle.\",\n",
       "  '_id': '8840884',\n",
       "  '_score': -14.91347599029541},\n",
       " {'passage': 'Open the Excel 2010 file that contains the phone numbers you want to change. Click on the cell that contains the phone number, or click on the range of cells if you want to change the format for several cells on your spreadsheet.',\n",
       "  '_id': '8841574',\n",
       "  '_score': -14.87507438659668},\n",
       " {'passage': \"I don't think that what you will pay the headhunter is deductible on your tax return. It is an expense for getting a job, and is not your business (work) related expense. Just like expense for preparing your resume, mailing your resume, going for interview are not deductible, your referral payment is not deductible.\",\n",
       "  '_id': '8840918',\n",
       "  '_score': -14.897594451904297},\n",
       " {'passage': 'Series in Single Cell. Open the Excel 2010 file that contains the phone numbers you want to change. Click on the cell that contains the phone number, or click on the range of cells if you want to change the format for several cells on your spreadsheet.',\n",
       "  '_id': '8841578',\n",
       "  '_score': -14.78339958190918},\n",
       " {'passage': \"Here are some additional tips on how to protect your pets from rattlesnakes. 1  Always keep your dog or pet on a leash when outside of your home or away from your yard. 2  Don't let your dog wander into tall grass or thick shrubs where rattlesnakes may be hiding.\",\n",
       "  '_id': '8841785',\n",
       "  '_score': -14.65548324584961},\n",
       " {'passage': 'Swallow the extended-release and regular tablets whole; do not chew or crush them. If you are taking paroxetine tablets, suspension, or controlled-release tablets, your doctor may start you on a low dose of paroxetine and gradually increase your dose, not more than once a week. Paroxetine capsules contain a lower dose of paroxetine than is needed to treat depression and other forms of mental illness. Do not take paroxetine capsules to treat a mental illness. If you think you have depression or another mental illness, talk to your doctor about treatment.',\n",
       "  '_id': '8841227',\n",
       "  '_score': -14.255427360534668},\n",
       " {'passage': \"10 pts! i need a music video maker that is completly free and that is NOT complicated..it must be simple..please i really need it badly..it must be capable of importing your own music and video and add lyrics.. Update: i don't know how to use virtual dub.\",\n",
       "  '_id': '8841245',\n",
       "  '_score': -14.673413276672363},\n",
       " {'passage': 'There are LOTS of factors that come into play when trying to break a glass with your voice! The pitch of your voice has to match the resonant frequency (the speed at which it will vibrate if struck) of the glass. The resonant frequency of the glass depends on the type of glass it is and how it was made.',\n",
       "  '_id': '8841116',\n",
       "  '_score': -14.426627159118652},\n",
       " {'passage': 'Tell Me Something: The Songs of Mose Allison. Singles from How Long Has This Been Going On. How Long Has This Been Going On is the twenty-fourth studio album by Northern Irish singer-songwriter Van Morrison, with Georgie Fame and Friends, released in December 1995 (see 1995 in music) in the UK. It charted at #1 on Top Jazz Albums.',\n",
       "  '_id': '8841042',\n",
       "  '_score': -14.623332023620605},\n",
       " {'passage': 'Just like you want to let your students know if you prefer APA or MLA style, you also want to communicate your preferences for oral citation of sources. Often we prefer a full oral citation that would include the author(s) (assuming that is available), the publication, the specific publication date and year, and any other pertinent information.',\n",
       "  '_id': '8841410',\n",
       "  '_score': -14.720171928405762},\n",
       " {'passage': 'Iâ\\x80\\x99m Julianne, IIDA NC Board Member & founder of Creative Confidante, a blog dedicated to helping architects and designers pass the NCIDQ exam. In this post, I will be giving you a crash course in NCIDQ 101, and covering everything you need to know about the NCIDQ: What it is, why its important, and how to get started.',\n",
       "  '_id': '8841339',\n",
       "  '_score': -14.766746520996094},\n",
       " {'passage': \"The tone and pitch of the singer's voice are only two of the factors that contribute to how and when the glass breaks. The way the glass was made and the thickness of the glass also have a lot to do with it! So, a deep tone could break certain type of glass, while a squeaky high-pitched tone would break another type.\",\n",
       "  '_id': '8841110',\n",
       "  '_score': -14.060579299926758},\n",
       " {'passage': 'Open the Excel 2010 file that contains the phone numbers you want to change. Click on the cell that contains the phone number, or click on the range of cells if you want to change the format for several cells on your spreadsheet. Step 2. Select the Home tab at the top of the Excel window.',\n",
       "  '_id': '8841577',\n",
       "  '_score': -14.898038864135742},\n",
       " {'passage': 'Another deduction often missed is depreciation if you own your car or lease payments if you lease. You can choose to deduct per mile driven or you can also do the actual cost of insurance, gas prices, repairs & maintenance, and other vehicle expenses.',\n",
       "  '_id': '8840917',\n",
       "  '_score': -15.031450271606445},\n",
       " {'passage': \"These are the least common type of headaches, affecting less than 1 in 1,000 people. Men get them more than women do. You usually start getting them before you're 30. Cluster headaches may disappear completely (go into remission) for months or years, but they can come back without any warning.\",\n",
       "  '_id': '8841086',\n",
       "  '_score': -14.472505569458008},\n",
       " {'passage': 'About Fancy Anywhere. Fancy Anywhere enables your visitors to buy things on Fancy directly from your own blogs and websites. You will earn Fancy credits when they complete a purchase.For more information, see Fancy Anywhere.To.ancy Anywhere enables your visitors to buy things on Fancy directly from your own blogs and websites. You will earn Fancy credits when they complete a purchase. For more information, see Fancy Anywhere. To.',\n",
       "  '_id': '8841254',\n",
       "  '_score': -14.478106498718262},\n",
       " {'passage': \"1 Go to http://google.com/analytics and sign in with your credentials. 2  Click the Admin menu option, then click User Management. 3  In the Add permissions for field, enter the Service Account's email address you copied previously.\",\n",
       "  '_id': '8841036',\n",
       "  '_score': -14.49393081665039},\n",
       " {'passage': 'Medicaid for Aged, Blind and Disabled. To receive Medicaid for the blind or disabled, a doctor must evaluate you. If you receive Supplemental Security Income, you are eligible for North Carolina Medicaid and do not need to apply. Your resources may not be more than $2,000 for an individual or $3,000 for a couple.',\n",
       "  '_id': '8840968',\n",
       "  '_score': -14.812267303466797},\n",
       " {'passage': 'Series in Single Cell. Open the Excel 2010 file that contains the phone numbers you want to change. Click on the cell that contains the phone number, or click on the range of cells if you want to change the format for several cells on your spreadsheet. Step 2. Select the Home tab at the top of the Excel window.',\n",
       "  '_id': '8841579',\n",
       "  '_score': -14.793037414550781},\n",
       " {'passage': \"How do you attract a lost pet snake out of hiding? If the snake isn't coming out that likely means it is both full and comfortable. Start by dropping the temperature in the room it is in several degrees while simultaneously puâ\\x80¦tting a warm spot out that will attract its attention.\",\n",
       "  '_id': '8841777',\n",
       "  '_score': -14.494215965270996},\n",
       " {'passage': 'Vehicle life expectancy. Submitted by jml55 on January 8, 2014. How long are Tesla vehicles supposed to last. I am trying to compare it to buying a gas vehicle that last over 250,000 miles, I just want to know how they compare to this?',\n",
       "  '_id': '8841022',\n",
       "  '_score': -15.138257026672363},\n",
       " {'passage': \"A KFC spokesperson responded via email: In the 1940's, Colonel Sanders developed the original recipe chicken to be sold at his gas station diner. At the time, the recipe was written above the door so anyone could have read it. But today, we go to great lengths to protect such a sacred blend of herbs and spices.\",\n",
       "  '_id': '8841752',\n",
       "  '_score': -14.204012870788574},\n",
       " {'passage': 'In the case of a Tesla, you apparently canâ\\x80\\x99t just do a deep and loving recharge: no battery version of the dent wizard. When the battery bricks, or fully discharges, you replace the battery pack at a cost of around $40,000 ($32,000 plus labor and taxes). Itâ\\x80\\x99s not covered by the Tesla warranty or car insurance.',\n",
       "  '_id': '8841026',\n",
       "  '_score': -14.479695320129395},\n",
       " {'passage': \"Burning mouth syndrome usually doesn't cause any noticeable physical changes to your tongue or mouth. When to see a doctor If you have discomfort, burning or soreness of your tongue, lips, gums or other areas of your mouth, see your doctor or dentist.\",\n",
       "  '_id': '8840992',\n",
       "  '_score': -14.406929016113281},\n",
       " {'passage': 'Feedback. Enter your feedback and click OK. If this feedback is about a problem, please include a detailed description of the steps that led to the error. (what you were trying to do; the last two steps you took before encountering the error...) If you would like a response, please provide your e-mail address. E-mail information will only be used to contact you regarding your feedback and will not be used for any other purpose. Find answers to frequently asked questions by clicking the FAQs link displayed at the top of every page in American FactFinder.',\n",
       "  '_id': '8841492',\n",
       "  '_score': -13.878345489501953},\n",
       " {'passage': 'Before assuming it is anxiety, see you GP and get a physical to rule out any other causes for your symptoms. Did you tell your doctor about the shortness of breath, and if so what did she say? Anxiety can manifest itself in us in many ways and varying degrees, but you need to rule out other health issues first. If it turns out to be anxiety, do come back, as this is where you will find a lot of support and understanding.',\n",
       "  '_id': '8841482',\n",
       "  '_score': -14.21346378326416},\n",
       " {'passage': 'Over the past number of years, a lot has changed in how our customers buy and shop for cars. Kerry Automotive has stayed ahead of the change by taking the lead in facilitating the easiest means for you to appraise your trade, get a price and choose your next vehicle.',\n",
       "  '_id': '8841692',\n",
       "  '_score': -14.64099407196045},\n",
       " {'passage': 'Hello, Welcome to Healthcare Magic and thank you for writing to us. Dry mouth, dry eyes, shortness of breath could be related to: 1. Cardiac problems where you need to do Chest X Ray, ECHO that may be related to heart failure; optimal treatment will improve your condition.',\n",
       "  '_id': '8841483',\n",
       "  '_score': -14.102757453918457},\n",
       " {'passage': \"Carbonic acid is unstable and decomposes to CO2 and H2O like titanium007 said. The foaming is evolution of CO2. Your equation is not completely right. The end products are CaCl2 and CO2. Carbon dioxide then reacts with water which is present to form carbonic acid, H2CO3.Excess CO2 escapes as you saw. in an acid-base reaction where the base is a carbonate (CO3 or bicarbonate HCO3) three products will form: water, carbon dioxide and a salt. the carbon dioxide is what you obsered with the fizzing.CaCl2 you have correctly identified as the salt.nd yes, carbonic acid is soluble. it's dissolved in soda, hence the carbonation when you open the bottle and releases the pressure. More Questions and Answers: The answers post by the user, for information only, FunQA.com does not guarantee the right.\",\n",
       "  '_id': '8841735',\n",
       "  '_score': -14.604815483093262},\n",
       " {'passage': 'Vehicle life expectancy. How long are Tesla vehicles supposed to last. I am trying to compare it to buying a gas vehicle that last over 250,000 miles, I just want to know how they compare to this? We were told that the vehicle can over 400,000 miles with the current Electric motor....',\n",
       "  '_id': '8841023',\n",
       "  '_score': -15.137696266174316},\n",
       " {'passage': 'Rattlesnakes are not confined to rural areas. They have been found in urban areas, on riverbanks and lakeside parks and at golf courses. The following safety precautions can be taken to reduce the likelihood of an encounter with a rattlesnake. 1  Be alert. 2  Wear sturdy boots and loose-fitting long pants. 3  Children should not wear flip-flops while playing outdoors in snake country.  When hiking, stick to well-used 1  trails. Do not step or put your hands where you cannot  see.',\n",
       "  '_id': '8841779',\n",
       "  '_score': -14.65291976928711},\n",
       " {'passage': 'The tipping point came when communist-controlled North Korea invaded South Korea in 1950. President Truman wanted to go to war, but was unsure that Congress would go along. So he pushed the United Nations to act, and then argued that the U.S. was bound under the U.N. treaty to join in the effort.',\n",
       "  '_id': '8841634',\n",
       "  '_score': -14.207832336425781},\n",
       " {'passage': 'What should I do if I encounter a rattlesnake? Leave it alone. Most bites occur when individuals or dogs provoke the rattlesnake or if you try to capture or kill it. Rattlesnakes only bite or attack in self-defense, so the best way to avoid being bitten is to leave the rattlesnake alone.',\n",
       "  '_id': '8841782',\n",
       "  '_score': -14.670979499816895},\n",
       " {'passage': 'Artist: Van Morrison with Georgie Fame & Friends. Original music written by: George Gershwin. Original lyrics written by: Ira Gershwin. First release: On audio album How Long Has This Been Going On (February 1996)',\n",
       "  '_id': '8841043',\n",
       "  '_score': -14.864177703857422},\n",
       " {'passage': 'A natural disaster is when events such as earthquakes, mudslides, floods or wildfires affect people. Despite our inability to control these events, we can plan and prepare for them to minimize damage when they do happen. Below are brief explanations of disasters that are common in California. natural disaster is when events such as earthquakes, mudslides, floods or wildfires affect people. Despite our inability to control these events, we can plan and prepare for them to minimize damage when they do happen. Below are brief explanations of disasters that are common in California.',\n",
       "  '_id': '8841020',\n",
       "  '_score': -14.249088287353516},\n",
       " {'passage': 'Monthly reporting. The due date for your monthly BAS is usually on the 21st day of the following month. If the due date is on a weekend or public holiday, you can lodge your form and make any payment due on the next business day. See also: 1  Qualifying for extra time to lodge and pay. 2  How to pay.',\n",
       "  '_id': '8841289',\n",
       "  '_score': -14.929583549499512},\n",
       " {'passage': \"But enough about us. Let's talk about you. Out there in the modern world you're doing modern things, like banking online, checking emails from your smartphone, building your own social media empire. You've realized that these social networks are for more than just small talk â\\x80\\x94 they're also places to get stuff done.\",\n",
       "  '_id': '8840928',\n",
       "  '_score': -14.56627082824707},\n",
       " {'passage': 'This song is about how Christ laid down his life in an act of selflessness for us, which we in no way deserve. About how none of us can give anything to repay that sacrifice, and we all know we could lead better lives and strive to become like Him. I_am_Billiamon April 28, 2009 Link. 1 Reply Log in to reply.',\n",
       "  '_id': '8841422',\n",
       "  '_score': -14.68893051147461},\n",
       " {'passage': 'The Menopause Transition. There are various stages in the menopause transition. Women proceed from being premenopausal to postmenopausal over several years. Some women go through the menopause earlier and/or more quickly than others just as some women have bothersome symptoms while others do not.',\n",
       "  '_id': '8841553',\n",
       "  '_score': -14.481067657470703},\n",
       " {'passage': \"For things to be quiet, quiet like the snow. I know this isn't much, but I know, I could, I could be better. I dont think I deserve it, selflessness. Find your way into my heart. All stars could be brighter, All hearts could be warmer.\",\n",
       "  '_id': '8841416',\n",
       "  '_score': -14.662165641784668},\n",
       " {'passage': \"Wolves don't hide. They don't even live in caves. They live out in the open, or in forests. But they will run away when they see a human, because humans have killed 2 million â\\x80¦wolves in the last century.\",\n",
       "  '_id': '8841780',\n",
       "  '_score': -14.3829984664917},\n",
       " {'passage': 'A normal distribution is symmetric about the mean. Skew is a measure of how much the bell-curve for your data set is heavy on one side. A normal distribution also has a specific width for a given height. If you double the height, the width scales proportionally. However, you could imagine stretching a bell curve out in weird ways without changing its symmetry.',\n",
       "  '_id': '8841813',\n",
       "  '_score': -14.423604965209961},\n",
       " {'passage': 'A Framed shower enclosure is pretty simple to define â\\x80\\x93 It has metal around the entire structure â\\x80\\x93 Including the door. See the picture to the right and note the metal around the door. A Semi Frameless shower enclosure also has metal around the entire structure, but does not have metal around the entire door â\\x80\\x93 Thus the term semi frameless. See the picture to the right and note the metal around the door is only on the bottom to control drip.',\n",
       "  '_id': '8841102',\n",
       "  '_score': -14.516363143920898},\n",
       " {'passage': 'Also, prescription narcotic pain medicines are not recommended for cluster headaches. When a cluster headache occurs, it is important to treat it as early as possible with the medicine your doctor has recommended. The sooner you treat the headache, the less painful it may be.',\n",
       "  '_id': '8841082',\n",
       "  '_score': -14.658565521240234},\n",
       " {'passage': \"A. The answer is: probably, if you're an adult. Body temperature readings can vary depending on how you take your temperature. For example, in an adult with no symptoms of illness, a 96.9 armpit reading wouldn't be considered abnormal at all. Even a 96.9 oral reading in an adult probably wouldn't be any cause for concern.\",\n",
       "  '_id': '8841004',\n",
       "  '_score': -14.451382637023926},\n",
       " {'passage': \"How Long Has This Been Going On is an album by Northern Irish singer-songwriter Van Morrison, with Georgie Fame and Friends, released in 1996. It charted at #1 on Top Jazz Albums. It's by Ace and the lead singer was Paul Carrack, who later sang with the 1980s group Mike + The Mechanics.\",\n",
       "  '_id': '8841039',\n",
       "  '_score': -14.481918334960938},\n",
       " {'passage': 'Community Facts - Find popular facts (population, income, etc.) and frequently requested data about your community. Enter a state, county, city, town, or zip code: Go',\n",
       "  '_id': '8841486',\n",
       "  '_score': -14.785999298095703},\n",
       " {'passage': 'What you should NOT do after a rattlesnake bite. 1  DONâ\\x80\\x99T apply a tourniquet. 2  DONâ\\x80\\x99T pack the bite area in ice. 3  DONâ\\x80\\x99T cut the wound with a knife or razor.  DONâ\\x80\\x99T use your mouth to suck out the 1  venom. DONâ\\x80\\x99T let the victim drink alcohol.',\n",
       "  '_id': '8841781',\n",
       "  '_score': -14.691991806030273},\n",
       " {'passage': 'In one intriguing new wrinkle, Martin says he just came up with a big, revealing twist on a long-time character that he never previously considered. â\\x80\\x9cThis is going to drive your readers crazy,â\\x80\\x9d he teases, â\\x80\\x9cbut I love it. Iâ\\x80\\x99m still weighing whether to go that direction or not. Itâ\\x80\\x99s a great twist.',\n",
       "  '_id': '8841123',\n",
       "  '_score': -14.42233657836914},\n",
       " {'passage': \"Best Breakfast Foods. You may have noticed a heart-shaped seal on your box of oatmeal recently. The seal's there because oats contain beta-glucan, a type of fiber that's been shown to help lower cholesterol when eaten regularly.\",\n",
       "  '_id': '8840904',\n",
       "  '_score': -14.410585403442383},\n",
       " {'passage': 'So when Rangel says that Franklin Roosevelt (was) the last president to come to the Congress to ask for permission to go to war, he has a point. No president since Roosevelt has come to seek permission from Congress for military action.',\n",
       "  '_id': '8841639',\n",
       "  '_score': -14.698883056640625},\n",
       " {'passage': \"Vision therapy is perhaps one of the most controversial topics in vision care. Some eye doctors are strong advocates for vision therapy and testify to its benefits  especially for certain vision problems of children. But other eye doctors are not convinced of vision therapy's effectiveness and do not recommend it. This article will help you learn more about vision therapy so you can make an informed decision regarding its potential benefits for your child.\",\n",
       "  '_id': '8840952',\n",
       "  '_score': -14.557795524597168},\n",
       " {'passage': \"I can understand why Fasching is a traditional part of the German culture, but I don't like how it is celebrated by most people nowadays. It is as if they have a switch turned over in their heads and are now officially allowed to be happy and do funny things and get drunk.\",\n",
       "  '_id': '8841610',\n",
       "  '_score': -14.683752059936523},\n",
       " {'passage': \"1 If you happen to be a member of the band whose music you're using, you're in a position with unique benefits and challenges. 2  You'll have firsthand, personal access to the band's creative process. 3  On the other hand, music video making can be stressful.4  Your personal and creative relationships might be taxed-beware. Silence your video when you put the music over it, so that no background noise interferes. 2  If you can't get all of the items necessary for filming a music video, ask a crew member or a friend if they have the item.\",\n",
       "  '_id': '8841251',\n",
       "  '_score': -14.533257484436035},\n",
       " {'passage': 'The exact origin of the Chow Chow is unknown, but we do know that it is a very old breed. The oldest known dog fossils, dated back to several million years ago, are very similar in structure to the Chow Chow. Pictures on Chinese pottery which looked like the Chow Chow date back as far back as 206 BC.',\n",
       "  '_id': '8840837',\n",
       "  '_score': -14.45759391784668},\n",
       " {'passage': 'There are other formulas for finding the area of a triangle depending on whether you know the length of the three sides, the length of one side of an equilateral triangle, or the length of two sides and their included angle.',\n",
       "  '_id': '8841404',\n",
       "  '_score': -14.994300842285156},\n",
       " {'passage': 'Frameless Door Properties. Frameless shower doors rely on heavy-duty glass and special pivots for structural support. These units are free of metal around the operable part of the partition, but some may incorporate a metal frame or tracks along other parts of the enclosure, such as the bottom or edges.',\n",
       "  '_id': '8841098',\n",
       "  '_score': -13.771780967712402},\n",
       " {'passage': 'A Frameless shower enclosure is a little more difficult to define as it may have metal (u-channel) around the fixed panels and it may even have a header for safety/support reasons. In order to qualify as being frameless, the glass thickness must be 3/8â\\x80\\x9d or 1/2 and the door must be attached by hinges only â\\x80\\x93 no metal around the door. See pictures below of shower enclosures that are all considered Frameless. The picture to the right is a frameless shower enclosure. Note the door is attached by hinges.',\n",
       "  '_id': '8841105',\n",
       "  '_score': -14.560428619384766},\n",
       " {'passage': 'The seals and sweeps that come with these doors mean that the door can be placed anywhere, even right next to or in front of the shower spray, without fear of leaks. With no need for highly polished edges, thicker glass and specialty hardware, framed enclosures also tend to cost less than frameless models.',\n",
       "  '_id': '8841097',\n",
       "  '_score': -14.314879417419434},\n",
       " {'passage': 'More From Power Rank. Anyone who doesnâ\\x80\\x99t love breakfast, claims to be too busy to eat it, or just grabs a Luna Bar on the way out the door should be banished to a remote island made of sausage. And no breakfast is complete without a large amount of delicious meat on your plate. Oh, those sweet, sweet breakfast meats!',\n",
       "  '_id': '8840906',\n",
       "  '_score': -14.258598327636719},\n",
       " {'passage': 'Combining Forms Relating to Orofacial Areas .................................................................73. Given this heritage, medical terminology is often considered a foreign language. And, in many. ways, it is. Imagine going to a different country where you are unable to communicate effective-. ly.',\n",
       "  '_id': '8841616',\n",
       "  '_score': -14.707813262939453},\n",
       " {'passage': \"That's chemistry too! Fireworks get their color from metal compounds (also known as metal salts) packed inside. You probably know that if you burn metals in a hot flame (such as a Bunsen burner in a school laboratory), they glow with very intense colorsâ\\x80\\x94 that's exactly what's happening in fireworks.\",\n",
       "  '_id': '8841817',\n",
       "  '_score': -14.326742172241211},\n",
       " {'passage': 'Depending on your individual circumstances the due dates that apply to you may be different. We have a range of calendars available that will help you plan ahead to help you meet your obligations.',\n",
       "  '_id': '8841292',\n",
       "  '_score': -14.633012771606445},\n",
       " {'passage': 'OK Census Records Online by County. (Originally, Greer County, Texas, the land was assigned to the Oklahoma Territory on May 4, 1896. When Oklahoma became a state in 1907, this area knows as Greer County, OK was split into the four counties of Jackson, Greer, Harmon and par t of Beckham.',\n",
       "  '_id': '8841485',\n",
       "  '_score': -14.81130599975586},\n",
       " {'passage': 'Laminate Flooring - which way to lay? There are lots of â\\x80\\x98How to Lay Laminate Flooringâ\\x80\\x99 articles on the internet, but while these step-by-step guides are a good way to get acquainted with the basics, they have a tendency to leave things out. An amateur DIY-er can run into any number of unexpected dilemmas when laying laminate flooring, many of which are glossed over by the how-to guides.',\n",
       "  '_id': '8841534',\n",
       "  '_score': -14.662094116210938},\n",
       " {'passage': 'Yes, it is possible that poor circulation is responsible for your symptoms of muscle and joint pain. One of the most common manifestations of atherosclerotic disease is muscle pain caused due to poor blood supply and flow from damaged arteries. This muscle pain is commonly seen during any type of physical activity and ceases when you take rest.',\n",
       "  '_id': '8841202',\n",
       "  '_score': -14.210799217224121},\n",
       " {'passage': \"1 First, so that fireworks go where you intend to and don't fly in a random direction, causing fires, property damage, or injuries. 2  Second, because it helps display organizers to position firework effects with accuracy and precision.\",\n",
       "  '_id': '8841815',\n",
       "  '_score': -14.48412036895752},\n",
       " {'passage': 'Just add your pictures, add music file, choose a necessary format and you are done. You can also upload your presentation to YouTube right from the program by clicking â\\x80\\x9cto YouTubeâ\\x80\\x9d and inserting your YouTube account data. Cons: no possibility to add a wallpaper to your a slideshow.',\n",
       "  '_id': '8841238',\n",
       "  '_score': -14.672172546386719},\n",
       " {'passage': '1 Your doctor will probably tell you not to take paroxetine. If you stop taking paroxetine, you should wait at least 2 weeks before you start to take an MAO inhibitor.  tell your doctor and pharmacist what other prescription and nonprescription medications and vitamins you are taking or plan to take.',\n",
       "  '_id': '8841226',\n",
       "  '_score': -14.640843391418457},\n",
       " {'passage': 'Dwayne Michael Carter Jr., who you will know better as Lil Wayne, is a rapper from New Orleans, Louisiana. At the beginning, he was a part of the hip-hop group Hot Boys, who he released three albums with.',\n",
       "  '_id': '8841306',\n",
       "  '_score': -14.503351211547852},\n",
       " {'passage': 'Cayman Islands Weather. Cayman Islands Weather and When to Go. Cayman Islands weather essentials. Many people find that the best time of year to visit the Cayman Islands is during the winter months, and hotel room rates certaintly reflect that. Rates from Dec 15th through April 15th are much higher than the rest of the year.',\n",
       "  '_id': '8841219',\n",
       "  '_score': -14.803750038146973},\n",
       " {'passage': 'Brainstorm your topic and write a rough outline. Donâ\\x80\\x99t get carried awayâ\\x80\\x94remember you have a limited amount of time for your presentation. Organize your material and draft what you want to say [see below]. Summarize your draft into key points to write on overhead slides and/or notecards.',\n",
       "  '_id': '8841407',\n",
       "  '_score': -14.383036613464355},\n",
       " {'passage': \"You may have gained weight after gastric bypass surgery because of changes in your stomach and intestine that allow you to eat more and absorb more calories. It's also possible that your diet and exercise habits have slipped, in which case you must typically lose the regained weight the old-fashioned way â\\x80\\x94 both by reducing your calorie intake and increasing your physical activity.\",\n",
       "  '_id': '8841002',\n",
       "  '_score': -14.32726764678955},\n",
       " {'passage': 'Then... 1  Brainstorm your topic and write a rough outline. Donâ\\x80\\x99t get carried awayâ\\x80\\x94remember you have a limited amount of time for your presentation. 2  Organize your material and draft what you want to say [see below]. 3  Summarize your draft into key points to write on overhead slides and/or notecards.  Prepare your visual aids.',\n",
       "  '_id': '8841406',\n",
       "  '_score': -14.518903732299805},\n",
       " {'passage': \"It's like you have to have fun, because it is Fasching, and you have to think the (sometimes really really stupid) jokes funny. People try to be funny at all costs, and the audience laughs out of politeness or drunkenness, and I can gladly do without that for the most part.\",\n",
       "  '_id': '8841606',\n",
       "  '_score': -14.637758255004883},\n",
       " {'passage': 'OK Census Records Online by County. Greer County Census Records (Originally, Greer County, Texas, the land was assigned to the Oklahoma Territory on May 4, 1896. When Oklahoma became a state in 1907, this area knows as Greer County, OK was split into the four counties of Jackson, Greer, Harmon and par t of Beckham.',\n",
       "  '_id': '8841488',\n",
       "  '_score': -14.773014068603516},\n",
       " {'passage': 'OK Census Records Online by County. Greer County Census Records. (Originally, Greer County, Texas, the land was assigned to the Oklahoma Territory on May 4, 1896. When Oklahoma became a state in 1907, this area knows as Greer County, OK was split into the four counties of Jackson, Greer, Harmon and par t of Beckham.',\n",
       "  '_id': '8841491',\n",
       "  '_score': -14.802233695983887},\n",
       " {'passage': \"With recent advances in computer and video technology, it's become easier than ever to create amateur music videos. Like any artistic endeavor, the process of recording a music video can be rewarding, frustrating, fun, trying, exhausting, and thrilling-sometimes all at once. Silence your video when you put the music over it, so that no background noise interferes. 2  If you can't get all of the items necessary for filming a music video, ask a crew member or a friend if they have the item.\",\n",
       "  '_id': '8841252',\n",
       "  '_score': -14.282876968383789},\n",
       " {'passage': 'Data Import lets you upload data from external sources and combine it with data you collect via Google Analytics. You can then use Google Analytics to organize and analyze all of your data in ways that better reflect your business.',\n",
       "  '_id': '8841037',\n",
       "  '_score': -14.8209228515625},\n",
       " {'passage': 'Think about your audience. Yes, you want to demonstrate to your professor that you have conducted a good study. But professors often ask students to give an oral presentation to practice the art of communicating and to learn to speak clearly and audibly about yourself and your research.',\n",
       "  '_id': '8841408',\n",
       "  '_score': -14.512391090393066},\n",
       " {'passage': 'When did the US military start charging soldiers / sailors/ airmen for their meals? Someone stationed at a US base in the states showed me how they are being charged $560 / month for dining services to eat at chow halls run by civilians. This person was told that it was mandatory.',\n",
       "  '_id': '8840870',\n",
       "  '_score': -14.940909385681152},\n",
       " {'passage': 'Progressive dubbed their bubbly representative Flo. We know that because you can see it on what she refers to as her tricked out name tag.. However, the actress who plays Flo has her own name: Stephanie Courtney.',\n",
       "  '_id': '8840932',\n",
       "  '_score': -14.41962718963623},\n",
       " {'passage': 'Passive fire protection. Fire-resistance rated wall assembly with fire door, cable tray penetration and intumescent cable coating. Passive fire protection (PFP) is an integral component of the three components of structural fire protection and fire safety in a building. PFP attempts to contain fires or slow the spread, through use of fire-resistant walls, floors, and doors (amongst other examples).',\n",
       "  '_id': '8840943',\n",
       "  '_score': -13.887612342834473},\n",
       " {'passage': 'What is the Yowie? If you are from Australia you probably know about the Yowie legend. The Yowie is a massive, bipedal, ape-like creature some say stands up to three meters tall. If you are from North America this sounds like someone else youâ\\x80\\x99re probably familiar with: Bigfoot. There are more than a few similarities between Bigfoot and the Yowie, and itâ\\x80\\x99s easy to suppose they must be related.',\n",
       "  '_id': '8841642',\n",
       "  '_score': -14.395608901977539},\n",
       " {'passage': 'Average Carpenter Yearly Salary in Colorado. Carpenters earn a median salary of $41,870 per year. Salaries typically start from $25,020 and go up to $61,220. Learn more about the Carpenter job market for salaries of real jobs in your area. Alternatively, see what Carpenters earn in other states.',\n",
       "  '_id': '8841233',\n",
       "  '_score': -14.65118408203125}]"
      ]
     },
     "execution_count": 59,
     "metadata": {},
     "output_type": "execute_result"
    }
   ],
   "source": [
    "ret"
   ]
  },
  {
   "cell_type": "markdown",
   "metadata": {},
   "source": [
    "## Run Queries"
   ]
  },
  {
   "cell_type": "code",
   "execution_count": 186,
   "metadata": {},
   "outputs": [],
   "source": [
    "path = \"../eval/2020_automatic_evaluation_topics_v1.0.json\"\n",
    "key = \"raw_utterance\"\n",
    "queries = json.load(open(path))"
   ]
  },
  {
   "cell_type": "code",
   "execution_count": 190,
   "metadata": {},
   "outputs": [],
   "source": [
    "def run_queries(query_file: str, key: str, CAsT: object, run_id: str):\n",
    "\n",
    "    queries = json.load(open(query_file))\n",
    "    if queries[0].get(\"turn\", {})[0].get(key) is None:\n",
    "        raise KeyError(\"Provided key: \" + key +\n",
    "                       \"is not a valid key for queryfile\")\n",
    "    total_num = len(queries)\n",
    "    f = open(run_id + \".txt\", \"w\")\n",
    "\n",
    "    for i, topic in enumerate(queries):\n",
    "        print(\"Topic: {}/{}\".format(i+1, total_num))\n",
    "        CAsT.clear_context()\n",
    "        topic_id = topic.get(\"number\")\n",
    "        for turn in topic.get(\"turn\"):\n",
    "            turn_id = turn.get(\"number\")\n",
    "            hits = CAsT.query(turn.get(key))\n",
    "            for j, hit in enumerate(hits):\n",
    "                f.write(str(topic_id) + \"_\" + str(turn_id) + \"\\t\" + \"Q0\" + \"\\t\" + str(hit.get(\"_id\")) +\n",
    "                        \"\\t\" + str(j) + \"\\t\" + str(hit.get(\"_score\")) + \"\\t\" + str(run_id) + \"\\n\")\n",
    "    f.close()\n"
   ]
  },
  {
   "cell_type": "code",
   "execution_count": 188,
   "metadata": {},
   "outputs": [],
   "source": [
    "test_obj = CAsT(context_queries=3, reranking=True)"
   ]
  },
  {
   "cell_type": "code",
   "execution_count": 189,
   "metadata": {},
   "outputs": [
    {
     "name": "stdout",
     "output_type": "stream",
     "text": [
      "Topic: 0/25\n",
      "Topic: 1/25\n",
      "Topic: 2/25\n",
      "Topic: 3/25\n",
      "Topic: 4/25\n",
      "Topic: 5/25\n",
      "Topic: 6/25\n",
      "Topic: 7/25\n",
      "Topic: 8/25\n",
      "Topic: 9/25\n",
      "Topic: 10/25\n",
      "Topic: 11/25\n",
      "Topic: 12/25\n",
      "Topic: 13/25\n",
      "Topic: 14/25\n",
      "Topic: 15/25\n",
      "Topic: 16/25\n",
      "Topic: 17/25\n",
      "Topic: 18/25\n",
      "Topic: 19/25\n",
      "Topic: 20/25\n",
      "Topic: 21/25\n",
      "Topic: 22/25\n",
      "Topic: 23/25\n",
      "Topic: 24/25\n"
     ]
    }
   ],
   "source": [
    "run_queries(path, key=key, CAsT=test_obj, run_id=\"Test02\")"
   ]
  },
  {
   "cell_type": "code",
   "execution_count": 196,
   "metadata": {},
   "outputs": [
    {
     "name": "stderr",
     "output_type": "stream",
     "text": [
      "/var/folders/9c/qnbpggzx09q06mddxfqxb2yw0000gn/T/ipykernel_17415/1628959473.py:12: DeprecationWarning: The 'body' parameter is deprecated for the 'search' API and will be removed in 8.0.0. Instead use API parameters directly. See https://github.com/elastic/elasticsearch-py/issues/1698 for more information\n",
      "  es.search(index=INDEX_NAME, body=query)\n",
      "/Users/aleksanderdrzewiecki/opt/anaconda3/envs/ele510/lib/python3.9/site-packages/elasticsearch/connection/base.py:209: ElasticsearchWarning: Elasticsearch built-in security features are not enabled. Without authentication, your cluster could be accessible to anyone. See https://www.elastic.co/guide/en/elasticsearch/reference/7.15/security-minimal-setup.html to enable security.\n",
      "  warnings.warn(message, category=ElasticsearchWarning)\n"
     ]
    },
    {
     "data": {
      "text/plain": [
       "{'took': 1544,\n",
       " 'timed_out': False,\n",
       " '_shards': {'total': 1, 'successful': 1, 'skipped': 0, 'failed': 0},\n",
       " 'hits': {'total': {'value': 360, 'relation': 'eq'},\n",
       "  'max_score': 12.617959,\n",
       "  'hits': [{'_index': 'cast_base',\n",
       "    '_type': '_doc',\n",
       "    '_id': '8841100',\n",
       "    '_score': 12.617959,\n",
       "    '_source': {'passage': 'Frame vs. Frameless Shower Doors & Tub Enclosures. Frameless shower doors fit right in to modern bathrooms. Shower doors and tub enclosures play an important role in your bathroom. Not only do these structures keep water contained within the bath and shower where it belongs, but also they impact the overall style and decor of your space.'},\n",
       "    'highlight': {'passage': ['Frameless Shower <em>Doors</em> & Tub Enclosures. Frameless shower <em>doors</em> fit right in to modern bathrooms.',\n",
       "      'Shower <em>doors</em> and tub enclosures play an important role in <em>your</em> bathroom.',\n",
       "      'Not only <em>do</em> these structures keep water contained within the bath and shower where it belongs, but also',\n",
       "      'they impact the overall style and decor of <em>your</em> space.']}},\n",
       "   {'_index': 'cast_base',\n",
       "    '_type': '_doc',\n",
       "    '_id': '8841101',\n",
       "    '_score': 11.530061,\n",
       "    '_source': {'passage': 'The greatest advantage to using frameless shower doors lies in the variety of design options available. Frameless shower and tub enclosures may come in any size or style, allowing for optimal customization. The doors open in or out based on layout and design needs. With no frames to get in the way, frameless doors provide a more open, airy look, making it easy to show off beautiful tiles and other finishes. The lack of frames also makes for easier cleaning. Thanks to the heavier glass and smooth polished edges, frameless enclosures come at a premium price point compared to framed shower doors. The lack of seals and sweeps also means a greater chance of leaks, and limits where you can place the door in relation to the showerhead.'},\n",
       "    'highlight': {'passage': ['The greatest advantage to using frameless shower <em>doors</em> lies in the variety of design options available',\n",
       "      'The <em>doors</em> <em>open</em> in or out based on layout and design needs.',\n",
       "      'With no frames to get in the way, frameless <em>doors</em> provide a more <em>open</em>, airy look, making it easy to show',\n",
       "      'The lack of seals and sweeps also means a greater chance of leaks, and limits where <em>you</em> can place the',\n",
       "      '<em>door</em> in relation to the showerhead.']}},\n",
       "   {'_index': 'cast_base',\n",
       "    '_type': '_doc',\n",
       "    '_id': '8841106',\n",
       "    '_score': 11.167291,\n",
       "    '_source': {'passage': 'Frameless Vs. Framed Shower Door Costs. While frameless glass shower doors are gaining steam across the country, many homeowners still utilize your typical framed shower door. To no surprise, framed glass shower doors cost less than their frameless counterparts. According to our estimator, you can save between $200 and $500 on your total project. Frameless shower doors are more expensive because the glass is thicker and they require special hardware.'},\n",
       "    'highlight': {'passage': ['Framed Shower <em>Door</em> Costs.',\n",
       "      'While frameless glass shower <em>doors</em> are gaining steam across the country, many homeowners still utilize',\n",
       "      '<em>your</em> typical framed shower <em>door</em>.',\n",
       "      'To no surprise, framed glass shower <em>doors</em> cost less than their frameless counterparts.',\n",
       "      'According to our estimator, <em>you</em> can save between $200 and $500 on <em>your</em> total project.']}},\n",
       "   {'_index': 'cast_base',\n",
       "    '_type': '_doc',\n",
       "    '_id': '8841725',\n",
       "    '_score': 11.146344,\n",
       "    '_source': {'passage': 'OneDrive on any device, any time. When you save your files to OneDrive, you can access them from all your favourite devices, including PCs, Macs, tablets and mobile phones. Sign in Sign up Get your referral bonus Go to my OneDrive. Get 15 GB for free. Office Online included.'},\n",
       "    'highlight': {'passage': ['<em>When</em> <em>you</em> save <em>your</em> files to OneDrive, <em>you</em> can access them from all <em>your</em> favourite devices, including',\n",
       "      'Sign in Sign up Get <em>your</em> referral bonus <em>Go</em> to my OneDrive. Get 15 GB for free.']}},\n",
       "   {'_index': 'cast_base',\n",
       "    '_type': '_doc',\n",
       "    '_id': '8841103',\n",
       "    '_score': 11.115451,\n",
       "    '_source': {'passage': 'Find A Shower Contractor; Frameless Shower Door Cost. As you might expect, frameless shower doors cost more than your typical glass shower door. In fact, the average cost of a frameless glass shower door installation is $1,000. However, we have seen frameless glass shower door installs cost as low as $900 or as high as $1,300.'},\n",
       "    'highlight': {'passage': ['Find A Shower Contractor; Frameless Shower <em>Door</em> Cost.',\n",
       "      'As <em>you</em> might expect, frameless shower <em>doors</em> cost more than <em>your</em> typical glass shower <em>door</em>.',\n",
       "      'In fact, the average cost of a frameless glass shower <em>door</em> installation is $1,000.',\n",
       "      'However, we have seen frameless glass shower <em>door</em> installs cost as low as $900 or as high as $1,300.']}},\n",
       "   {'_index': 'cast_base',\n",
       "    '_type': '_doc',\n",
       "    '_id': '8841740',\n",
       "    '_score': 10.905427,\n",
       "    '_source': {'passage': 'Carbonic acid is a weak acid that is produced when carbon dioxide is dissolved in water. As you probably know, our atmosphere has a lot of carbon dioxide in it.It is also thoroughly saturated with water.From this, we might deduce that we live in a rather acidic environment â\\x80\\x94 and we do.arbonic acid is a weak acid that is produced when carbon dioxide is dissolved in water. As you probably know, our atmosphere has a lot of carbon dioxide in it. It is also thoroughly saturated with water. From this, we might deduce that we live in a rather acidic environment â\\x80\\x94 and we do.'},\n",
       "    'highlight': {'passage': ['Carbonic acid is a weak acid that is produced <em>when</em> carbon dioxide is dissolved in water.',\n",
       "      'As <em>you</em> probably <em>know</em>, our atmosphere has a lot of carbon dioxide in it.It is also thoroughly saturated',\n",
       "      'that we live in a rather acidic environment â\\x80\\x94 and we do.arbonic acid is a weak acid that is produced <em>when</em>',\n",
       "      'As <em>you</em> probably <em>know</em>, our atmosphere has a lot of carbon dioxide in it.',\n",
       "      'From this, we might deduce that we live in a rather acidic environment â\\x80\\x94 and we <em>do</em>.']}},\n",
       "   {'_index': 'cast_base',\n",
       "    '_type': '_doc',\n",
       "    '_id': '8841532',\n",
       "    '_score': 10.829366,\n",
       "    '_source': {'passage': 'If you are making your laminate flooring a DIY project, you might wonder â\\x80\\x9cwhat is the right direction to install my laminate flooring?â\\x80\\x9d When deciding the direction to install laminate flooring, I always let people know they have multiple options, but in the end, it is all about your personal taste and preference.'},\n",
       "    'highlight': {'passage': ['If <em>you</em> are making <em>your</em> laminate flooring a DIY project, <em>you</em> might wonder â\\x80\\x9cwhat is the right direction',\n",
       "      'â\\x80\\x9d <em>When</em> deciding the direction to install laminate flooring, I always let people <em>know</em> they have multiple',\n",
       "      'options, but in the end, it is all about <em>your</em> personal taste and preference.']}},\n",
       "   {'_index': 'cast_base',\n",
       "    '_type': '_doc',\n",
       "    '_id': '8841081',\n",
       "    '_score': 10.755478,\n",
       "    '_source': {'passage': \"In this article. Cluster headaches are a series of relatively short but extremely painful headaches every day for weeks or months at a time. You tend to get them at the same time each year, such as the spring or fall. Because of their seasonal nature, people often mistake cluster headaches for symptoms of allergies or business stress. We don't know what causes them, but we do know that a nerve in your face is involved, creating intense pain around one of your eyes.\"},\n",
       "    'highlight': {'passage': ['<em>You</em> tend to get them at the same time each year, such as the spring or fall.',\n",
       "      \"We don't <em>know</em> what causes them, but we <em>do</em> <em>know</em> that a nerve in <em>your</em> face is involved, creating intense\",\n",
       "      'pain around one of <em>your</em> eyes.']}},\n",
       "   {'_index': 'cast_base',\n",
       "    '_type': '_doc',\n",
       "    '_id': '8841255',\n",
       "    '_score': 10.49656,\n",
       "    '_source': {'passage': \"1 When you've finished you music video, share it! 2  Upload it to a video streaming site (see: How to Upload a Video to YouTube) and share the link with your friends and family. 3  If you're really confident in your work's quality, share your video with radio stations and music television channels. Silence your video when you put the music over it, so that no background noise interferes. 2  If you can't get all of the items necessary for filming a music video, ask a crew member or a friend if they have the item.\"},\n",
       "    'highlight': {'passage': [\"1 <em>When</em> you've finished <em>you</em> music video, share it!\",\n",
       "      '2  Upload it to a video streaming site (see: <em>How</em> to Upload a Video to YouTube) and share the link with',\n",
       "      \"<em>your</em> friends and family. 3  If you're really confident in <em>your</em> work's quality, share <em>your</em> video with\",\n",
       "      'Silence <em>your</em> video <em>when</em> <em>you</em> put the music over it, so that no background noise interferes. 2  If <em>you</em>']}},\n",
       "   {'_index': 'cast_base',\n",
       "    '_type': '_doc',\n",
       "    '_id': '8840962',\n",
       "    '_score': 10.46888,\n",
       "    '_source': {'passage': 'So, how do you start the process of becoming a graduate forester? Q: Do you have to be a forester to have a career in the forest? A: I frequently get employment, career and job questions on forestry and becoming a forester or forestry technician.'},\n",
       "    'highlight': {'passage': ['So, <em>how</em> <em>do</em> <em>you</em> start the process of becoming a graduate forester?',\n",
       "      'Q: <em>Do</em> <em>you</em> have to be a forester to have a career in the forest?']}}]}}"
      ]
     },
     "execution_count": 196,
     "metadata": {},
     "output_type": "execute_result"
    }
   ],
   "source": [
    "q = \"How do you know when your garage door opener is going bad?\"\n",
    "query = {\n",
    "  \"query\": {\n",
    "    \"match\": { \"passage\": q }\n",
    "  },\n",
    "  \"highlight\": {\n",
    "    \"fields\": {\n",
    "      \"passage\": {}\n",
    "    }\n",
    "  }\n",
    "}\n",
    "es.search(index=INDEX_NAME, body=query)"
   ]
  },
  {
   "cell_type": "markdown",
   "metadata": {},
   "source": [
    "## Reranking"
   ]
  },
  {
   "cell_type": "markdown",
   "metadata": {},
   "source": []
  }
 ],
 "metadata": {
  "interpreter": {
   "hash": "cd14fd67b6e04dc75a62665c7f630abe1747664dae3d4c5a81ce4213693fd44a"
  },
  "kernelspec": {
   "display_name": "Python 3.9.7 64-bit ('ele510': conda)",
   "language": "python",
   "name": "python3"
  },
  "language_info": {
   "codemirror_mode": {
    "name": "ipython",
    "version": 3
   },
   "file_extension": ".py",
   "mimetype": "text/x-python",
   "name": "python",
   "nbconvert_exporter": "python",
   "pygments_lexer": "ipython3",
   "version": "3.8.5"
  },
  "orig_nbformat": 4
 },
 "nbformat": 4,
 "nbformat_minor": 2
}
