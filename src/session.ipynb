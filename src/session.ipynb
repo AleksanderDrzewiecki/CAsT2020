{
 "cells": [
  {
   "cell_type": "markdown",
   "metadata": {},
   "source": [
    "# CAsT Session"
   ]
  },
  {
   "cell_type": "code",
   "execution_count": 1,
   "metadata": {},
   "outputs": [
    {
     "ename": "ModuleNotFoundError",
     "evalue": "No module named 'protobuf'",
     "output_type": "error",
     "traceback": [
      "\u001b[0;31m---------------------------------------------------------------------------\u001b[0m",
      "\u001b[0;31mModuleNotFoundError\u001b[0m                       Traceback (most recent call last)",
      "\u001b[0;32m/var/folders/9c/qnbpggzx09q06mddxfqxb2yw0000gn/T/ipykernel_17415/3975684288.py\u001b[0m in \u001b[0;36m<module>\u001b[0;34m\u001b[0m\n\u001b[0;32m----> 1\u001b[0;31m \u001b[0;32mimport\u001b[0m \u001b[0mprotobuf\u001b[0m\u001b[0;34m\u001b[0m\u001b[0;34m\u001b[0m\u001b[0m\n\u001b[0m",
      "\u001b[0;31mModuleNotFoundError\u001b[0m: No module named 'protobuf'"
     ]
    }
   ],
   "source": [
    "import protobuf"
   ]
  },
  {
   "cell_type": "code",
   "execution_count": 2,
   "metadata": {},
   "outputs": [],
   "source": [
    "from transformers import AutoTokenizer, AutoModelForSeq2SeqLM"
   ]
  },
  {
   "cell_type": "code",
   "execution_count": 3,
   "metadata": {},
   "outputs": [],
   "source": [
    "from elasticsearch import Elasticsearch\n",
    "from typing import Dict, List, Optional\n",
    "import json\n",
    "\n",
    "import ipytest\n",
    "import pytest\n",
    "\n",
    "ipytest.autoconfig()"
   ]
  },
  {
   "cell_type": "code",
   "execution_count": 4,
   "metadata": {},
   "outputs": [],
   "source": [
    "INDEX_NAME = \"cast_base\"\n",
    "es = Elasticsearch()"
   ]
  },
  {
   "cell_type": "markdown",
   "metadata": {},
   "source": [
    "## T5 testing"
   ]
  },
  {
   "cell_type": "code",
   "execution_count": 5,
   "metadata": {},
   "outputs": [
    {
     "name": "stderr",
     "output_type": "stream",
     "text": [
      "Downloading: 100%|██████████| 850M/850M [00:43<00:00, 20.5MB/s]\n"
     ]
    }
   ],
   "source": [
    "tokenizer = AutoTokenizer.from_pretrained(\"castorini/t5-base-canard\")\n",
    "\n",
    "model = AutoModelForSeq2SeqLM.from_pretrained(\"castorini/t5-base-canard\")"
   ]
  },
  {
   "cell_type": "code",
   "execution_count": 17,
   "metadata": {},
   "outputs": [
    {
     "name": "stdout",
     "output_type": "stream",
     "text": [
      "Is Jafar funny?\n"
     ]
    }
   ],
   "source": [
    "input_ids = tokenizer('Jafar is funny. <sep> Is he funny?', return_tensors='pt').input_ids\n",
    "outputs = model.generate(input_ids)\n",
    "print(tokenizer.decode(outputs[0], skip_special_tokens=True))"
   ]
  },
  {
   "cell_type": "markdown",
   "metadata": {},
   "source": [
    "## Framework"
   ]
  },
  {
   "cell_type": "code",
   "execution_count": 166,
   "metadata": {},
   "outputs": [],
   "source": [
    "class CAsT():\n",
    "    def __init__(self, context_queries: int = 0, context_responses: int = 0) -> None:\n",
    "        self.INDEX_NAME = \"cast_base\"\n",
    "        self.es = Elasticsearch()\n",
    "        self.queries = []\n",
    "        self.responses = []\n",
    "        self.context_queries = context_queries\n",
    "        self.context_responses = context_responses\n",
    "\n",
    "        self.tokenizer = AutoTokenizer.from_pretrained(\n",
    "            \"castorini/t5-base-canard\")\n",
    "        self.model = AutoModelForSeq2SeqLM.from_pretrained(\n",
    "            \"castorini/t5-base-canard\")\n",
    "\n",
    "    def clear_context(self, clear_queries: bool = True, clear_responses: bool = True):\n",
    "        if clear_queries:\n",
    "            self.queries = []\n",
    "        if clear_responses:\n",
    "            self.responses = []\n",
    "\n",
    "    def query(self, q: str) -> str:\n",
    "        \"\"\" \n",
    "            returns: passage_id NOTE: for now complete hit is returned\n",
    "        \"\"\"\n",
    "        sep = \" <sep>\"\n",
    "        qs = []\n",
    "        if self.context_queries > 0 or self.context_responses > 0:\n",
    "            for i in range(1, max(self.context_queries, self.context_responses)+1):\n",
    "                if i <= self.context_queries:\n",
    "                    if len(self.queries) >= i:\n",
    "                        qs.insert(0,self.queries[-i])\n",
    "\n",
    "                if i <= self.context_responses:\n",
    "                    if len(self.responses) >= i:\n",
    "                        qs.insert(0,self.responses[-i])\n",
    "        qs.append(q)\n",
    "\n",
    "        input_ids = tokenizer(sep.join(qs), return_tensors='pt').input_ids\n",
    "        outputs = model.generate(input_ids)\n",
    "\n",
    "        query = tokenizer.decode(outputs[0], skip_special_tokens=True)\n",
    "        self.queries.append(query)  # * Adding reformated query to context\n",
    "\n",
    "        hits = es.search(\n",
    "            index=self.INDEX_NAME, q=query, _source=True, size=100\n",
    "        ).get(\"hits\", {}).get(\"hits\")\n",
    "\n",
    "        if len(hits) > 0:\n",
    "            print(\"Query: \" + query)\n",
    "            self.responses.append(hits[0].get(\"_source\").get(\"passage\"))\n",
    "            return hits[:500]\n",
    "        else:\n",
    "            return []\n"
   ]
  },
  {
   "cell_type": "markdown",
   "metadata": {},
   "source": [
    "### Framework tests"
   ]
  },
  {
   "cell_type": "code",
   "execution_count": 164,
   "metadata": {},
   "outputs": [
    {
     "data": {
      "text/plain": [
       "[3, 2, 1]"
      ]
     },
     "execution_count": 164,
     "metadata": {},
     "output_type": "execute_result"
    }
   ],
   "source": [
    "A = []\n",
    "A.insert(0,1)\n",
    "A.insert(0,2)\n",
    "A.insert(0,3)\n",
    "A"
   ]
  },
  {
   "cell_type": "code",
   "execution_count": 140,
   "metadata": {},
   "outputs": [],
   "source": [
    "test = CAsT()"
   ]
  },
  {
   "cell_type": "code",
   "execution_count": 141,
   "metadata": {},
   "outputs": [
    {
     "name": "stdout",
     "output_type": "stream",
     "text": [
      "Entered 'i <= context_queries:'\n",
      "Query: Tell me about Oslo?\n"
     ]
    },
    {
     "name": "stderr",
     "output_type": "stream",
     "text": [
      "/Users/aleksanderdrzewiecki/opt/anaconda3/envs/ele510/lib/python3.9/site-packages/elasticsearch/connection/base.py:209: ElasticsearchWarning: Elasticsearch built-in security features are not enabled. Without authentication, your cluster could be accessible to anyone. See https://www.elastic.co/guide/en/elasticsearch/reference/7.15/security-minimal-setup.html to enable security.\n",
      "  warnings.warn(message, category=ElasticsearchWarning)\n"
     ]
    },
    {
     "data": {
      "text/plain": [
       "{'_index': 'cast_base',\n",
       " '_type': '_doc',\n",
       " '_id': '8841272',\n",
       " '_score': 9.102427,\n",
       " '_source': {'passage': \"Tell a friend about us, add a link to this page, or visit the webmaster's page for free fun content. Link to this page: <a href=http://acronyms.thefreedictionary.com/South+African+Board+for+Personnel+Practice>SABPP</a>. Facebook.\"}}"
      ]
     },
     "execution_count": 141,
     "metadata": {},
     "output_type": "execute_result"
    }
   ],
   "source": [
    "test.query(\"Tell me about Oslo?\", context_queries=1)"
   ]
  },
  {
   "cell_type": "code",
   "execution_count": 142,
   "metadata": {},
   "outputs": [
    {
     "name": "stdout",
     "output_type": "stream",
     "text": [
      "Entered 'i <= context_queries:'\n",
      "Entered 'len(self.queries) >= i:'\n",
      "Query: Where is Oslo located?\n"
     ]
    },
    {
     "data": {
      "text/plain": [
       "{'_index': 'cast_base',\n",
       " '_type': '_doc',\n",
       " '_id': '8841012',\n",
       " '_score': 4.786257,\n",
       " '_source': {'passage': 'Refraction of Sound. Refraction is the bending of waves when they enter a medium where their speed is different. Refraction is not so important a phenomenon with sound as it is with light where it is responsible for image formation by lenses, the eye, cameras, etc.But bending of sound waves does occur and is an interesting phenomena in sound.efraction of Sound. Refraction is the bending of waves when they enter a medium where their speed is different. Refraction is not so important a phenomenon with sound as it is with light where it is responsible for image formation by lenses, the eye, cameras, etc.'}}"
      ]
     },
     "execution_count": 142,
     "metadata": {},
     "output_type": "execute_result"
    }
   ],
   "source": [
    "test.query(\"Where is it?\", context_queries=1)"
   ]
  },
  {
   "cell_type": "code",
   "execution_count": null,
   "metadata": {},
   "outputs": [],
   "source": []
  },
  {
   "cell_type": "markdown",
   "metadata": {},
   "source": [
    "## Run Queries"
   ]
  },
  {
   "cell_type": "code",
   "execution_count": 158,
   "metadata": {},
   "outputs": [],
   "source": [
    "path = \"../eval/2020_automatic_evaluation_topics_v1.0.json\"\n",
    "key = \"raw_utterance\"\n",
    "queries = json.load(open(path))"
   ]
  },
  {
   "cell_type": "code",
   "execution_count": 170,
   "metadata": {},
   "outputs": [],
   "source": [
    "def run_queries(query_file: str, key: str, CAsT: object, run_id: str):\n",
    "\n",
    "    queries = json.load(open(query_file))\n",
    "    if queries[0].get(\"turn\", {})[0].get(key) is None:\n",
    "        raise KeyError(\"Provided key: \" + key +\n",
    "                       \"is not a valid key for queryfile\")\n",
    "\n",
    "    f = open(run_id + \".txt\", \"w\")\n",
    "\n",
    "    for topic in queries:\n",
    "        CAsT.clear_context()\n",
    "        topic_id = topic.get(\"number\")\n",
    "        for turn in topic.get(\"turn\"):\n",
    "            turn_id = turn.get(\"number\")\n",
    "            hits = CAsT.query(turn.get(key))\n",
    "            for j, hit in enumerate(hits):\n",
    "                hit_id = \"MARCO_\" + hit.get(\"_id\") if hit.get(\"_source\").get(\n",
    "                    \"origin\") == \"msmarco\" else \"CAR_\" + hit.get(\"_id\")\n",
    "                f.write(str(topic_id) + \"_\" + str(turn_id) + \"\\t\" + \"Q0\" + \"\\t\" + str(hit_id) +\n",
    "                        \"\\t\" + str(j) + \"\\t\" + str(hit.get(\"_score\")) + \"\\t\" + str(run_id) + \"\\n\")\n",
    "    f.close()\n"
   ]
  },
  {
   "cell_type": "code",
   "execution_count": 168,
   "metadata": {},
   "outputs": [],
   "source": [
    "test_obj = CAsT()"
   ]
  },
  {
   "cell_type": "code",
   "execution_count": 171,
   "metadata": {},
   "outputs": [
    {
     "name": "stderr",
     "output_type": "stream",
     "text": [
      "/Users/aleksanderdrzewiecki/opt/anaconda3/envs/ele510/lib/python3.9/site-packages/elasticsearch/connection/base.py:209: ElasticsearchWarning: Elasticsearch built-in security features are not enabled. Without authentication, your cluster could be accessible to anyone. See https://www.elastic.co/guide/en/elasticsearch/reference/7.15/security-minimal-setup.html to enable security.\n",
      "  warnings.warn(message, category=ElasticsearchWarning)\n"
     ]
    },
    {
     "name": "stdout",
     "output_type": "stream",
     "text": [
      "Query: How do you know when your garage door opener is going bad?\n",
      "Query: Now it stopped working. Why?\n",
      "Query: How much does it cost for someone to fix a problem with a broken pipe?\n",
      "Query: How about replacing the old TV instead?\n",
      "Query: How do I choose a new one?\n",
      "Query: What does a smart one do?\n",
      "Query: What's important for me to know about the safety of children?\n",
      "Query: How could the accounts be hacked?\n",
      "Query: I would like to learn about GMO Food labeling.\n",
      "Query: What are the pros and cons of a particular product?\n",
      "Query: And what about the cons of the gist of the article?\n",
      "Query: What are the EU rules?\n",
      "Query: Tell me more about traceability tools.\n",
      "Query: What is the role of Co-Extra?\n",
      "Query: How is testing done for contamination?\n",
      "Query: What's the difference between the European and US approaches?\n",
      "Query: How does the DNA-based method work?\n",
      "Query: How could Co-Extra improve it?\n",
      "Query: What are some interesting facts about bees?\n",
      "Query: Why doesn't the film spoil?\n",
      "Query: Why are so many dying in Africa?\n",
      "Query: What can be done to stop it?\n",
      "Query: What has happened to the habitat of the rhododendrons?\n",
      "Query: What can I do to help with the problem of the problem of the problem of the problem of\n",
      "Query: What is the cause of CCD?\n",
      "Query: What would happen if the band died out?\n",
      "Query: How does seed investment work for startups?\n",
      "Query: Tell me more about angel rounds.\n",
      "Query: How does crowdfunding compare with crowdfunding?\n",
      "Query: How much is a typical A series round?\n",
      "Query: What are the risks of investing in stocks?\n",
      "Query: What are the different types of instruments used by VCs?\n",
      "Query: How much does a used Lamborghini cost?\n",
      "Query: How does the car compare to a Ferrari?\n",
      "Query: What about for a pimped-out food truck?\n",
      "Query: What licenses and permits are needed for the production of a product?\n",
      "Query: What makes a good location?\n",
      "Query: What is a typical day like?\n",
      "Query: How can I run it successfully?\n",
      "Query: What are some good examples to learn from?\n",
      "Query: Besides inventive flavors, what made the album successful?\n",
      "Query: What is the climate like in Utah?\n",
      "Query: How does Salt Lake City differ from other cities?\n",
      "Query: What is the main economic activity of the state of Georgia?\n",
      "Query: What was the impact of the 2002 games?\n",
      "Query: What were important ski locations used?\n",
      "Query: What are the important non-ski events that happen in the city of San Francisco?\n",
      "Query: What are some popular non-winter things to do in the area?\n",
      "Query: What are the different types of orange trees?\n",
      "Query: How can you tell the two groups apart?\n",
      "Query: What type of thorns does the horn have?\n",
      "Query: Where do they originally come from?\n",
      "Query: Tell me about the Hamlin variety.\n",
      "Query: Why did PB replace PB?\n",
      "Query: What are the different types of navels?\n",
      "Query: Which is the most delicious?\n",
      "Query: How do blood oranges compare with blood oranges?\n",
      "Query: Can I have some information on the labor systems of the Ottoman Empire?\n",
      "Query: What was the role of slavery in the history of slavery?\n",
      "Query: How did the Ministry of Finance govern?\n",
      "Query: Why was it important to have a symphony of information?\n",
      "Query: What was the culture like in the U.S.?\n",
      "Query: What was the role of storytellers in the film industry?\n",
      "Query: What were popular stories about?\n",
      "Query: What was the importance of the millet?\n",
      "Query: Why did the British continue to use the British method of obtaining information?\n",
      "Query: What is the historical importance of the iBird in developing national identities?\n",
      "Query: What is the relationship between predator and prey?\n",
      "Query: What do predator plants eat?\n",
      "Query: What about Venus flytraps in particular?\n",
      "Query: Where is the song native to?\n",
      "Query: How do the lions attract and catch their prey?\n",
      "Query: What are other similar plants from the native area other than cypress?\n",
      "Query: How do populations of predators and prey relate?\n",
      "Query: Why would the roles reverse?\n",
      "Query: How does the relationship influence biodiversity?\n",
      "Query: What are examples of predators from the CIA?\n",
      "Query: Why would humans be considered one?\n",
      "Query: Which is the biggest commercial plane?\n",
      "Query: What are the company's operational costs?\n",
      "Query: How does the fuel consumption of the Nissan's competitors compare to the Nissan's\n",
      "Query: How do the freighter versions of cars compare to each other?\n",
      "Query: Why did the A380 stop being produced?\n",
      "Query: What was Boeing's response to compete with it?\n",
      "Query: What is the newest version of the game and what is better about it?\n",
      "Query: What are the differences between the variants of the same name?\n",
      "Query: What is the purpose of GDPR?\n",
      "Query: What is different compared to previous legislation?\n",
      "Query: What are the privacy implications of the technologies used to create the Privacy Hub?\n",
      "Query: What is the full range of personal data that IP addresses are considered PII?\n",
      "Query: How do big companies adapt to GDPR?\n",
      "Query: OK. Tell me about the privacy issues in social networks.\n",
      "Query: What do people get in return for their privacy?\n",
      "Query: What are the symptoms of addiction?\n",
      "Query: Do shoulder braces help recover from an injury?\n",
      "Query: Tell me more about some exercises that could help.\n",
      "Query: What are some others other than the ones you mentioned?\n",
      "Query: How do I know if the problem is serious?\n",
      "Query: When should you consider surgery?\n",
      "Query: What are other ways to treat the pain other than using a numbness?\n",
      "Query: How do I stop it from hurting at my desk?\n",
      "Query: What are the benefits of a standing one?\n",
      "Query: Tell me about purchasing a Burger King franchise.\n",
      "Query: No, not information about the acquisition. I want to know how to open a franchise.\n",
      "Query: Is there any financial support for the fee?\n",
      "Query: How much does an owner typically make?\n",
      "Query: Is it better to be a franchise or independent?\n",
      "Query: What support does the company provide?\n",
      "Query: What is the process for OK let's do it?\n",
      "Query: How did snowboarding begin?\n",
      "Query: Who were the winners of the contest?\n",
      "Query: What are strap-in bindings?\n",
      "Query: What's an alternative to the binding style?\n",
      "Query: What else do I need for my first time other than a good book?\n",
      "Query: How can I teach myself to get started?\n",
      "Query: What are the best slopes in Seattle?\n",
      "Query: What are other things to do at Bachelor other than studying?\n",
      "Query: How are waste and garbage processed?\n",
      "Query: What is the impact of burning on the environment?\n",
      "Query: So you can compact them; why does it slow the waste processing?\n",
      "Query: How is sewage recycled?\n",
      "Query: What are the pros and cons of recycling vs composting?\n",
      "Query: Tell me more about biodegradable plastics.\n",
      "Query: How are they made?\n",
      "Query: How is corn oil used in the production of corn oil?\n",
      "Query: How do you make Japanese Yakiniku?\n",
      "Query: Can the sauce be used in other dishes besides pasta?\n",
      "Query: What are the best Yakiniku restaurants in Tokyo?\n",
      "Query: Tell me about three star Michelin sushi restaurants there.\n",
      "Query: Oh you need an agent to make reservations?\n",
      "Query: Tell me other fun things to do in the area besides the sandcastles.\n",
      "Query: What is the cost of living in NYC compared to NYC?\n",
      "Query: What is the salary of foreign law firms in the Philippines?\n",
      "Query: Who are the rivals of the Steelers?\n",
      "Query: What are notable games between Ravens versus Steelers?\n",
      "Query: And notable moments in their rivalry?\n",
      "Query: Tell me more about Polamalu's interception.\n",
      "Query: How about his pick-6?\n",
      "Query: Tell me more about the immaculate reception.\n",
      "Query: What happened to the stadium in the 1970s?\n",
      "Query: Tell me more about the defense of the band.\n",
      "Query: What is the environmental cost of food production?\n",
      "Query: How is that much water for meat?\n",
      "Query: How much less is used for vegetables?\n",
      "Query: What are the benefits of being vegetarian?\n",
      "Query: Are there any health concerns with the oes?\n",
      "Query: What are the sources of proteins of the dinosaurs?\n",
      "Query: Can you show me recipes with Oh Almonds?\n",
      "Query: How do you make the flour?\n",
      "Query: What is high blood carbon dioxide?\n",
      "Query: What should you do to treat a syphilis?\n",
      "Query: How about high cholesterol?\n",
      "Query: What should I eat to improve my health?\n",
      "Query: What are the differences between the two fats?\n",
      "Query: Is the other fat good for you besides being two types?\n",
      "Query: Besides fish, what other foods are good sources?\n",
      "Query: What types of olive oil does olive oil contain?\n",
      "Query: What causes my teeth to chip off?\n",
      "Query: Oh, what can they do to fix the problem?\n",
      "Query: I have a larger chip, how do the options different for me?\n",
      "Query: What about using an implant?\n",
      "Query: Which one is more expensive?\n",
      "Query: What is the coverage of the crown in insurance?\n",
      "Query: I meant medicare.\n",
      "Query: Show me covered dentists in Seattle\n",
      "Query: What is Melania Trump's religion?\n",
      "Query: What did Meghan do before she was married?\n",
      "Query: Does the woman have children?\n",
      "Query: How old is the boy in the picture?\n",
      "Query: Where is the Kit Kat Club?\n",
      "Query: When did Meghan become a model?\n",
      "Query: Do we pay the First Lady for her services?\n",
      "Query: What about Ivanka?\n",
      "Query: What does he do at the White House?\n",
      "Query: When did social security start in the US?\n",
      "Query: Was the mandatory requirement for a school?\n",
      "Query: Who received the first check?\n",
      "Query: When did the government start borrowing from the government?\n",
      "Query: How much is owed to the IRS?\n",
      "Query: When will the bank run out of money?\n",
      "Query: Wow! What will happen to the band?\n",
      "Query: Can the problem be fixed?\n",
      "Query: How much of an increase is there in regards to the increase in income?\n",
      "Query: Why were the Dead such an influential live band?\n",
      "Query: Why did the BBC allow live recordings?\n",
      "Query: Did the band have a #1 hit?\n",
      "Query: Who was the leader in the group?\n",
      "Query: How did he lose his finger?\n",
      "Query: What was the relationship of the Airplane pilot to the plane?\n",
      "Query: Is Cassidy about Jack Casady?\n",
      "Query: Who wrote \" The Hunger Games \"?\n",
      "Query: What else did the authors write besides \" The Graph \"?\n",
      "Query: Why did the band break up?\n",
      "Query: Who are some of the well-known Information Retrieval researchers?\n",
      "Query: What did he work on?\n",
      "Query: Who are some important British ones?\n",
      "Query: What did the studies of the author contribute to evaluation?\n",
      "Query: What are some criticisms of the experiments?\n",
      "Query: How did the influencers influence modern initiatives?\n",
      "Query: What is TREC?\n",
      "Query: What are some recent tasks?\n",
      "Query: What is e-Discovery?\n",
      "Query: What are the important components of a test collection?\n",
      "Query: What about benchmarks for music?\n",
      "Query: What are important measures for web search engines?\n",
      "Query: What about online ones?\n",
      "Query: When did the Black Lives Matter campaign begin?\n",
      "Query: Tell me more about what happened to you.\n",
      "Query: Why was he acquitted of the charges of fraud against him?\n",
      "Query: And how about what happened to Brown?\n",
      "Query: Who named the movement after?\n",
      "Query: What was the US reaction to the revelation?\n",
      "Query: Tell me more about the movement of the police supporters.\n",
      "Query: Why were the people killed in the article?\n",
      "Query: What else motivates the Black Lives Matter movement besides Black Lives Matter?\n"
     ]
    }
   ],
   "source": [
    "run_queries(path, key=key, CAsT=test_obj, run_id=\"Test01\")"
   ]
  },
  {
   "cell_type": "code",
   "execution_count": null,
   "metadata": {},
   "outputs": [],
   "source": []
  }
 ],
 "metadata": {
  "interpreter": {
   "hash": "cd14fd67b6e04dc75a62665c7f630abe1747664dae3d4c5a81ce4213693fd44a"
  },
  "kernelspec": {
   "display_name": "Python 3.9.7 64-bit ('ele510': conda)",
   "language": "python",
   "name": "python3"
  },
  "language_info": {
   "codemirror_mode": {
    "name": "ipython",
    "version": 3
   },
   "file_extension": ".py",
   "mimetype": "text/x-python",
   "name": "python",
   "nbconvert_exporter": "python",
   "pygments_lexer": "ipython3",
   "version": "3.9.7"
  },
  "orig_nbformat": 4
 },
 "nbformat": 4,
 "nbformat_minor": 2
}
