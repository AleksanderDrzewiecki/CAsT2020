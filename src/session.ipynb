{
 "cells": [
  {
   "cell_type": "markdown",
   "metadata": {},
   "source": [
    "# CAsT Session"
   ]
  },
  {
   "cell_type": "code",
   "execution_count": 1,
   "metadata": {},
   "outputs": [
    {
     "ename": "ModuleNotFoundError",
     "evalue": "No module named 'protobuf'",
     "output_type": "error",
     "traceback": [
      "\u001b[0;31m---------------------------------------------------------------------------\u001b[0m",
      "\u001b[0;31mModuleNotFoundError\u001b[0m                       Traceback (most recent call last)",
      "\u001b[0;32m/var/folders/9c/qnbpggzx09q06mddxfqxb2yw0000gn/T/ipykernel_17415/3975684288.py\u001b[0m in \u001b[0;36m<module>\u001b[0;34m\u001b[0m\n\u001b[0;32m----> 1\u001b[0;31m \u001b[0;32mimport\u001b[0m \u001b[0mprotobuf\u001b[0m\u001b[0;34m\u001b[0m\u001b[0;34m\u001b[0m\u001b[0m\n\u001b[0m",
      "\u001b[0;31mModuleNotFoundError\u001b[0m: No module named 'protobuf'"
     ]
    }
   ],
   "source": [
    "import protobuf"
   ]
  },
  {
   "cell_type": "code",
   "execution_count": 2,
   "metadata": {},
   "outputs": [],
   "source": [
    "from transformers import AutoTokenizer, AutoModelForSeq2SeqLM"
   ]
  },
  {
   "cell_type": "code",
   "execution_count": 3,
   "metadata": {},
   "outputs": [],
   "source": [
    "from elasticsearch import Elasticsearch\n",
    "from typing import Dict, List, Optional\n",
    "import json\n",
    "\n",
    "import ipytest\n",
    "import pytest\n",
    "\n",
    "ipytest.autoconfig()"
   ]
  },
  {
   "cell_type": "code",
   "execution_count": 4,
   "metadata": {},
   "outputs": [],
   "source": [
    "INDEX_NAME = \"cast_base\"\n",
    "es = Elasticsearch()"
   ]
  },
  {
   "cell_type": "markdown",
   "metadata": {},
   "source": [
    "## T5 testing"
   ]
  },
  {
   "cell_type": "code",
   "execution_count": 5,
   "metadata": {},
   "outputs": [
    {
     "name": "stderr",
     "output_type": "stream",
     "text": [
      "Downloading: 100%|██████████| 850M/850M [00:43<00:00, 20.5MB/s]\n"
     ]
    }
   ],
   "source": [
    "tokenizer = AutoTokenizer.from_pretrained(\"castorini/t5-base-canard\")\n",
    "\n",
    "model = AutoModelForSeq2SeqLM.from_pretrained(\"castorini/t5-base-canard\")"
   ]
  },
  {
   "cell_type": "code",
   "execution_count": 17,
   "metadata": {},
   "outputs": [
    {
     "name": "stdout",
     "output_type": "stream",
     "text": [
      "Is Jafar funny?\n"
     ]
    }
   ],
   "source": [
    "input_ids = tokenizer('Jafar is funny. <sep> Is he funny?', return_tensors='pt').input_ids\n",
    "outputs = model.generate(input_ids)\n",
    "print(tokenizer.decode(outputs[0], skip_special_tokens=True))"
   ]
  },
  {
   "cell_type": "markdown",
   "metadata": {},
   "source": [
    "## Framework"
   ]
  },
  {
   "cell_type": "code",
   "execution_count": 126,
   "metadata": {},
   "outputs": [],
   "source": [
    "class CAsT():\n",
    "    def __init__(self) -> None:\n",
    "        self.INDEX_NAME = \"cast_base\"\n",
    "        self.es = Elasticsearch()\n",
    "        self.queries = []\n",
    "        self.responses = []\n",
    "\n",
    "        self.tokenizer = AutoTokenizer.from_pretrained(\n",
    "            \"castorini/t5-base-canard\")\n",
    "        self.model = AutoModelForSeq2SeqLM.from_pretrained(\n",
    "            \"castorini/t5-base-canard\")\n",
    "\n",
    "    def clear_context(self, clear_queries: bool, clear_responses: bool):\n",
    "        if clear_queries:\n",
    "            self.queries = []\n",
    "        if clear_responses:\n",
    "            self.responses = []\n",
    "\n",
    "    def query(self, q: str, context_queries: int = 0, context_responses: int = 0) -> str:\n",
    "        \"\"\" \n",
    "            returns: passage_id NOTE: for now complete hit is returned\n",
    "        \"\"\"\n",
    "        sep = \" <sep>\"\n",
    "        qs = []\n",
    "        if context_queries > 0 or context_responses > 0:\n",
    "            for i in range(1, max(context_queries, context_responses)+1):\n",
    "                if i <= context_queries:\n",
    "                    print(\"Entered 'i <= context_queries:'\")\n",
    "                    if len(self.queries) >= i:\n",
    "                        print(\"Entered 'len(self.queries) >= i:'\")\n",
    "                        qs.append(self.queries[-i])\n",
    "\n",
    "                if i <= context_responses:\n",
    "                    if len(self.responses) >= i:\n",
    "                        qs.append(self.responses[-i])\n",
    "        qs.append(q)\n",
    "\n",
    "        input_ids = tokenizer(sep.join(qs), return_tensors='pt').input_ids\n",
    "        outputs = model.generate(input_ids)\n",
    "\n",
    "        query = tokenizer.decode(outputs[0], skip_special_tokens=True)\n",
    "        self.queries.append(query)  # * Adding reformated query to context\n",
    "\n",
    "        hits = es.search(\n",
    "            index=self.INDEX_NAME, q=query, _source=True, size=100\n",
    "        ).get(\"hits\", {}).get(\"hits\")\n",
    "\n",
    "        if hits is not None:\n",
    "            print(\"Query: \" + query)\n",
    "            self.responses.append(hits[0].get(\"_source\").get(\"passage\"))\n",
    "            return hits[0]\n",
    "        else:\n",
    "            return None\n"
   ]
  },
  {
   "cell_type": "markdown",
   "metadata": {},
   "source": [
    "### Framework tests"
   ]
  },
  {
   "cell_type": "code",
   "execution_count": 127,
   "metadata": {},
   "outputs": [],
   "source": [
    "test = CAsT()"
   ]
  },
  {
   "cell_type": "code",
   "execution_count": 128,
   "metadata": {},
   "outputs": [
    {
     "name": "stdout",
     "output_type": "stream",
     "text": [
      "Entered 'i <= context_queries:'\n",
      "Query: Tell me about Oslo?\n"
     ]
    },
    {
     "data": {
      "text/plain": [
       "{'_index': 'cast_base',\n",
       " '_type': '_doc',\n",
       " '_id': '8841272',\n",
       " '_score': 9.102427,\n",
       " '_source': {'passage': \"Tell a friend about us, add a link to this page, or visit the webmaster's page for free fun content. Link to this page: <a href=http://acronyms.thefreedictionary.com/South+African+Board+for+Personnel+Practice>SABPP</a>. Facebook.\"}}"
      ]
     },
     "execution_count": 128,
     "metadata": {},
     "output_type": "execute_result"
    }
   ],
   "source": [
    "test.query(\"Tell me about Oslo?\", context_queries=1)"
   ]
  },
  {
   "cell_type": "code",
   "execution_count": 129,
   "metadata": {},
   "outputs": [
    {
     "name": "stdout",
     "output_type": "stream",
     "text": [
      "Entered 'i <= context_queries:'\n",
      "Entered 'len(self.queries) >= i:'\n",
      "Query: Where is Oslo located?\n"
     ]
    },
    {
     "data": {
      "text/plain": [
       "{'_index': 'cast_base',\n",
       " '_type': '_doc',\n",
       " '_id': '8841012',\n",
       " '_score': 4.786257,\n",
       " '_source': {'passage': 'Refraction of Sound. Refraction is the bending of waves when they enter a medium where their speed is different. Refraction is not so important a phenomenon with sound as it is with light where it is responsible for image formation by lenses, the eye, cameras, etc.But bending of sound waves does occur and is an interesting phenomena in sound.efraction of Sound. Refraction is the bending of waves when they enter a medium where their speed is different. Refraction is not so important a phenomenon with sound as it is with light where it is responsible for image formation by lenses, the eye, cameras, etc.'}}"
      ]
     },
     "execution_count": 129,
     "metadata": {},
     "output_type": "execute_result"
    }
   ],
   "source": [
    "test.query(\"Where is it?\", context_queries=1)"
   ]
  },
  {
   "cell_type": "code",
   "execution_count": null,
   "metadata": {},
   "outputs": [],
   "source": []
  },
  {
   "cell_type": "markdown",
   "metadata": {},
   "source": []
  }
 ],
 "metadata": {
  "interpreter": {
   "hash": "cd14fd67b6e04dc75a62665c7f630abe1747664dae3d4c5a81ce4213693fd44a"
  },
  "kernelspec": {
   "display_name": "Python 3.9.7 64-bit ('ele510': conda)",
   "language": "python",
   "name": "python3"
  },
  "language_info": {
   "codemirror_mode": {
    "name": "ipython",
    "version": 3
   },
   "file_extension": ".py",
   "mimetype": "text/x-python",
   "name": "python",
   "nbconvert_exporter": "python",
   "pygments_lexer": "ipython3",
   "version": "3.9.7"
  },
  "orig_nbformat": 4
 },
 "nbformat": 4,
 "nbformat_minor": 2
}
