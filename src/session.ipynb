{
 "cells": [
  {
   "cell_type": "markdown",
   "metadata": {},
   "source": [
    "# CAsT Session"
   ]
  },
  {
   "cell_type": "markdown",
   "metadata": {},
   "source": [
    "### Sources"
   ]
  },
  {
   "cell_type": "markdown",
   "metadata": {},
   "source": [
    "\n",
    "#### docT5query\n",
    "* https://github.com/castorini/docTTTTTquery#Predicting-Queries-from-Passages-T5-Inference-with-PyTorch\n",
    "\n",
    "\n",
    "#### reranking\n",
    "* https://github.com/castorini/pygaggle/blob/master/docs/experiments-msmarco-passage-subset.md\n",
    "* https://github.com/castorini/pygaggle"
   ]
  },
  {
   "cell_type": "markdown",
   "metadata": {},
   "source": [
    "### Imports"
   ]
  },
  {
   "cell_type": "code",
   "execution_count": 5,
   "metadata": {},
   "outputs": [],
   "source": [
    "# T5 query expantion\n",
    "from transformers import AutoTokenizer, AutoModelForSeq2SeqLM\n"
   ]
  },
  {
   "cell_type": "code",
   "execution_count": 6,
   "metadata": {},
   "outputs": [],
   "source": [
    "\n",
    "# MonoT5 reranking\n",
    "from pygaggle.rerank.base import Query, Text\n",
    "from pygaggle.rerank.transformer import MonoT5\n"
   ]
  },
  {
   "cell_type": "code",
   "execution_count": 7,
   "metadata": {},
   "outputs": [],
   "source": [
    "from elasticsearch import Elasticsearch\n",
    "from typing import Dict, List, Optional\n",
    "import json\n",
    "import logging\n"
   ]
  },
  {
   "cell_type": "code",
   "execution_count": 8,
   "metadata": {},
   "outputs": [],
   "source": [
    "INDEX_NAME = \"cast_base\"\n",
    "es = Elasticsearch()"
   ]
  },
  {
   "cell_type": "markdown",
   "metadata": {},
   "source": [
    "## T5 testing"
   ]
  },
  {
   "cell_type": "code",
   "execution_count": 64,
   "metadata": {},
   "outputs": [],
   "source": [
    "tokenizer = AutoTokenizer.from_pretrained(\"castorini/t5-base-canard\")\n",
    "model = AutoModelForSeq2SeqLM.from_pretrained(\"castorini/t5-base-canard\")"
   ]
  },
  {
   "cell_type": "code",
   "execution_count": 65,
   "metadata": {},
   "outputs": [
    {
     "name": "stdout",
     "output_type": "stream",
     "text": [
      "Is Jafar funny?\n"
     ]
    }
   ],
   "source": [
    "input_ids = tokenizer('Jafar is funny. <sep> Is he funny?', return_tensors='pt').input_ids\n",
    "outputs = model.generate(input_ids)\n",
    "print(tokenizer.decode(outputs[0], skip_special_tokens=True))"
   ]
  },
  {
   "cell_type": "markdown",
   "metadata": {},
   "source": [
    "## Framework"
   ]
  },
  {
   "cell_type": "code",
   "execution_count": 12,
   "metadata": {},
   "outputs": [],
   "source": [
    "class CAsT():\n",
    "    def __init__(self, index_name: str = \"cast_base\", context_queries: int = 0, context_responses: int = 0, reranking: bool = False) -> None:\n",
    "        self.INDEX_NAME = index_name\n",
    "        self.es = Elasticsearch()\n",
    "        es_logger = logging.getLogger('elasticsearch')\n",
    "        es_logger.setLevel(logging.WARNING)\n",
    "        self.queries = []\n",
    "        self.responses = []\n",
    "        self.context_queries = context_queries\n",
    "        self.context_responses = context_responses\n",
    "\n",
    "        self.reranking = reranking\n",
    "        self.reranker = MonoT5() if reranking else None\n",
    "        self.tokenizer = AutoTokenizer.from_pretrained(\n",
    "            \"castorini/t5-base-canard\")\n",
    "        self.model = AutoModelForSeq2SeqLM.from_pretrained(\n",
    "            \"castorini/t5-base-canard\")\n",
    "\n",
    "    def clear_context(self, clear_queries: bool = True, clear_responses: bool = True):\n",
    "        if clear_queries:\n",
    "            self.queries = []\n",
    "        if clear_responses:\n",
    "            self.responses = []\n",
    "\n",
    "    def query(self, q: str) -> str:\n",
    "        \"\"\"\n",
    "            returns: passage_id NOTE: for now complete hit is returned\n",
    "        \"\"\"\n",
    "        sep = \" <sep>\"\n",
    "        qs = []\n",
    "        if self.context_queries > 0 or self.context_responses > 0:\n",
    "            for i in range(1, max(self.context_queries, self.context_responses)+1):\n",
    "                if i <= self.context_queries:\n",
    "                    if len(self.queries) >= i:\n",
    "                        qs.insert(0, self.queries[-i])\n",
    "\n",
    "                if i <= self.context_responses:\n",
    "                    if len(self.responses) >= i:\n",
    "                        qs.insert(0, self.responses[-i])\n",
    "        qs.append(q)\n",
    "\n",
    "        \n",
    "        input_ids = self.tokenizer(sep.join(qs), return_tensors='pt').input_ids\n",
    "        outputs = self.model.generate(input_ids)\n",
    "\n",
    "        query = self.tokenizer.decode(outputs[0], skip_special_tokens=True)\n",
    "        self.queries.append(query)  # * Adding reformated query to context\n",
    "\n",
    "        hits = es.search(\n",
    "            index=self.INDEX_NAME, q=query, _source=True, size=100\n",
    "        ).get(\"hits\", {}).get(\"hits\")\n",
    "\n",
    "        hits_cleaned = [{\n",
    "            \"passage\": hit.get(\"_source\", {}).get(\"passage\"),\n",
    "            \"_id\": \"MARCO_\" + hit.get(\"_id\") if hit.get(\"_source\").get(\n",
    "                    \"origin\") == \"msmarco\" else \"CAR_\" + hit.get(\"_id\"),\n",
    "            \"_score\": hit.get(\"_score\", \"FAILED\")} for hit in hits]\n",
    "\n",
    "        if self.reranking:\n",
    "            print(\"RERANKING\")\n",
    "            texts = [Text(hit.get(\"passage\"), {\n",
    "                '_id': hit.get(\"_id\", \"FAILED\")}, 0) for hit in hits_cleaned]\n",
    "\n",
    "            reranked = self.reranker.rerank(Query(query), texts)\n",
    "            hits_cleaned = [{\n",
    "                \"passage\": hit.text,\n",
    "                \"_id\": hit.metadata[\"_id\"],\n",
    "                \"_score\": hit.score}\n",
    "                for hit in reranked]\n",
    "\n",
    "        if len(hits) > 0:\n",
    "            self.responses.append(\n",
    "                hits_cleaned[0].get(\"passage\"))\n",
    "            return hits_cleaned[:1000]\n",
    "        else:\n",
    "            return []"
   ]
  },
  {
   "cell_type": "markdown",
   "metadata": {},
   "source": [
    "### Framework tests"
   ]
  },
  {
   "cell_type": "markdown",
   "metadata": {},
   "source": [
    "#### Query expantion"
   ]
  },
  {
   "cell_type": "code",
   "execution_count": 13,
   "metadata": {},
   "outputs": [],
   "source": [
    "test = CAsT(context_queries=1)"
   ]
  },
  {
   "cell_type": "code",
   "execution_count": 14,
   "metadata": {},
   "outputs": [
    {
     "name": "stderr",
     "output_type": "stream",
     "text": [
      "/Users/aleksanderdrzewiecki/.local/lib/python3.8/site-packages/elasticsearch/connection/base.py:190: ElasticsearchDeprecationWarning: Elasticsearch built-in security features are not enabled. Without authentication, your cluster could be accessible to anyone. See https://www.elastic.co/guide/en/elasticsearch/reference/7.15/security-minimal-setup.html to enable security.\n",
      "  warnings.warn(message, category=ElasticsearchDeprecationWarning)\n"
     ]
    },
    {
     "data": {
      "text/plain": [
       "[{'passage': \"Tell a friend about us, add a link to this page, or visit the webmaster's page for free fun content. Link to this page: <a href=http://acronyms.thefreedictionary.com/South+African+Board+for+Personnel+Practice>SABPP</a>. Facebook.\",\n",
       "  '_id': 'MARCO_8841272',\n",
       "  '_score': 9.102427},\n",
       " {'passage': 'Tell Me Something: The Songs of Mose Allison. Singles from How Long Has This Been Going On. How Long Has This Been Going On is the twenty-fourth studio album by Northern Irish singer-songwriter Van Morrison, with Georgie Fame and Friends, released in December 1995 (see 1995 in music) in the UK. It charted at #1 on Top Jazz Albums.',\n",
       "  '_id': 'MARCO_8841042',\n",
       "  '_score': 8.981482},\n",
       " {'passage': \"I've searched and searched but can't find a thread on it, so forgive me if its been discussed. I used to hear about opera singers who can shatter glass with their voice, but can't seem to find much info about if that is real or not.\",\n",
       "  '_id': 'MARCO_8841113',\n",
       "  '_score': 8.887823},\n",
       " {'passage': \"PFP means Picture For Proof. i had someone txt me that too...but i dont think that is what they were talking about... bc the sentence they used was this and all that pfp they like so much.... so i didn't think that was it...\",\n",
       "  '_id': 'MARCO_8840945',\n",
       "  '_score': 7.9438934},\n",
       " {'passage': '1 Your doctor will probably tell you not to take paroxetine. If you stop taking paroxetine, you should wait at least 2 weeks before you start to take an MAO inhibitor.  tell your doctor and pharmacist what other prescription and nonprescription medications and vitamins you are taking or plan to take.',\n",
       "  '_id': 'MARCO_8841226',\n",
       "  '_score': 6.901084},\n",
       " {'passage': 'Before assuming it is anxiety, see you GP and get a physical to rule out any other causes for your symptoms. Did you tell your doctor about the shortness of breath, and if so what did she say? Anxiety can manifest itself in us in many ways and varying degrees, but you need to rule out other health issues first. If it turns out to be anxiety, do come back, as this is where you will find a lot of support and understanding.',\n",
       "  '_id': 'MARCO_8841482',\n",
       "  '_score': 6.541816},\n",
       " {'passage': 'Itâ\\x80\\x99s really time to finish that bookâ\\x80¦. Having The Winds of Winter published before season 6 of Thrones airs next spring â\\x80\\x9chas been important to me all along,â\\x80\\x9d says the best-selling New Mexico author. â\\x80\\x9cI wish it was out now. Maybe Iâ\\x80\\x99m being overly optimistic about how quickly I can finish.',\n",
       "  '_id': 'MARCO_8841119',\n",
       "  '_score': 6.467022},\n",
       " {'passage': 'The Wolfpack, a documentary by Crystal Moselle, tells the tale of the Angulo brothers, raised in isolation, sustained by movies. Magnolia Pictures. Siblings, from left, Krsna Angulo (now Eddie), Jagadisa Angulo (now Glenn) and Mukunda Angulo.he Wolfpack, a documentary by Crystal Moselle, tells the tale of the Angulo brothers, raised in isolation, sustained by movies. Magnolia Pictures. Siblings, from left, Krsna Angulo (now Eddie), Jagadisa Angulo (now Glenn) and Mukunda Angulo.',\n",
       "  '_id': 'MARCO_8841162',\n",
       "  '_score': 6.1644263},\n",
       " {'passage': 'My father (who was unable to cosign) made too much for me to qualify for federal loans. So thru school I took out 130,000 in private loans thru Sallie Mae. Some of my loans have 13% interest because Sallie Mae tricked 19 year old me into believing that they would provide payment options based in what I made.',\n",
       "  '_id': 'MARCO_8841496',\n",
       "  '_score': 5.666564},\n",
       " {'passage': 'This medication may be prescribed for other uses; ask your doctor or pharmacist for more information. tell your doctor and pharmacist if you are allergic to paroxetine, any other medications, or any of the ingredients in paroxetine tablets, controlled-release tablets, capsules, or suspension.',\n",
       "  '_id': 'MARCO_8841223',\n",
       "  '_score': 5.4869366},\n",
       " {'passage': \"Best Car Shop I've Ever Been To. Preemptive note: I know my way around cars--at least I *did*. When I went off to college I had to be able to change my own oil and belts before the 'rents let me drive 8 hrs away on my own (solo+female+long stretches of desert=smart parents). I've helped dismantle engines and been nice and greasy. Cars don't scare me.\",\n",
       "  '_id': 'MARCO_8841693',\n",
       "  '_score': 5.293492},\n",
       " {'passage': \"It is not George Gershwin. That's the old old old 1927 song. Different lyrics and everything. It's a completely different song. Trust me. It is not Van Morrison. That song was from 1996. Also completely different lyrics.\",\n",
       "  '_id': 'MARCO_8841041',\n",
       "  '_score': 5.1409345},\n",
       " {'passage': \"Desperate Housewives and Marley & Me actor Alec Mapa will be making an appearance on The Young and the Restless.. According to Soaps Opera Digest, Mapa's character, Anthony, a hotel clerk, will show up on May 16. Monday, April 3rd, 2017. Share Share.\",\n",
       "  '_id': 'MARCO_8841677',\n",
       "  '_score': 4.7745905},\n",
       " {'passage': 'When did the US military start charging soldiers / sailors/ airmen for their meals? Someone stationed at a US base in the states showed me how they are being charged $560 / month for dining services to eat at chow halls run by civilians. This person was told that it was mandatory.',\n",
       "  '_id': 'MARCO_8840870',\n",
       "  '_score': 4.663809},\n",
       " {'passage': 'ive been having shortness of breath and dry throat, i get winded from things like walking across my apartment, could this be from anxiety? i went to the dr for dry throat, i thought my throat was closing and she couldnt find what was wrong with me.',\n",
       "  '_id': 'MARCO_8841481',\n",
       "  '_score': 4.4569845},\n",
       " {'passage': 'Or do I need to have a business set up to get a full deduction on... show more Hi! I work as w-2 employee. But I got the job via a headhunter who needs me to pay him for referral. I have agreed to pay him provided I issue a 1099 to his company.',\n",
       "  '_id': 'MARCO_8840920',\n",
       "  '_score': 4.267725},\n",
       " {'passage': \"And Esurance is right there with you, ready to respond if you've got an insurance-y inquiry (we have an incredibly fast response time), some praise to post, or just want to circle up with us. Of course, the modern world's about more than cool technology and status updates. It's also about embracing and celebrating our diversity and our commonality. But more than anything, for an insurance company, it's about listening to and taking care of our customers.\",\n",
       "  '_id': 'MARCO_8840929',\n",
       "  '_score': 4.097039},\n",
       " {'passage': 'Think about your audience. Yes, you want to demonstrate to your professor that you have conducted a good study. But professors often ask students to give an oral presentation to practice the art of communicating and to learn to speak clearly and audibly about yourself and your research.',\n",
       "  '_id': 'MARCO_8841408',\n",
       "  '_score': 4.0174937},\n",
       " {'passage': 'Log in to Last.fm or sign up to leave a shout. 1  FritzLn 9 Aug 7:48am just saying, Wayne has never once used an apostrophe on any of his album/mixtape covers. 2  AstikSh 26 Feb 4:00am The Best Rapper Alive. 3  twipzdeeauxilia 18 Aug 3:48am Please someone give me the tabs of all his guitar solos.',\n",
       "  '_id': 'MARCO_8841313',\n",
       "  '_score': 3.933652},\n",
       " {'passage': \"Relive The Wolfpack 's incredible trip to Hollywood with VICE 's awesome feature. The Wolfpack Goes To HollywoodThe Wolfpack is a documentary about six brothers who grew up in isolation.Locked away in their Manhattan apartment, their only connection to the outside wor...youtube.com. The Wolfpack Goes To Hollywood. The Wolfpack is a documentary about six brothers who grew up in isolation.Locked away in their Manhattan apartment, their only connection to the outside wor...elive The Wolfpack 's incredible trip to Hollywood with VICE 's awesome feature. The Wolfpack Goes To HollywoodThe Wolfpack is a documentary about six brothers who grew up in isolation.\",\n",
       "  '_id': 'MARCO_8841168',\n",
       "  '_score': 3.778174},\n",
       " {'passage': \"But enough about us. Let's talk about you. Out there in the modern world you're doing modern things, like banking online, checking emails from your smartphone, building your own social media empire. You've realized that these social networks are for more than just small talk â\\x80\\x94 they're also places to get stuff done.\",\n",
       "  '_id': 'MARCO_8840928',\n",
       "  '_score': 3.7015843},\n",
       " {'passage': 'This song is about how Christ laid down his life in an act of selflessness for us, which we in no way deserve. About how none of us can give anything to repay that sacrifice, and we all know we could lead better lives and strive to become like Him. I_am_Billiamon April 28, 2009 Link. 1 Reply Log in to reply.',\n",
       "  '_id': 'MARCO_8841422',\n",
       "  '_score': 3.7015843},\n",
       " {'passage': 'Compare population statistics about Jackson, TN from the 2010 and 2000 census by race, age, gender, Latino/Hispanic origin etc.',\n",
       "  '_id': 'MARCO_8841384',\n",
       "  '_score': 3.6364064},\n",
       " {'passage': 'Full demographic report of Forks, WA population including education levels, household income, job market, ethnic makeup, and languages. Subscribe About the Data',\n",
       "  '_id': 'MARCO_8840880',\n",
       "  '_score': 3.537049},\n",
       " {'passage': 'If for example, your microwave is 16 height you can go with either a 12 or 15 wall cabinet above it. This puts the bottom of the microwave at about 17 above the range with a 15 high wall cabinet and about 20 above the range with a 12 high wall cabinet. If you go with a 15 high wall cabinet your microwave will be 1 below the adjacent 30 wall cabinets so your bottom moulding will butt at the microwave.',\n",
       "  '_id': 'MARCO_8841605',\n",
       "  '_score': 3.5013492},\n",
       " {'passage': 'The Wolfpack is a documentary film about the six boys who broke free from the small Manhattan apartment in which they were locked up by their father for 14 years.Their father was afraid that the city would â\\x80\\x9ccontaminateâ\\x80\\x9d them.he Wolfpack is a documentary film about the six boys who broke free from the small Manhattan apartment in which they were locked up by their father for 14 years. Their father was afraid that the city would â\\x80\\x9ccontaminateâ\\x80\\x9d them.',\n",
       "  '_id': 'MARCO_8841166',\n",
       "  '_score': 3.4546304},\n",
       " {'passage': 'What Conservation Scientists and Foresters Do[About this section] [To Top] Conservation scientists and foresters manage the overall land quality of forests, parks, rangelands, and other natural resources.',\n",
       "  '_id': 'MARCO_8840957',\n",
       "  '_score': 3.4429767},\n",
       " {'passage': 'Community Facts - Find popular facts (population, income, etc.) and frequently requested data about your community. Enter a state, county, city, town, or zip code: Go',\n",
       "  '_id': 'MARCO_8841486',\n",
       "  '_score': 3.3977923},\n",
       " {'passage': 'Please try again later. Sound travels at about 760 miles per hour, or 340 meters per second and about 661 knots on an average day at sea level. And sometimes, you can almost see it. Going close to that speed through air can cause some unusual visual effects. This compiled footage includes F-14s, standard and Blue Angels F-18s, plus the SR-71 and an Atlas Rocket launch. AVweb contacted sources at NASA to research the phenomena.',\n",
       "  '_id': 'MARCO_8841661',\n",
       "  '_score': 3.3216655},\n",
       " {'passage': 'Additional Information. 1  Home. 2  About Us. 3  Fishing Fly Box Reviews.  Privacy 1  Policy. Contact 2  Us. 3  Blog. Shipping & Returns.  RSS Syndication.',\n",
       "  '_id': 'MARCO_8841451',\n",
       "  '_score': 3.3108902},\n",
       " {'passage': \"Synopsis [edit]. Locked away in an apartment in the Lower East Side of Manhattan for fourteen years, the Angulo family's seven childrenâ\\x80\\x94six brothers named Mukunda, Narayana, Govinda, Bhagavan, Krisna (Glenn), and Jagadesh (Eddie), and their sister Visnuâ\\x80\\x94learned about the world through watching films.ynopsis [edit]. Locked away in an apartment in the Lower East Side of Manhattan for fourteen years, the Angulo family's seven childrenâ\\x80\\x94six brothers named Mukunda, Narayana, Govinda, Bhagavan, Krisna (Glenn), and Jagadesh (Eddie), and their sister Visnuâ\\x80\\x94learned about the world through watching films.\",\n",
       "  '_id': 'MARCO_8841161',\n",
       "  '_score': 3.2385664},\n",
       " {'passage': 'EXTENSION / FOREST INTERPRETATION /EDUCATOR. Extension/Forest Interpretation/Educator The forest educator is a forestland professional who provides sound knowledge and administration skills to the education of people about forest science, management, public uses, and benefits of forests and forestland properties.',\n",
       "  '_id': 'MARCO_8840959',\n",
       "  '_score': 3.0749557},\n",
       " {'passage': 'A:Here are some predictions from the Department of Labor:Employment of conservation scientists and foresters is expected to grow about as fast as the average for all occupations through 2008. Growth should be strongest in State and local governments and in research and testing services, where demand ...read more.',\n",
       "  '_id': 'MARCO_8840958',\n",
       "  '_score': 3.0388641},\n",
       " {'passage': 'Not denying that there may be something about lead crystal wine glasses that makes them more suscepible to shattering, but I have to point out that it is quite easy to get a resonant note with a moistened finger from the cheapest wine glasses money can buy in Woolworths.',\n",
       "  '_id': 'MARCO_8841109',\n",
       "  '_score': 3.0036097},\n",
       " {'passage': 'Lil Wayne is also the founder of his own record label called Young Money Entertainment. Having released eleven solo studio albums to date, Weezy has enough knowledge about the industry to be able to lead the Young Mula army to the top of the charts.',\n",
       "  '_id': 'MARCO_8841311',\n",
       "  '_score': 3.0036097},\n",
       " {'passage': 'It features Julie Frances Miller talking to Maggie Glynn about the Little House Wayside Cabin and all of the activities that take place during Laura Ingalls Wilder Days in Pepin, Wisconsin. Julie Frances Miller will be a speaker at our Prairie Days Festival come June.',\n",
       "  '_id': 'MARCO_8841432',\n",
       "  '_score': 2.9691641},\n",
       " {'passage': 'Significant Points. About 2 of 3 conservation scientists and foresters. work for Federal, State, or local governments. Workers in this occupation need, at a minimum, a. bachelorâ\\x80\\x99s degree in forestry, environmental science, range management, or a related discipline. Slower than average job growth is projected; most.',\n",
       "  '_id': 'MARCO_8840960',\n",
       "  '_score': 2.9354994},\n",
       " {'passage': 'Breed characteristics (dogs with short snout such as pugs, bulldogs, Pekingese, etc. are more likely to sneeze due to infection or irritating products). Find Out the Causes of Dog Sneezing. Here are some questions that may be helpful in pinpointing the possible cause that brings about sneezing in your dog:',\n",
       "  '_id': 'MARCO_8841137',\n",
       "  '_score': 2.9354994},\n",
       " {'passage': 'We are concerned here with the Indian, originally spelled Motocycle by the founders, as currently offered by Polaris Industries. To fully appreciate this, weâ\\x80\\x99ll have to look back 60 years, to an unÂ\\xaddisputed tragedy. At the close of WWII, a prosperous and product-starved public was ready to buy just about anything.',\n",
       "  '_id': 'MARCO_8841391',\n",
       "  '_score': 2.9354994},\n",
       " {'passage': 'Medicaid income limits. About Medicaid income limits for singles and married couples. Combined monthly income is a serious thing to consider. When the income from a Medicaid annuity is combined with other sources of income, it may place the applicant over the allowed amount, making them ineligible for Medicaid benefits.',\n",
       "  '_id': 'MARCO_8840972',\n",
       "  '_score': 2.8704095},\n",
       " {'passage': \"Tessa mentioned that she'd just been talking about a day job that she'd taken as Nikki's assistant to get by, but she thought Nikki was just lonely and wanted company. Mariah stated that she'd seen Tessa in the movie theater, and Tessa admitted that she'd sneaked in after seeing another movie.\",\n",
       "  '_id': 'MARCO_8841674',\n",
       "  '_score': 2.8704095},\n",
       " {'passage': 'Hybrid car batteries, mostly nickel-metal hydride, cost about $2,500 and in daily use theyâ\\x80\\x99re never discharged below 20% or 25% (or charged above 80%). By living in that middle range, theyâ\\x80\\x99re good almost indefinitely, at least to 11 years, which is the scrappage life for the average vehicle.',\n",
       "  '_id': 'MARCO_8841024',\n",
       "  '_score': 2.8081436},\n",
       " {'passage': 'Average Carpenter Yearly Salary in Colorado. Carpenters earn a median salary of $41,870 per year. Salaries typically start from $25,020 and go up to $61,220. Learn more about the Carpenter job market for salaries of real jobs in your area. Alternatively, see what Carpenters earn in other states.',\n",
       "  '_id': 'MARCO_8841233',\n",
       "  '_score': 2.8081436},\n",
       " {'passage': 'About the Company. We have been in the fly fishing business in one capacity or other since 1992. We tied commercially for years and sold flies all over the world via our old website Flies-on-Line.com. Finally, we could no longer keep up, due to our huge client base.',\n",
       "  '_id': 'MARCO_8841452',\n",
       "  '_score': 2.778013},\n",
       " {'passage': \"Note that there really isn't a standard meaning for the size of an error bar. Common choices are: 1 (the range would include about 68% of normal data), 2 which is basically the same as 95% limits, and 0.674Ã\\x97 which would include 50% of normal data. The above may be a population standard deviation or a standard deviation of the mean.\",\n",
       "  '_id': 'MARCO_8841808',\n",
       "  '_score': 2.778013},\n",
       " {'passage': \"Still another asks, After years of seeing Flo The Progressive (Insurance) Lady high fiving 'power to the people,' thinking about tacos, wearing tricked out name tags, and helping some poor dude save money so he can buy his watch back from his friend I [have] to know....\",\n",
       "  '_id': 'MARCO_8840934',\n",
       "  '_score': 2.7485218},\n",
       " {'passage': 'Iâ\\x80\\x99m Julianne, IIDA NC Board Member & founder of Creative Confidante, a blog dedicated to helping architects and designers pass the NCIDQ exam. In this post, I will be giving you a crash course in NCIDQ 101, and covering everything you need to know about the NCIDQ: What it is, why its important, and how to get started.',\n",
       "  '_id': 'MARCO_8841339',\n",
       "  '_score': 2.7485218},\n",
       " {'passage': 'As a 501(c)3 organization, the goal is to continue to educate the public about the author Laura Ingalls Wilder, Little House on the Prairie Books, and life on the Prairie in the late 1800â\\x80\\x99s and early 1900â\\x80\\x99s. The museum stands on the original land where Laura Ingalls Wilder lived with her family in a one-room log cabin in 1870.',\n",
       "  '_id': 'MARCO_8841430',\n",
       "  '_score': 2.7485218},\n",
       " {'passage': 'If you are making your laminate flooring a DIY project, you might wonder â\\x80\\x9cwhat is the right direction to install my laminate flooring?â\\x80\\x9d When deciding the direction to install laminate flooring, I always let people know they have multiple options, but in the end, it is all about your personal taste and preference.',\n",
       "  '_id': 'MARCO_8841532',\n",
       "  '_score': 2.7485218},\n",
       " {'passage': 'â\\x80\\x9chow america enters wars, sometimesâ\\x80\\x9d width=â\\x80\\x9d250â\\x80³ style=. Japan on December 8, 1941, a day after the Japanese attack on Pearl. Harbor. Setting aside. who knew what when beforehand about the attack, there was no. dispute that the attack, the first foreign one on U.S. soil since. 1812, was meant as an act of war.',\n",
       "  '_id': 'MARCO_8841633',\n",
       "  '_score': 2.7485218},\n",
       " {'passage': 'Nasal mites and dog sneezing. Your dog might sneeze because of an irritant every once in a while. Parasites â\\x80\\x94 namely, nasal mites â\\x80\\x94 can cause repetitive or chronic sneezing in dogs. At only about a millimeter in length, these mites can be difficult to spot in and around your dogâ\\x80\\x99s nose when they first establish themselves.',\n",
       "  '_id': 'MARCO_8841134',\n",
       "  '_score': 2.691379},\n",
       " {'passage': 'China alone had some 58 percent of the global market in 2004. The following year, 2005, was a record year for the production of bicycles in China with a 16% increase in the production of bicycles and E-Bikes to a total of 80,430,000 units produced, of which about 65% were exported. The Peopleâ\\x80\\x99s Republic of China today produces over 60% of the worldâ\\x80\\x99s bicycles.',\n",
       "  '_id': 'MARCO_8841397',\n",
       "  '_score': 2.691379},\n",
       " {'passage': 'How Much to Water: In July, lawns need about 1 inch of water per week, spread over 2 or 3 waterings, to stay green. They need only Â½ to Â¾ inch per week the rest of the summer (use a tuna can to measure sprinkler output). Watering deeply and less often is generally best, to moisten the whole root zone.',\n",
       "  '_id': 'MARCO_8841008',\n",
       "  '_score': 2.636564},\n",
       " {'passage': 'A normal distribution is symmetric about the mean. Skew is a measure of how much the bell-curve for your data set is heavy on one side. A normal distribution also has a specific width for a given height. If you double the height, the width scales proportionally. However, you could imagine stretching a bell curve out in weird ways without changing its symmetry.',\n",
       "  '_id': 'MARCO_8841813',\n",
       "  '_score': 2.636564},\n",
       " {'passage': 'Jackson, Tennessee Population: Census 2010 and 2000 Interactive Map, Demographics, Statistics, Quick Facts Compare population statistics about Jackson, TN by race, age, gender, Latino/Hispanic origin etc. CensusViewer delivers detailed demographics and population statistics from the 2010 Census, 2000 Census, American Community Survey (ACS), registered voter files, commercial data sources and more.',\n",
       "  '_id': 'MARCO_8841378',\n",
       "  '_score': 2.5839372},\n",
       " {'passage': 'Jackson, Tennessee Population: Census 2010 and 2000 Interactive Map, Demographics, Statistics, Quick Facts. Compare population statistics about Jackson, TN by race, age, gender, Latino/Hispanic origin etc. CensusViewer delivers detailed demographics and population statistics from the 2010 Census, 2000 Census, American Community Survey (ACS), registered voter files, commercial data sources and more.',\n",
       "  '_id': 'MARCO_8841380',\n",
       "  '_score': 2.5839372},\n",
       " {'passage': 'About Pierce County Jail. The Pierce County Sheriffâ\\x80\\x99s Department Corrections Bureau is a direct supervision jail located at 910 Tacoma AVE S, Tacoma, WA 98402. The Pierce County Jail has an operational capacity for 1700 inmates and currently employs approximately 300 correctional staff. The Pierce County Jail is made of two facilities â\\x80\\x9cNew Jailâ\\x80\\x9d and â\\x80\\x9cMain Jailâ\\x80\\x9d.',\n",
       "  '_id': 'MARCO_8841377',\n",
       "  '_score': 2.5333703},\n",
       " {'passage': 'Today, you can visit many Southern plantations to learn more about the economic and human aspects of plantation history. All of the Southern states had plantations, including what Matrana refers to as the Upper South: Virginia, West Virginia, Maryland, Arkansas, Kentucky and Tennessee. Many of the plantations you can visit today are located in the Deep South, including South Carolina, Georgia, Louisiana, Alabama and Mississippi.',\n",
       "  '_id': 'MARCO_8841443',\n",
       "  '_score': 2.5333703},\n",
       " {'passage': 'Population of Hudson County, New Jersey: Census 2010 and 2000 Interactive Map, Demographics, Statistics, Graphs, Quick Facts. Compare population statistics about Hudson County, NJ by race, age, gender, Latino/Hispanic origin etc. CensusViewer delivers detailed demographics and population statistics from the 2010 Census, 2000 Census, American Community Survey (ACS), registered voter files, commercial data sources and more.',\n",
       "  '_id': 'MARCO_8841280',\n",
       "  '_score': 2.484744},\n",
       " {'passage': 'What is the Yowie? If you are from Australia you probably know about the Yowie legend. The Yowie is a massive, bipedal, ape-like creature some say stands up to three meters tall. If you are from North America this sounds like someone else youâ\\x80\\x99re probably familiar with: Bigfoot. There are more than a few similarities between Bigfoot and the Yowie, and itâ\\x80\\x99s easy to suppose they must be related.',\n",
       "  '_id': 'MARCO_8841642',\n",
       "  '_score': 2.484744},\n",
       " {'passage': \"Vision therapy is perhaps one of the most controversial topics in vision care. Some eye doctors are strong advocates for vision therapy and testify to its benefits  especially for certain vision problems of children. But other eye doctors are not convinced of vision therapy's effectiveness and do not recommend it. This article will help you learn more about vision therapy so you can make an informed decision regarding its potential benefits for your child.\",\n",
       "  '_id': 'MARCO_8840952',\n",
       "  '_score': 2.43795},\n",
       " {'passage': \"'Gargantuan' wild hog weighing nearly 800 pounds caught in Texas. Updated 11:40 am, Wednesday, January 28, 2015. Hunters Blaine Garcia and Wyatt Walton caught a 790-pound boar on Friday, Jan. on a ranch Jan. 16, 2015, on a ranch in De Leon, a town about 35 minutes west of Stephenville. Garcia and Walton are debating the fate of the male hog, but the hog is getting around-the-clock-care.\",\n",
       "  '_id': 'MARCO_8841064',\n",
       "  '_score': 2.43795},\n",
       " {'passage': 'About Fancy Anywhere. Fancy Anywhere enables your visitors to buy things on Fancy directly from your own blogs and websites. You will earn Fancy credits when they complete a purchase.For more information, see Fancy Anywhere.To.ancy Anywhere enables your visitors to buy things on Fancy directly from your own blogs and websites. You will earn Fancy credits when they complete a purchase. For more information, see Fancy Anywhere. To.',\n",
       "  '_id': 'MARCO_8841254',\n",
       "  '_score': 2.3928857},\n",
       " {'passage': \"It is very often said that politics is about power. A political system is a framework which defines acceptable political methods within a given society. History of political thought can be traced back to early antiquity, with seminal works such as Plato 's Republic, Aristotle 's Politics and the works of Confucius. political system is a framework which defines acceptable political methods within a given society. History of political thought can be traced back to early antiquity, with seminal works such as Plato 's Republic, Aristotle 's Politics and the works of Confucius.\",\n",
       "  '_id': 'MARCO_8841471',\n",
       "  '_score': 2.1904387},\n",
       " {'passage': 'With regard to the global warming controversy, the scientific mainstream puts neither doubt on the existence of global warming nor on its causes and effects. The politicization of science in the sense of a manipulation of science for political gains is a part of the political process.It is part of the controversies about intelligent design (compare the Wedge strategy) or Merchants of Doubt, scientists that are under suspicion to willingly obscure findings. Politicization of climate science-Although there is a consensus on the science of global warming and its likely effects-some special interests groups work to suppress the consensus while others work to amplify the alarm of global warming.',\n",
       "  '_id': 'MARCO_8841474',\n",
       "  '_score': 2.1904387},\n",
       " {'passage': 'Yet many political scientists, like most mainstream journalists and political reformers, refuse to even acknowledge or take seriously the case for asymmetric polarization. It makes us uncomfortable because some people will characterize the idea as partisan, even if it accurately captures reality.he widespread public belief that our political system is dangerously broken is often met with skepticism among longtime students of American politics. â\\x80\\x9cWeâ\\x80\\x99ve seen it all before,â\\x80\\x9d â\\x80\\x9cthis too will pass,â\\x80\\x9d â\\x80\\x9cnothing can do done about it anywayâ\\x80\\x9d say the scholars.',\n",
       "  '_id': 'MARCO_8841475',\n",
       "  '_score': 2.1904387},\n",
       " {'passage': 'Feedback. Enter your feedback and click OK. If this feedback is about a problem, please include a detailed description of the steps that led to the error. (what you were trying to do; the last two steps you took before encountering the error...) If you would like a response, please provide your e-mail address. E-mail information will only be used to contact you regarding your feedback and will not be used for any other purpose. Find answers to frequently asked questions by clicking the FAQs link displayed at the top of every page in American FactFinder.',\n",
       "  '_id': 'MARCO_8841492',\n",
       "  '_score': 2.1904387},\n",
       " {'passage': 'Swallow the extended-release and regular tablets whole; do not chew or crush them. If you are taking paroxetine tablets, suspension, or controlled-release tablets, your doctor may start you on a low dose of paroxetine and gradually increase your dose, not more than once a week. Paroxetine capsules contain a lower dose of paroxetine than is needed to treat depression and other forms of mental illness. Do not take paroxetine capsules to treat a mental illness. If you think you have depression or another mental illness, talk to your doctor about treatment.',\n",
       "  '_id': 'MARCO_8841227',\n",
       "  '_score': 2.1187382},\n",
       " {'passage': 'A-Samples should be stored in a refrigerator. If stored for extended periods of time then they should be frozen. The integrity of our samples is ensured by our proprietary vacuum seal. As long as the sample remains in its vacuum seal it may be kept at room temperature away from direct sunlight for days at a time. It will be good for up to six months, in the vacuum seal, if stored in the refrigerator. If frozen in the vacuum seal, it can last for about 1 year. Once the sample is removed from the vacuum seal, it should not remain at room temperature for more than 18 hours. It will keep in the refrigerator, unsealed, for 30 days. In the freezer, an unsealed bag can last up to 6 months.',\n",
       "  '_id': 'MARCO_8841366',\n",
       "  '_score': 1.9885526},\n",
       " {'passage': 'Monsoons are often associated with rainy seasons in the tropics (the areas of Earth within 23.5 degrees latitude of the equator) and the subtropics (areas between 23.5 and about 35 degrees latitude, both north and south). In these areas, life is critically dependent on the monsoon rains. A weak monsoon rainy season may cause drought, crop failures, and hardship for people and wildlife. However, heavy monsoon rains have caused massive floods that have killed thousands of people. Many parts of the world experience monsoons to some extent. Probably the most famous are the Asian monsoons, which affect India, China, Japan, and Southeast Asia. Monsoons also impact portions of central Africa, where their rain is critical to supporting life in the area south of the Sahara Desert.',\n",
       "  '_id': 'MARCO_8841155',\n",
       "  '_score': 1.8207407},\n",
       " {'passage': 'It is estimated that more than 36,000 people died. Many died as a result of thermal injury from the blasts and many more were victims of the tsunamis that followed the collapse of the volcano into the caldera below sea level. The island of Krakatau (Krakatoa) is in the Sunda Strait between Java and Sumatra.It is part of the Indonesian Island Arc. Volcanic activity is due to subduction of the Indo-Australian tectonic plate as it moves northward towards mainland Asia. The island is about 3 miles wide and 5.5 miles long (9 by 5 kilometers).rakatau (Krakatoa) in the Sunda Strait between Java and Sumatra. Credit: CIA World Factbook. View full size image. At 12:53 p.m. on Sunday the 26th, the initial blast of the eruption sent a cloud of gas and debris an estimated 15 miles (24 km) into the air above Perboewatan.',\n",
       "  '_id': 'MARCO_8841315',\n",
       "  '_score': 1.723763}]"
      ]
     },
     "execution_count": 14,
     "metadata": {},
     "output_type": "execute_result"
    }
   ],
   "source": [
    "test.query(\"Tell me about Oslo?\")"
   ]
  },
  {
   "cell_type": "code",
   "execution_count": 15,
   "metadata": {},
   "outputs": [
    {
     "data": {
      "text/plain": [
       "[{'passage': 'Refraction of Sound. Refraction is the bending of waves when they enter a medium where their speed is different. Refraction is not so important a phenomenon with sound as it is with light where it is responsible for image formation by lenses, the eye, cameras, etc.But bending of sound waves does occur and is an interesting phenomena in sound.efraction of Sound. Refraction is the bending of waves when they enter a medium where their speed is different. Refraction is not so important a phenomenon with sound as it is with light where it is responsible for image formation by lenses, the eye, cameras, etc.',\n",
       "  '_id': 'MARCO_8841012',\n",
       "  '_score': 4.786257},\n",
       " {'passage': \"Hawaii Five-O star Alex O'Loughlin is off the market. The 37-year-old actor wed his girlfriend Malia Jones recently, according to People. The couple tied the knot in Hawaii, where they live and where he films his series on which he plays Lt. Commander Steve McGarrett. Scroll down for video. Newlyweds: Alex O'Loughlin married the mother of his young son recently in Hawaii, where the couple lives.\",\n",
       "  '_id': 'MARCO_8841746',\n",
       "  '_score': 4.4083433},\n",
       " {'passage': 'In other words, a sump pump or drain must be provided. Where the NBCC is being enforced, a pump can not be provided. The pump or drain discharge must be indirect waste, discharge to grade, discharge to storm (where permitted by the AHJ) or otherwise prevent water, gas, or oders from entering the elevator shaft/pit.',\n",
       "  '_id': 'MARCO_8841172',\n",
       "  '_score': 4.236869},\n",
       " {'passage': \"'Knots' are probably the most common defect in timber. Knots occur where a branch has grown out of the trunk. A lot of knots means the timber is difficult to work and is weakened.Knots' are probably the most common defect in timber. Knots occur where a branch has grown out of the trunk. A lot of knots means the timber is difficult to work and is weakened.\",\n",
       "  '_id': 'MARCO_8841019',\n",
       "  '_score': 4.1433325},\n",
       " {'passage': 'The 37-year-old actor wed his girlfriend Malia Jones recently, according to People. The couple tied the knot in Hawaii, where they live and where he films his series on which he plays Lt. Commander Steve McGarrett. They are parents to 18-month-old son Lion and they each have a child from a previous relationship.',\n",
       "  '_id': 'MARCO_8841744',\n",
       "  '_score': 4.0832357},\n",
       " {'passage': \"Best Answer: The first year for the 95% copper cent was 1864. The only year between 1864 and 1982 where it wasn't copper was 1943, when it was made out of steel (the copper was considered a vital war material). From 1857 through early 1864, the cent was made out of 88% copper and 12% nickel. Before that, it was essentially pure copper (there were often impurities, depending on where they got it from). For Canadian cents, the last year for the bronze cents was 1996.\",\n",
       "  '_id': 'MARCO_8841295',\n",
       "  '_score': 3.7068748},\n",
       " {'passage': \"The Young and the Restless fans would know Greg by his portrayal of Kevin Fisher on the CBS soap where he's starred since 2003. The actor won an Emmy Award for his role in 2005.\",\n",
       "  '_id': 'MARCO_8841672',\n",
       "  '_score': 3.600043},\n",
       " {'passage': 'Combining Forms Relating to Orofacial Areas .................................................................73. Given this heritage, medical terminology is often considered a foreign language. And, in many. ways, it is. Imagine going to a different country where you are unable to communicate effective-. ly.',\n",
       "  '_id': 'MARCO_8841616',\n",
       "  '_score': 3.510265},\n",
       " {'passage': 'Read MoreThe procrastination penalty for retirement savers. If a worker is investing in both an after-tax Roth TSP (where withdrawals are tax-free), as well as a pretax TSP, then the $18,000 contribution limit applies to the amalgamation of both accounts.',\n",
       "  '_id': 'MARCO_8840854',\n",
       "  '_score': 3.4670343},\n",
       " {'passage': 'function prototype is declaration of function without its body and ends with a semicolon. The return type, parameter type and their order are specified. Where as function sigâ\\x80¦nature does not give you return type for overloading. This is not the concept in c by the way.',\n",
       "  '_id': 'MARCO_8841260',\n",
       "  '_score': 3.4248557},\n",
       " {'passage': \"1 First, so that fireworks go where you intend to and don't fly in a random direction, causing fires, property damage, or injuries. 2  Second, because it helps display organizers to position firework effects with accuracy and precision.\",\n",
       "  '_id': 'MARCO_8841815',\n",
       "  '_score': 3.4248557},\n",
       " {'passage': 'Domains of hydrology include hydrometeorology, surface hydrology, hydrogeology, drainage basin management and water quality, where water plays the central role. Oceanography and meteorology are not included because water is only one of many important aspects within those fields.',\n",
       "  '_id': 'MARCO_8841127',\n",
       "  '_score': 3.3435035},\n",
       " {'passage': 'It may affect part or all of one lung. It is a condition where the alveoli are deflated, as distinct from pulmonary consolidation. It is a very common finding in chest x-rays and other radiological studies. It may be caused by normal exhalation or by several medical conditions.',\n",
       "  '_id': 'MARCO_8841587',\n",
       "  '_score': 3.3435035},\n",
       " {'passage': 'A:Here are some predictions from the Department of Labor:Employment of conservation scientists and foresters is expected to grow about as fast as the average for all occupations through 2008. Growth should be strongest in State and local governments and in research and testing services, where demand ...read more.',\n",
       "  '_id': 'MARCO_8840958',\n",
       "  '_score': 3.3042598},\n",
       " {'passage': \"The OP is referring to raw voice where glass shatters around them kind of thing. Not necessarily; in the ad, the singer's original, natural, unaided voice shattered glass...and only then did a recording of the sound also shatter glass. It was a claim of tonal fidelity in reproduction, not of volume.\",\n",
       "  '_id': 'MARCO_8841108',\n",
       "  '_score': 3.2659264},\n",
       " {'passage': 'Â· Anglo is also used in non-Hispanic contexts. In Canada, where its usage dates at least to 1800, the distinction is between persons of English and French ancestry. And in American historical contexts Anglo is normally used more strictly to refer to persons of English heritage.',\n",
       "  '_id': 'MARCO_8841209',\n",
       "  '_score': 3.2659264},\n",
       " {'passage': 'A/B Testing. Definition. A marketing experiment where two variations of a landing page, ad, email or other piece of online content are pitted against each other to determine which produces the highest conversion rate. A/B testing is the key to optimizing your marketing campaign.',\n",
       "  '_id': 'MARCO_8840895',\n",
       "  '_score': 3.2284727},\n",
       " {'passage': 'General monsoon circulation. Monsoons, like most other winds, occur in response to the Sun heating the atmosphere. In their simplest form, monsoons are caused by differences in temperatures between the oceans and continents. They are most likely to form where a large continental landmass meets a major ocean basin.',\n",
       "  '_id': 'MARCO_8841153',\n",
       "  '_score': 3.2284727},\n",
       " {'passage': 'Observations of hydrologic processes are used to make predictions of the future behaviour of hydrologic systems (water flow, water quality). One of the major current concerns in hydrologic research is Prediction in Ungauged Basins (PUB), i.e. in basins where no or only very few data exist. Statistical hydrology',\n",
       "  '_id': 'MARCO_8841128',\n",
       "  '_score': 3.1918678},\n",
       " {'passage': 'Data can be distributed (spread out) in different ways. But there are many cases where the data tends to be around a central value with no bias left or right, and it gets close to a Normal Distribution like this: A Normal Distribution. The Bell Curve is a Normal Distribution. And the yellow histogram shows some data that.',\n",
       "  '_id': 'MARCO_8841807',\n",
       "  '_score': 3.1918678},\n",
       " {'passage': 'General Holden Information Worcester County where Holden resides is 1,579.02 square miles. The resident population of this county is 750,963 and has a population rank of 65 out of all the places in the United States. Holden has a total of 12,642 people and of those residents there are 6,055 males and 6,587 females.',\n",
       "  '_id': 'MARCO_8841181',\n",
       "  '_score': 3.156084},\n",
       " {'passage': 'Astronomy Tower, where class is held. Location and time. Astronomy classes take place in the top-most level of the Astronomy Tower, the tallest tower in Hogwarts Castle, and include sky observation sessions with telescopes (each student has to buy one of his/her own). Lesson times',\n",
       "  '_id': 'MARCO_8841325',\n",
       "  '_score': 3.156084},\n",
       " {'passage': 'This is where we want our formatted text to display. Then open the text formula via the formula tab. Choose cell A2 in the value field to convert the first date and then type in â\\x80\\x9cmâ\\x80\\x9d in the format text field to convert our date to a single digit number that represents the month.',\n",
       "  '_id': 'MARCO_8841573',\n",
       "  '_score': 3.156084},\n",
       " {'passage': \"Timber is a natural product and is usually not free from imperfections. However what is an imperfection to one person may be a feature or an embellishment to another.Knots' are probably the most common defect in timber. Knots occur where a branch has grown out of the trunk. A lot of knots means the timber is difficult to work and is weakened.\",\n",
       "  '_id': 'MARCO_8841015',\n",
       "  '_score': 3.1210935},\n",
       " {'passage': 'Hello, Welcome to Healthcare Magic and thank you for writing to us. Dry mouth, dry eyes, shortness of breath could be related to: 1. Cardiac problems where you need to do Chest X Ray, ECHO that may be related to heart failure; optimal treatment will improve your condition.',\n",
       "  '_id': 'MARCO_8841483',\n",
       "  '_score': 3.1210935},\n",
       " {'passage': 'Oak Alley Plantation. Spend The Night. For a truly memorable stay, break free from the norm and the hustle and bustle of the city and book a cottage with us. Stay in the privacy of your very own cottage where you will have all the amenities and will feel at home. Arrive early to acquaint yourself with your surroundings.',\n",
       "  '_id': 'MARCO_8841444',\n",
       "  '_score': 3.0868707},\n",
       " {'passage': \"Astronomy is a core class and subject taught at Hogwarts School of Witchcraft and Wizardry and Uagadou School of Magic. Astronomy is a branch of magic that studies stars and the movement of planets. It is a subject where the use of practical magic during lessons isn't necessary. Uagadou students are known to be skilled in Astronomy, implying the teaching that is provided at Uagadou is excellent.\",\n",
       "  '_id': 'MARCO_8841321',\n",
       "  '_score': 3.0533898},\n",
       " {'passage': \"Here are some additional tips on how to protect your pets from rattlesnakes. 1  Always keep your dog or pet on a leash when outside of your home or away from your yard. 2  Don't let your dog wander into tall grass or thick shrubs where rattlesnakes may be hiding.\",\n",
       "  '_id': 'MARCO_8841785',\n",
       "  '_score': 3.0206275},\n",
       " {'passage': 'Frame vs. Frameless Shower Doors & Tub Enclosures. Frameless shower doors fit right in to modern bathrooms. Shower doors and tub enclosures play an important role in your bathroom. Not only do these structures keep water contained within the bath and shower where it belongs, but also they impact the overall style and decor of your space.',\n",
       "  '_id': 'MARCO_8841100',\n",
       "  '_score': 2.988561},\n",
       " {'passage': 'As a 501(c)3 organization, the goal is to continue to educate the public about the author Laura Ingalls Wilder, Little House on the Prairie Books, and life on the Prairie in the late 1800â\\x80\\x99s and early 1900â\\x80\\x99s. The museum stands on the original land where Laura Ingalls Wilder lived with her family in a one-room log cabin in 1870.',\n",
       "  '_id': 'MARCO_8841430',\n",
       "  '_score': 2.988561},\n",
       " {'passage': 'Emma is the Savior and bringer of light and happiness. She has accepted her family, her origin, her role, and her magic (Season 3a, 2, 1, 3b) and now she has sacrificed herself to save others (4b). Now, it should be heading to where Emma defeats the Darkness once and for all, which should be this season.',\n",
       "  '_id': 'MARCO_8841772',\n",
       "  '_score': 2.988561},\n",
       " {'passage': \"There are 2 sources of defects in timber (1) natural defects and; (2) defects which arise once the tree is cut down, either through poor handling or poor seasoning of the tree.Knots' are probably the most common defect in timber. Knots occur where a branch has grown out of the trunk. A lot of knots means the timber is difficult to work and is weakened.\",\n",
       "  '_id': 'MARCO_8841013',\n",
       "  '_score': 2.9264276},\n",
       " {'passage': 'You have a lot of options of where to stay if you move to this southeastern state. But, of course, if given a choice and if money is not an object, you might as well get the best home that one can buy. Here is a list of the top 10 most expensive homes in Florida. 1. 1116 Ocean Drive, Miami Beach, Florida 33139 â\\x80\\x93 $100 million',\n",
       "  '_id': 'MARCO_8841589',\n",
       "  '_score': 2.9264276},\n",
       " {'passage': 'Keep any vegetation from growing up or over the fence as snakes can use it as a way over the fence. Check under your house and around the perimeter to close any gaps or holes where a rattlesnake could hide. Fill in or block any holes or gaps were a snake can hide or slip through the fence or under your house.',\n",
       "  '_id': 'MARCO_8841783',\n",
       "  '_score': 2.9264276},\n",
       " {'passage': 'Definition - What does A/B Test mean? An A/B test is an online marketing tactic where different versions of a product are used to see which one users or consumers prefer. With online products, such as a webpage, email campaign or advertisement, A/B testing can be carried out with relative ease and yield quick results due to the instant and detailed analytics that testers receive. A/B testing is also known as split testing or bucket testing.',\n",
       "  '_id': 'MARCO_8840893',\n",
       "  '_score': 2.6508656},\n",
       " {'passage': \"'Pitch pockets' occur as a result of injury to the cambium layer(just underneath the bark) while the tree is growing. The bark of a tree can heal small damage to itself with time. However the cambium layer beneath it cannot and the damaged area fills up with resin or sap.Knots' are probably the most common defect in timber. Knots occur where a branch has grown out of the trunk. A lot of knots means the timber is difficult to work and is weakened.\",\n",
       "  '_id': 'MARCO_8841017',\n",
       "  '_score': 2.6508656},\n",
       " {'passage': \"MESQUITE TREES ï\\x82· Yuma is not necessarily know as a region for the propaga-tion of ornamental and other landscape trees, yet some niche pro-duction does occur in the area.ome herbicides are not effective or only partially effective against mesquite. Â· The tree's flowers provide a nectar source for bees to produce mesquite honey, which has a. characteristic flavor. Â· Mesquite trees grow quickly and furnish shade and wildlife habitat where other trees will not.\",\n",
       "  '_id': 'MARCO_8841021',\n",
       "  '_score': 2.6018658},\n",
       " {'passage': 'Reaction wood of broad-leaved trees, which occurs on the upper side of tilted tree trunks, is called tension wood. The reaction wood that forms in conifers, called compression wood, occurs on the lower side of inclined trees.uttress Formation. Even more dramatic effects of wind on tree form occur in the tropics. Here, the trunks of trees commonly develop enlarged bases or fluted buttresses. These structures effectively support large trees on shallow soils where anchorage by the roots is poor.',\n",
       "  '_id': 'MARCO_8841016',\n",
       "  '_score': 2.5546436},\n",
       " {'passage': 'Before assuming it is anxiety, see you GP and get a physical to rule out any other causes for your symptoms. Did you tell your doctor about the shortness of breath, and if so what did she say? Anxiety can manifest itself in us in many ways and varying degrees, but you need to rule out other health issues first. If it turns out to be anxiety, do come back, as this is where you will find a lot of support and understanding.',\n",
       "  '_id': 'MARCO_8841482',\n",
       "  '_score': 2.5546436},\n",
       " {'passage': 'Trees growing in dense forest stands become very prone to windthrow when surrounding trees are removed, exposing the remaining ones to the full force of the wind. A crucial factor in determining a trees resistance to breakage or uprooting is the air drag or sail effect of the canopy.uttress Formation. Even more dramatic effects of wind on tree form occur in the tropics. Here, the trunks of trees commonly develop enlarged bases or fluted buttresses. These structures effectively support large trees on shallow soils where anchorage by the roots is poor.',\n",
       "  '_id': 'MARCO_8841014',\n",
       "  '_score': 2.4651628},\n",
       " {'passage': \"Report Abuse. in an acid-base reaction where the base is a carbonate (CO3 or bicarbonate HCO3) three products will form: water, carbon dioxide and a salt. the carbon dioxide is what you obsered with the fizzing.CaCl2 you have correctly identified as the salt.And yes, carbonic acid is soluble. it's dissolved in soda, hence the carbonation when you open the bottle and releases the pressure.aCl2 you have correctly identified as the salt. And yes, carbonic acid is soluble. it's dissolved in soda, hence the carbonation when you open the bottle and releases the pressure.\",\n",
       "  '_id': 'MARCO_8841737',\n",
       "  '_score': 2.4651628},\n",
       " {'passage': 'Rattlesnakes are not confined to rural areas. They have been found in urban areas, on riverbanks and lakeside parks and at golf courses. The following safety precautions can be taken to reduce the likelihood of an encounter with a rattlesnake. 1  Be alert. 2  Wear sturdy boots and loose-fitting long pants. 3  Children should not wear flip-flops while playing outdoors in snake country.  When hiking, stick to well-used 1  trails. Do not step or put your hands where you cannot  see.',\n",
       "  '_id': 'MARCO_8841779',\n",
       "  '_score': 2.4651628},\n",
       " {'passage': 'Heat Exchange. In very still air during warm weather a tree is enclosed in a super-heated envelope of boundary layer air next to its surface that resists the loss of heat by conduction. Wind reduces or removes the boundary layer, increasing the rate of cooling just as a breeze has a cooling effect on us.uttress Formation. Even more dramatic effects of wind on tree form occur in the tropics. Here, the trunks of trees commonly develop enlarged bases or fluted buttresses. These structures effectively support large trees on shallow soils where anchorage by the roots is poor.',\n",
       "  '_id': 'MARCO_8841018',\n",
       "  '_score': 2.3817382},\n",
       " {'passage': 'The greatest advantage to using frameless shower doors lies in the variety of design options available. Frameless shower and tub enclosures may come in any size or style, allowing for optimal customization. The doors open in or out based on layout and design needs. With no frames to get in the way, frameless doors provide a more open, airy look, making it easy to show off beautiful tiles and other finishes. The lack of frames also makes for easier cleaning. Thanks to the heavier glass and smooth polished edges, frameless enclosures come at a premium price point compared to framed shower doors. The lack of seals and sweeps also means a greater chance of leaks, and limits where you can place the door in relation to the showerhead.',\n",
       "  '_id': 'MARCO_8841101',\n",
       "  '_score': 2.037055},\n",
       " {'passage': 'Monsoons are often associated with rainy seasons in the tropics (the areas of Earth within 23.5 degrees latitude of the equator) and the subtropics (areas between 23.5 and about 35 degrees latitude, both north and south). In these areas, life is critically dependent on the monsoon rains. A weak monsoon rainy season may cause drought, crop failures, and hardship for people and wildlife. However, heavy monsoon rains have caused massive floods that have killed thousands of people. Many parts of the world experience monsoons to some extent. Probably the most famous are the Asian monsoons, which affect India, China, Japan, and Southeast Asia. Monsoons also impact portions of central Africa, where their rain is critical to supporting life in the area south of the Sahara Desert.',\n",
       "  '_id': 'MARCO_8841155',\n",
       "  '_score': 1.979753},\n",
       " {'passage': \"Carbonic acid is unstable and decomposes to CO2 and H2O like titanium007 said. The foaming is evolution of CO2. Your equation is not completely right. The end products are CaCl2 and CO2. Carbon dioxide then reacts with water which is present to form carbonic acid, H2CO3.Excess CO2 escapes as you saw. in an acid-base reaction where the base is a carbonate (CO3 or bicarbonate HCO3) three products will form: water, carbon dioxide and a salt. the carbon dioxide is what you obsered with the fizzing.CaCl2 you have correctly identified as the salt.nd yes, carbonic acid is soluble. it's dissolved in soda, hence the carbonation when you open the bottle and releases the pressure. More Questions and Answers: The answers post by the user, for information only, FunQA.com does not guarantee the right.\",\n",
       "  '_id': 'MARCO_8841735',\n",
       "  '_score': 1.979753}]"
      ]
     },
     "execution_count": 15,
     "metadata": {},
     "output_type": "execute_result"
    }
   ],
   "source": [
    "test.query(\"Where is it?\")"
   ]
  },
  {
   "cell_type": "code",
   "execution_count": null,
   "metadata": {},
   "outputs": [],
   "source": []
  },
  {
   "cell_type": "markdown",
   "metadata": {},
   "source": [
    "#### Reranking"
   ]
  },
  {
   "cell_type": "code",
   "execution_count": 16,
   "metadata": {},
   "outputs": [
    {
     "name": "stderr",
     "output_type": "stream",
     "text": [
      "Some weights of the model checkpoint at castorini/monot5-base-msmarco were not used when initializing T5ForConditionalGeneration: ['decoder.block.0.layer.1.EncDecAttention.relative_attention_bias.weight']\n",
      "- This IS expected if you are initializing T5ForConditionalGeneration from the checkpoint of a model trained on another task or with another architecture (e.g. initializing a BertForSequenceClassification model from a BertForPreTraining model).\n",
      "- This IS NOT expected if you are initializing T5ForConditionalGeneration from the checkpoint of a model that you expect to be exactly identical (initializing a BertForSequenceClassification model from a BertForSequenceClassification model).\n"
     ]
    }
   ],
   "source": [
    "cast = CAsT(context_queries=3, reranking=True)"
   ]
  },
  {
   "cell_type": "code",
   "execution_count": 17,
   "metadata": {},
   "outputs": [
    {
     "name": "stdout",
     "output_type": "stream",
     "text": [
      "RERANKING\n"
     ]
    },
    {
     "name": "stderr",
     "output_type": "stream",
     "text": [
      "/Users/aleksanderdrzewiecki/opt/anaconda3/envs/cast/lib/python3.8/site-packages/transformers/models/t5/tokenization_t5.py:183: UserWarning: This sequence already has </s>. In future versions this behavior may lead to duplicated eos tokens being added.\n",
      "  warnings.warn(\n"
     ]
    }
   ],
   "source": [
    "ret = cast.query(\"How do you know when your garage door opener is going bad?\")"
   ]
  },
  {
   "cell_type": "code",
   "execution_count": 18,
   "metadata": {},
   "outputs": [
    {
     "data": {
      "text/plain": [
       "{'passage': 'Frame vs. Frameless Shower Doors & Tub Enclosures. Frameless shower doors fit right in to modern bathrooms. Shower doors and tub enclosures play an important role in your bathroom. Not only do these structures keep water contained within the bath and shower where it belongs, but also they impact the overall style and decor of your space.',\n",
       " '_id': 'MARCO_8841100',\n",
       " '_score': -14.476116180419922}"
      ]
     },
     "execution_count": 18,
     "metadata": {},
     "output_type": "execute_result"
    }
   ],
   "source": [
    "ret[0]"
   ]
  },
  {
   "cell_type": "markdown",
   "metadata": {},
   "source": [
    "## Run Queries"
   ]
  },
  {
   "cell_type": "code",
   "execution_count": null,
   "metadata": {},
   "outputs": [],
   "source": [
    "path = \"../eval/2020_automatic_evaluation_topics_v1.0.json\"\n",
    "key = \"raw_utterance\""
   ]
  },
  {
   "cell_type": "code",
   "execution_count": 20,
   "metadata": {},
   "outputs": [],
   "source": [
    "def run_queries(query_file: str, key: str, CAsT: object, run_id: str):\n",
    "    queries = json.load(open(query_file))\n",
    "    if queries[0].get(\"turn\", {})[0].get(key) is None:\n",
    "        raise KeyError(\"Provided key: \" + key +\n",
    "                       \"is not a valid key for queryfile\")\n",
    "    total_num = len(queries)\n",
    "    f = open(run_id + \".trec\", \"w\")\n",
    "\n",
    "    for i, topic in enumerate(queries):\n",
    "        print(\"Topic: {}/{}\".format(i+1, total_num))\n",
    "        CAsT.clear_context()\n",
    "        topic_id = topic.get(\"number\")\n",
    "        for turn in topic.get(\"turn\"):\n",
    "            turn_id = turn.get(\"number\")\n",
    "            hits = CAsT.query(turn.get(key))\n",
    "            for j, hit in enumerate(hits):\n",
    "                f.write(str(topic_id) + \"_\" + str(turn_id) + \"\\t\" + \"Q0\" + \"\\t\" + str(hit.get(\"_id\")) +\n",
    "                        \"\\t\" + str(j) + \"\\t\" + str(hit.get(\"_score\")) + \"\\t\" + str(run_id) + \"\\n\")\n",
    "    f.close()"
   ]
  },
  {
   "cell_type": "code",
   "execution_count": 21,
   "metadata": {},
   "outputs": [],
   "source": [
    "# Base\n",
    "## Reranking FALSE\n",
    "qc0_qr0_rrF_base = CAsT(context_queries=0, context_responses= 0, reranking=False, index_name=\"cast_base\")\n",
    "qc3_qr0_rrF_base = CAsT(context_queries=3, context_responses= 0, reranking=False, index_name=\"cast_base\")\n",
    "qc0_qr3_rrF_base = CAsT(context_queries= 0, context_responses==3, reranking=False, index_name=\"cast_base\")\n",
    "## Reranking TRUE\n",
    "qc0_qr0_rrT_base = CAsT(context_queries=0, context_responses= 0, reranking=True, index_name=\"cast_base\")\n",
    "qc3_qr0_rrT_base = CAsT(context_queries=3, context_responses= 0, reranking=True, index_name=\"cast_base\")\n",
    "qc0_qr3_rrT_base = CAsT(context_queries= 0, context_responses==3, reranking=True, index_name=\"cast_base\")\n",
    "\n",
    "\n",
    "# d2q\n",
    "qc0_qr0_rrF_d2q = CAsT(context_queries==0, reranking=False, index_name=\"cast_d2q\")\n",
    "qc0_qr0_rrT_d2q = CAsT(context_queries==0, reranking=True, index_name=\"cast_d2q\")\n",
    "qc3_qr0_rrF_d2q = CAsT(context_queries==3, reranking=False, index_name=\"cast_d2q\")\n",
    "qc3_qr0_rrT_d2q = CAsT(context_queries==3, reranking=True, index_name=\"cast_d2q\")\n",
    "qc0_qr3_rrF_d2q = CAsT(context_responses==5, reranking=False, index_name=\"cast_d2q\")\n",
    "qc0_qr3_rrT_d2q = CAsT(context_responses==5, reranking=True, index_name=\"cast_d2q\")"
   ]
  },
  {
   "cell_type": "code",
   "execution_count": 22,
   "metadata": {},
   "outputs": [
    {
     "name": "stdout",
     "output_type": "stream",
     "text": [
      "Topic: 1/25\n",
      "Topic: 2/25\n",
      "Topic: 3/25\n",
      "Topic: 4/25\n",
      "Topic: 5/25\n",
      "Topic: 6/25\n",
      "Topic: 7/25\n",
      "Topic: 8/25\n",
      "Topic: 9/25\n"
     ]
    }
   ],
   "source": [
    "run_queries(path, key=key, CAsT=test_obj, run_id=\"Test02\")"
   ]
  },
  {
   "cell_type": "markdown",
   "metadata": {},
   "source": [
    "## Future testing "
   ]
  },
  {
   "cell_type": "code",
   "execution_count": 196,
   "metadata": {},
   "outputs": [
    {
     "name": "stderr",
     "output_type": "stream",
     "text": [
      "/var/folders/9c/qnbpggzx09q06mddxfqxb2yw0000gn/T/ipykernel_17415/1628959473.py:12: DeprecationWarning: The 'body' parameter is deprecated for the 'search' API and will be removed in 8.0.0. Instead use API parameters directly. See https://github.com/elastic/elasticsearch-py/issues/1698 for more information\n",
      "  es.search(index=INDEX_NAME, body=query)\n",
      "/Users/aleksanderdrzewiecki/opt/anaconda3/envs/ele510/lib/python3.9/site-packages/elasticsearch/connection/base.py:209: ElasticsearchWarning: Elasticsearch built-in security features are not enabled. Without authentication, your cluster could be accessible to anyone. See https://www.elastic.co/guide/en/elasticsearch/reference/7.15/security-minimal-setup.html to enable security.\n",
      "  warnings.warn(message, category=ElasticsearchWarning)\n"
     ]
    },
    {
     "data": {
      "text/plain": [
       "{'took': 1544,\n",
       " 'timed_out': False,\n",
       " '_shards': {'total': 1, 'successful': 1, 'skipped': 0, 'failed': 0},\n",
       " 'hits': {'total': {'value': 360, 'relation': 'eq'},\n",
       "  'max_score': 12.617959,\n",
       "  'hits': [{'_index': 'cast_base',\n",
       "    '_type': '_doc',\n",
       "    '_id': '8841100',\n",
       "    '_score': 12.617959,\n",
       "    '_source': {'passage': 'Frame vs. Frameless Shower Doors & Tub Enclosures. Frameless shower doors fit right in to modern bathrooms. Shower doors and tub enclosures play an important role in your bathroom. Not only do these structures keep water contained within the bath and shower where it belongs, but also they impact the overall style and decor of your space.'},\n",
       "    'highlight': {'passage': ['Frameless Shower <em>Doors</em> & Tub Enclosures. Frameless shower <em>doors</em> fit right in to modern bathrooms.',\n",
       "      'Shower <em>doors</em> and tub enclosures play an important role in <em>your</em> bathroom.',\n",
       "      'Not only <em>do</em> these structures keep water contained within the bath and shower where it belongs, but also',\n",
       "      'they impact the overall style and decor of <em>your</em> space.']}},\n",
       "   {'_index': 'cast_base',\n",
       "    '_type': '_doc',\n",
       "    '_id': '8841101',\n",
       "    '_score': 11.530061,\n",
       "    '_source': {'passage': 'The greatest advantage to using frameless shower doors lies in the variety of design options available. Frameless shower and tub enclosures may come in any size or style, allowing for optimal customization. The doors open in or out based on layout and design needs. With no frames to get in the way, frameless doors provide a more open, airy look, making it easy to show off beautiful tiles and other finishes. The lack of frames also makes for easier cleaning. Thanks to the heavier glass and smooth polished edges, frameless enclosures come at a premium price point compared to framed shower doors. The lack of seals and sweeps also means a greater chance of leaks, and limits where you can place the door in relation to the showerhead.'},\n",
       "    'highlight': {'passage': ['The greatest advantage to using frameless shower <em>doors</em> lies in the variety of design options available',\n",
       "      'The <em>doors</em> <em>open</em> in or out based on layout and design needs.',\n",
       "      'With no frames to get in the way, frameless <em>doors</em> provide a more <em>open</em>, airy look, making it easy to show',\n",
       "      'The lack of seals and sweeps also means a greater chance of leaks, and limits where <em>you</em> can place the',\n",
       "      '<em>door</em> in relation to the showerhead.']}},\n",
       "   {'_index': 'cast_base',\n",
       "    '_type': '_doc',\n",
       "    '_id': '8841106',\n",
       "    '_score': 11.167291,\n",
       "    '_source': {'passage': 'Frameless Vs. Framed Shower Door Costs. While frameless glass shower doors are gaining steam across the country, many homeowners still utilize your typical framed shower door. To no surprise, framed glass shower doors cost less than their frameless counterparts. According to our estimator, you can save between $200 and $500 on your total project. Frameless shower doors are more expensive because the glass is thicker and they require special hardware.'},\n",
       "    'highlight': {'passage': ['Framed Shower <em>Door</em> Costs.',\n",
       "      'While frameless glass shower <em>doors</em> are gaining steam across the country, many homeowners still utilize',\n",
       "      '<em>your</em> typical framed shower <em>door</em>.',\n",
       "      'To no surprise, framed glass shower <em>doors</em> cost less than their frameless counterparts.',\n",
       "      'According to our estimator, <em>you</em> can save between $200 and $500 on <em>your</em> total project.']}},\n",
       "   {'_index': 'cast_base',\n",
       "    '_type': '_doc',\n",
       "    '_id': '8841725',\n",
       "    '_score': 11.146344,\n",
       "    '_source': {'passage': 'OneDrive on any device, any time. When you save your files to OneDrive, you can access them from all your favourite devices, including PCs, Macs, tablets and mobile phones. Sign in Sign up Get your referral bonus Go to my OneDrive. Get 15 GB for free. Office Online included.'},\n",
       "    'highlight': {'passage': ['<em>When</em> <em>you</em> save <em>your</em> files to OneDrive, <em>you</em> can access them from all <em>your</em> favourite devices, including',\n",
       "      'Sign in Sign up Get <em>your</em> referral bonus <em>Go</em> to my OneDrive. Get 15 GB for free.']}},\n",
       "   {'_index': 'cast_base',\n",
       "    '_type': '_doc',\n",
       "    '_id': '8841103',\n",
       "    '_score': 11.115451,\n",
       "    '_source': {'passage': 'Find A Shower Contractor; Frameless Shower Door Cost. As you might expect, frameless shower doors cost more than your typical glass shower door. In fact, the average cost of a frameless glass shower door installation is $1,000. However, we have seen frameless glass shower door installs cost as low as $900 or as high as $1,300.'},\n",
       "    'highlight': {'passage': ['Find A Shower Contractor; Frameless Shower <em>Door</em> Cost.',\n",
       "      'As <em>you</em> might expect, frameless shower <em>doors</em> cost more than <em>your</em> typical glass shower <em>door</em>.',\n",
       "      'In fact, the average cost of a frameless glass shower <em>door</em> installation is $1,000.',\n",
       "      'However, we have seen frameless glass shower <em>door</em> installs cost as low as $900 or as high as $1,300.']}},\n",
       "   {'_index': 'cast_base',\n",
       "    '_type': '_doc',\n",
       "    '_id': '8841740',\n",
       "    '_score': 10.905427,\n",
       "    '_source': {'passage': 'Carbonic acid is a weak acid that is produced when carbon dioxide is dissolved in water. As you probably know, our atmosphere has a lot of carbon dioxide in it.It is also thoroughly saturated with water.From this, we might deduce that we live in a rather acidic environment â\\x80\\x94 and we do.arbonic acid is a weak acid that is produced when carbon dioxide is dissolved in water. As you probably know, our atmosphere has a lot of carbon dioxide in it. It is also thoroughly saturated with water. From this, we might deduce that we live in a rather acidic environment â\\x80\\x94 and we do.'},\n",
       "    'highlight': {'passage': ['Carbonic acid is a weak acid that is produced <em>when</em> carbon dioxide is dissolved in water.',\n",
       "      'As <em>you</em> probably <em>know</em>, our atmosphere has a lot of carbon dioxide in it.It is also thoroughly saturated',\n",
       "      'that we live in a rather acidic environment â\\x80\\x94 and we do.arbonic acid is a weak acid that is produced <em>when</em>',\n",
       "      'As <em>you</em> probably <em>know</em>, our atmosphere has a lot of carbon dioxide in it.',\n",
       "      'From this, we might deduce that we live in a rather acidic environment â\\x80\\x94 and we <em>do</em>.']}},\n",
       "   {'_index': 'cast_base',\n",
       "    '_type': '_doc',\n",
       "    '_id': '8841532',\n",
       "    '_score': 10.829366,\n",
       "    '_source': {'passage': 'If you are making your laminate flooring a DIY project, you might wonder â\\x80\\x9cwhat is the right direction to install my laminate flooring?â\\x80\\x9d When deciding the direction to install laminate flooring, I always let people know they have multiple options, but in the end, it is all about your personal taste and preference.'},\n",
       "    'highlight': {'passage': ['If <em>you</em> are making <em>your</em> laminate flooring a DIY project, <em>you</em> might wonder â\\x80\\x9cwhat is the right direction',\n",
       "      'â\\x80\\x9d <em>When</em> deciding the direction to install laminate flooring, I always let people <em>know</em> they have multiple',\n",
       "      'options, but in the end, it is all about <em>your</em> personal taste and preference.']}},\n",
       "   {'_index': 'cast_base',\n",
       "    '_type': '_doc',\n",
       "    '_id': '8841081',\n",
       "    '_score': 10.755478,\n",
       "    '_source': {'passage': \"In this article. Cluster headaches are a series of relatively short but extremely painful headaches every day for weeks or months at a time. You tend to get them at the same time each year, such as the spring or fall. Because of their seasonal nature, people often mistake cluster headaches for symptoms of allergies or business stress. We don't know what causes them, but we do know that a nerve in your face is involved, creating intense pain around one of your eyes.\"},\n",
       "    'highlight': {'passage': ['<em>You</em> tend to get them at the same time each year, such as the spring or fall.',\n",
       "      \"We don't <em>know</em> what causes them, but we <em>do</em> <em>know</em> that a nerve in <em>your</em> face is involved, creating intense\",\n",
       "      'pain around one of <em>your</em> eyes.']}},\n",
       "   {'_index': 'cast_base',\n",
       "    '_type': '_doc',\n",
       "    '_id': '8841255',\n",
       "    '_score': 10.49656,\n",
       "    '_source': {'passage': \"1 When you've finished you music video, share it! 2  Upload it to a video streaming site (see: How to Upload a Video to YouTube) and share the link with your friends and family. 3  If you're really confident in your work's quality, share your video with radio stations and music television channels. Silence your video when you put the music over it, so that no background noise interferes. 2  If you can't get all of the items necessary for filming a music video, ask a crew member or a friend if they have the item.\"},\n",
       "    'highlight': {'passage': [\"1 <em>When</em> you've finished <em>you</em> music video, share it!\",\n",
       "      '2  Upload it to a video streaming site (see: <em>How</em> to Upload a Video to YouTube) and share the link with',\n",
       "      \"<em>your</em> friends and family. 3  If you're really confident in <em>your</em> work's quality, share <em>your</em> video with\",\n",
       "      'Silence <em>your</em> video <em>when</em> <em>you</em> put the music over it, so that no background noise interferes. 2  If <em>you</em>']}},\n",
       "   {'_index': 'cast_base',\n",
       "    '_type': '_doc',\n",
       "    '_id': '8840962',\n",
       "    '_score': 10.46888,\n",
       "    '_source': {'passage': 'So, how do you start the process of becoming a graduate forester? Q: Do you have to be a forester to have a career in the forest? A: I frequently get employment, career and job questions on forestry and becoming a forester or forestry technician.'},\n",
       "    'highlight': {'passage': ['So, <em>how</em> <em>do</em> <em>you</em> start the process of becoming a graduate forester?',\n",
       "      'Q: <em>Do</em> <em>you</em> have to be a forester to have a career in the forest?']}}]}}"
      ]
     },
     "execution_count": 196,
     "metadata": {},
     "output_type": "execute_result"
    }
   ],
   "source": [
    "q = \"How do you know when your garage door opener is going bad?\"\n",
    "query = {\n",
    "  \"query\": {\n",
    "    \"match\": { \"passage\": q }\n",
    "  },\n",
    "  \"highlight\": {\n",
    "    \"fields\": {\n",
    "      \"passage\": {}\n",
    "    }\n",
    "  }\n",
    "}\n",
    "es.search(index=INDEX_NAME, body=query)"
   ]
  },
  {
   "cell_type": "markdown",
   "metadata": {},
   "source": [
    "## Reranking"
   ]
  },
  {
   "cell_type": "markdown",
   "metadata": {},
   "source": []
  }
 ],
 "metadata": {
  "interpreter": {
   "hash": "cd14fd67b6e04dc75a62665c7f630abe1747664dae3d4c5a81ce4213693fd44a"
  },
  "kernelspec": {
   "display_name": "Python 3.9.7 64-bit ('ele510': conda)",
   "language": "python",
   "name": "python3"
  },
  "language_info": {
   "codemirror_mode": {
    "name": "ipython",
    "version": 3
   },
   "file_extension": ".py",
   "mimetype": "text/x-python",
   "name": "python",
   "nbconvert_exporter": "python",
   "pygments_lexer": "ipython3",
   "version": "3.8.5"
  },
  "orig_nbformat": 4
 },
 "nbformat": 4,
 "nbformat_minor": 2
}
